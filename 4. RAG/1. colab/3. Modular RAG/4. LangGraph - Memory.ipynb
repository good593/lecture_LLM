{
 "cells": [
  {
   "cell_type": "markdown",
   "metadata": {
    "id": "69J9opGOP5ol"
   },
   "source": [
    "# Setup"
   ]
  },
  {
   "cell_type": "markdown",
   "metadata": {
    "id": "lqdqeq5sQS9Y"
   },
   "source": [
    "## Install"
   ]
  },
  {
   "cell_type": "code",
   "execution_count": 1,
   "metadata": {
    "colab": {
     "base_uri": "https://localhost:8080/"
    },
    "executionInfo": {
     "elapsed": 27460,
     "status": "ok",
     "timestamp": 1741437542960,
     "user": {
      "displayName": "조경원",
      "userId": "10205523497785796707"
     },
     "user_tz": -540
    },
    "id": "TaNWRKfJyGmO",
    "outputId": "68433c26-3f9c-4253-f5dd-d4a27c56ce9e"
   },
   "outputs": [
    {
     "name": "stdout",
     "output_type": "stream",
     "text": [
      "Requirement already satisfied: langchain in /usr/local/lib/python3.11/dist-packages (0.3.19)\n",
      "Collecting langchain\n",
      "  Downloading langchain-0.3.20-py3-none-any.whl.metadata (7.7 kB)\n",
      "Collecting langchain-community\n",
      "  Downloading langchain_community-0.3.19-py3-none-any.whl.metadata (2.4 kB)\n",
      "Requirement already satisfied: langchain-core in /usr/local/lib/python3.11/dist-packages (0.3.40)\n",
      "Collecting langchain-core\n",
      "  Downloading langchain_core-0.3.43-py3-none-any.whl.metadata (5.9 kB)\n",
      "Collecting langgraph\n",
      "  Downloading langgraph-0.3.5-py3-none-any.whl.metadata (17 kB)\n",
      "Collecting langchain-openai\n",
      "  Downloading langchain_openai-0.3.8-py3-none-any.whl.metadata (2.3 kB)\n",
      "Requirement already satisfied: langchain-text-splitters<1.0.0,>=0.3.6 in /usr/local/lib/python3.11/dist-packages (from langchain) (0.3.6)\n",
      "Requirement already satisfied: langsmith<0.4,>=0.1.17 in /usr/local/lib/python3.11/dist-packages (from langchain) (0.3.11)\n",
      "Requirement already satisfied: pydantic<3.0.0,>=2.7.4 in /usr/local/lib/python3.11/dist-packages (from langchain) (2.10.6)\n",
      "Requirement already satisfied: SQLAlchemy<3,>=1.4 in /usr/local/lib/python3.11/dist-packages (from langchain) (2.0.38)\n",
      "Requirement already satisfied: requests<3,>=2 in /usr/local/lib/python3.11/dist-packages (from langchain) (2.32.3)\n",
      "Requirement already satisfied: PyYAML>=5.3 in /usr/local/lib/python3.11/dist-packages (from langchain) (6.0.2)\n",
      "Requirement already satisfied: aiohttp<4.0.0,>=3.8.3 in /usr/local/lib/python3.11/dist-packages (from langchain-community) (3.11.13)\n",
      "Requirement already satisfied: tenacity!=8.4.0,<10,>=8.1.0 in /usr/local/lib/python3.11/dist-packages (from langchain-community) (9.0.0)\n",
      "Collecting dataclasses-json<0.7,>=0.5.7 (from langchain-community)\n",
      "  Downloading dataclasses_json-0.6.7-py3-none-any.whl.metadata (25 kB)\n",
      "Collecting pydantic-settings<3.0.0,>=2.4.0 (from langchain-community)\n",
      "  Downloading pydantic_settings-2.8.1-py3-none-any.whl.metadata (3.5 kB)\n",
      "Collecting httpx-sse<1.0.0,>=0.4.0 (from langchain-community)\n",
      "  Downloading httpx_sse-0.4.0-py3-none-any.whl.metadata (9.0 kB)\n",
      "Requirement already satisfied: numpy<3,>=1.26.2 in /usr/local/lib/python3.11/dist-packages (from langchain-community) (1.26.4)\n",
      "Requirement already satisfied: jsonpatch<2.0,>=1.33 in /usr/local/lib/python3.11/dist-packages (from langchain-core) (1.33)\n",
      "Requirement already satisfied: packaging<25,>=23.2 in /usr/local/lib/python3.11/dist-packages (from langchain-core) (24.2)\n",
      "Requirement already satisfied: typing-extensions>=4.7 in /usr/local/lib/python3.11/dist-packages (from langchain-core) (4.12.2)\n",
      "Collecting langgraph-checkpoint<3.0.0,>=2.0.10 (from langgraph)\n",
      "  Downloading langgraph_checkpoint-2.0.18-py3-none-any.whl.metadata (4.6 kB)\n",
      "Collecting langgraph-prebuilt<0.2,>=0.1.1 (from langgraph)\n",
      "  Downloading langgraph_prebuilt-0.1.2-py3-none-any.whl.metadata (5.0 kB)\n",
      "Collecting langgraph-sdk<0.2.0,>=0.1.42 (from langgraph)\n",
      "  Downloading langgraph_sdk-0.1.55-py3-none-any.whl.metadata (1.8 kB)\n",
      "Requirement already satisfied: openai<2.0.0,>=1.58.1 in /usr/local/lib/python3.11/dist-packages (from langchain-openai) (1.61.1)\n",
      "Collecting tiktoken<1,>=0.7 (from langchain-openai)\n",
      "  Downloading tiktoken-0.9.0-cp311-cp311-manylinux_2_17_x86_64.manylinux2014_x86_64.whl.metadata (6.7 kB)\n",
      "Requirement already satisfied: aiohappyeyeballs>=2.3.0 in /usr/local/lib/python3.11/dist-packages (from aiohttp<4.0.0,>=3.8.3->langchain-community) (2.4.6)\n",
      "Requirement already satisfied: aiosignal>=1.1.2 in /usr/local/lib/python3.11/dist-packages (from aiohttp<4.0.0,>=3.8.3->langchain-community) (1.3.2)\n",
      "Requirement already satisfied: attrs>=17.3.0 in /usr/local/lib/python3.11/dist-packages (from aiohttp<4.0.0,>=3.8.3->langchain-community) (25.1.0)\n",
      "Requirement already satisfied: frozenlist>=1.1.1 in /usr/local/lib/python3.11/dist-packages (from aiohttp<4.0.0,>=3.8.3->langchain-community) (1.5.0)\n",
      "Requirement already satisfied: multidict<7.0,>=4.5 in /usr/local/lib/python3.11/dist-packages (from aiohttp<4.0.0,>=3.8.3->langchain-community) (6.1.0)\n",
      "Requirement already satisfied: propcache>=0.2.0 in /usr/local/lib/python3.11/dist-packages (from aiohttp<4.0.0,>=3.8.3->langchain-community) (0.3.0)\n",
      "Requirement already satisfied: yarl<2.0,>=1.17.0 in /usr/local/lib/python3.11/dist-packages (from aiohttp<4.0.0,>=3.8.3->langchain-community) (1.18.3)\n",
      "Collecting marshmallow<4.0.0,>=3.18.0 (from dataclasses-json<0.7,>=0.5.7->langchain-community)\n",
      "  Downloading marshmallow-3.26.1-py3-none-any.whl.metadata (7.3 kB)\n",
      "Collecting typing-inspect<1,>=0.4.0 (from dataclasses-json<0.7,>=0.5.7->langchain-community)\n",
      "  Downloading typing_inspect-0.9.0-py3-none-any.whl.metadata (1.5 kB)\n",
      "Requirement already satisfied: jsonpointer>=1.9 in /usr/local/lib/python3.11/dist-packages (from jsonpatch<2.0,>=1.33->langchain-core) (3.0.0)\n",
      "Requirement already satisfied: msgpack<2.0.0,>=1.1.0 in /usr/local/lib/python3.11/dist-packages (from langgraph-checkpoint<3.0.0,>=2.0.10->langgraph) (1.1.0)\n",
      "Requirement already satisfied: httpx>=0.25.2 in /usr/local/lib/python3.11/dist-packages (from langgraph-sdk<0.2.0,>=0.1.42->langgraph) (0.28.1)\n",
      "Requirement already satisfied: orjson>=3.10.1 in /usr/local/lib/python3.11/dist-packages (from langgraph-sdk<0.2.0,>=0.1.42->langgraph) (3.10.15)\n",
      "Requirement already satisfied: requests-toolbelt<2.0.0,>=1.0.0 in /usr/local/lib/python3.11/dist-packages (from langsmith<0.4,>=0.1.17->langchain) (1.0.0)\n",
      "Requirement already satisfied: zstandard<0.24.0,>=0.23.0 in /usr/local/lib/python3.11/dist-packages (from langsmith<0.4,>=0.1.17->langchain) (0.23.0)\n",
      "Requirement already satisfied: anyio<5,>=3.5.0 in /usr/local/lib/python3.11/dist-packages (from openai<2.0.0,>=1.58.1->langchain-openai) (3.7.1)\n",
      "Requirement already satisfied: distro<2,>=1.7.0 in /usr/local/lib/python3.11/dist-packages (from openai<2.0.0,>=1.58.1->langchain-openai) (1.9.0)\n",
      "Requirement already satisfied: jiter<1,>=0.4.0 in /usr/local/lib/python3.11/dist-packages (from openai<2.0.0,>=1.58.1->langchain-openai) (0.8.2)\n",
      "Requirement already satisfied: sniffio in /usr/local/lib/python3.11/dist-packages (from openai<2.0.0,>=1.58.1->langchain-openai) (1.3.1)\n",
      "Requirement already satisfied: tqdm>4 in /usr/local/lib/python3.11/dist-packages (from openai<2.0.0,>=1.58.1->langchain-openai) (4.67.1)\n",
      "Requirement already satisfied: annotated-types>=0.6.0 in /usr/local/lib/python3.11/dist-packages (from pydantic<3.0.0,>=2.7.4->langchain) (0.7.0)\n",
      "Requirement already satisfied: pydantic-core==2.27.2 in /usr/local/lib/python3.11/dist-packages (from pydantic<3.0.0,>=2.7.4->langchain) (2.27.2)\n",
      "Collecting python-dotenv>=0.21.0 (from pydantic-settings<3.0.0,>=2.4.0->langchain-community)\n",
      "  Downloading python_dotenv-1.0.1-py3-none-any.whl.metadata (23 kB)\n",
      "Requirement already satisfied: charset-normalizer<4,>=2 in /usr/local/lib/python3.11/dist-packages (from requests<3,>=2->langchain) (3.4.1)\n",
      "Requirement already satisfied: idna<4,>=2.5 in /usr/local/lib/python3.11/dist-packages (from requests<3,>=2->langchain) (3.10)\n",
      "Requirement already satisfied: urllib3<3,>=1.21.1 in /usr/local/lib/python3.11/dist-packages (from requests<3,>=2->langchain) (2.3.0)\n",
      "Requirement already satisfied: certifi>=2017.4.17 in /usr/local/lib/python3.11/dist-packages (from requests<3,>=2->langchain) (2025.1.31)\n",
      "Requirement already satisfied: greenlet!=0.4.17 in /usr/local/lib/python3.11/dist-packages (from SQLAlchemy<3,>=1.4->langchain) (3.1.1)\n",
      "Requirement already satisfied: regex>=2022.1.18 in /usr/local/lib/python3.11/dist-packages (from tiktoken<1,>=0.7->langchain-openai) (2024.11.6)\n",
      "Requirement already satisfied: httpcore==1.* in /usr/local/lib/python3.11/dist-packages (from httpx>=0.25.2->langgraph-sdk<0.2.0,>=0.1.42->langgraph) (1.0.7)\n",
      "Requirement already satisfied: h11<0.15,>=0.13 in /usr/local/lib/python3.11/dist-packages (from httpcore==1.*->httpx>=0.25.2->langgraph-sdk<0.2.0,>=0.1.42->langgraph) (0.14.0)\n",
      "Collecting mypy-extensions>=0.3.0 (from typing-inspect<1,>=0.4.0->dataclasses-json<0.7,>=0.5.7->langchain-community)\n",
      "  Downloading mypy_extensions-1.0.0-py3-none-any.whl.metadata (1.1 kB)\n",
      "Downloading langchain-0.3.20-py3-none-any.whl (1.0 MB)\n",
      "\u001b[2K   \u001b[90m━━━━━━━━━━━━━━━━━━━━━━━━━━━━━━━━━━━━━━━━\u001b[0m \u001b[32m1.0/1.0 MB\u001b[0m \u001b[31m18.7 MB/s\u001b[0m eta \u001b[36m0:00:00\u001b[0m\n",
      "\u001b[?25hDownloading langchain_community-0.3.19-py3-none-any.whl (2.5 MB)\n",
      "\u001b[2K   \u001b[90m━━━━━━━━━━━━━━━━━━━━━━━━━━━━━━━━━━━━━━━━\u001b[0m \u001b[32m2.5/2.5 MB\u001b[0m \u001b[31m19.4 MB/s\u001b[0m eta \u001b[36m0:00:00\u001b[0m\n",
      "\u001b[?25hDownloading langchain_core-0.3.43-py3-none-any.whl (415 kB)\n",
      "\u001b[2K   \u001b[90m━━━━━━━━━━━━━━━━━━━━━━━━━━━━━━━━━━━━━━━━\u001b[0m \u001b[32m415.4/415.4 kB\u001b[0m \u001b[31m10.9 MB/s\u001b[0m eta \u001b[36m0:00:00\u001b[0m\n",
      "\u001b[?25hDownloading langgraph-0.3.5-py3-none-any.whl (131 kB)\n",
      "\u001b[2K   \u001b[90m━━━━━━━━━━━━━━━━━━━━━━━━━━━━━━━━━━━━━━━━\u001b[0m \u001b[32m131.5/131.5 kB\u001b[0m \u001b[31m8.9 MB/s\u001b[0m eta \u001b[36m0:00:00\u001b[0m\n",
      "\u001b[?25hDownloading langchain_openai-0.3.8-py3-none-any.whl (55 kB)\n",
      "\u001b[2K   \u001b[90m━━━━━━━━━━━━━━━━━━━━━━━━━━━━━━━━━━━━━━━━\u001b[0m \u001b[32m55.4/55.4 kB\u001b[0m \u001b[31m2.6 MB/s\u001b[0m eta \u001b[36m0:00:00\u001b[0m\n",
      "\u001b[?25hDownloading dataclasses_json-0.6.7-py3-none-any.whl (28 kB)\n",
      "Downloading httpx_sse-0.4.0-py3-none-any.whl (7.8 kB)\n",
      "Downloading langgraph_checkpoint-2.0.18-py3-none-any.whl (39 kB)\n",
      "Downloading langgraph_prebuilt-0.1.2-py3-none-any.whl (24 kB)\n",
      "Downloading langgraph_sdk-0.1.55-py3-none-any.whl (45 kB)\n",
      "\u001b[2K   \u001b[90m━━━━━━━━━━━━━━━━━━━━━━━━━━━━━━━━━━━━━━━━\u001b[0m \u001b[32m45.8/45.8 kB\u001b[0m \u001b[31m1.7 MB/s\u001b[0m eta \u001b[36m0:00:00\u001b[0m\n",
      "\u001b[?25hDownloading pydantic_settings-2.8.1-py3-none-any.whl (30 kB)\n",
      "Downloading tiktoken-0.9.0-cp311-cp311-manylinux_2_17_x86_64.manylinux2014_x86_64.whl (1.2 MB)\n",
      "\u001b[2K   \u001b[90m━━━━━━━━━━━━━━━━━━━━━━━━━━━━━━━━━━━━━━━━\u001b[0m \u001b[32m1.2/1.2 MB\u001b[0m \u001b[31m26.0 MB/s\u001b[0m eta \u001b[36m0:00:00\u001b[0m\n",
      "\u001b[?25hDownloading marshmallow-3.26.1-py3-none-any.whl (50 kB)\n",
      "\u001b[2K   \u001b[90m━━━━━━━━━━━━━━━━━━━━━━━━━━━━━━━━━━━━━━━━\u001b[0m \u001b[32m50.9/50.9 kB\u001b[0m \u001b[31m1.7 MB/s\u001b[0m eta \u001b[36m0:00:00\u001b[0m\n",
      "\u001b[?25hDownloading python_dotenv-1.0.1-py3-none-any.whl (19 kB)\n",
      "Downloading typing_inspect-0.9.0-py3-none-any.whl (8.8 kB)\n",
      "Downloading mypy_extensions-1.0.0-py3-none-any.whl (4.7 kB)\n",
      "Installing collected packages: python-dotenv, mypy-extensions, marshmallow, httpx-sse, typing-inspect, tiktoken, pydantic-settings, langgraph-sdk, dataclasses-json, langchain-core, langgraph-checkpoint, langchain-openai, langgraph-prebuilt, langchain, langgraph, langchain-community\n",
      "  Attempting uninstall: langchain-core\n",
      "    Found existing installation: langchain-core 0.3.40\n",
      "    Uninstalling langchain-core-0.3.40:\n",
      "      Successfully uninstalled langchain-core-0.3.40\n",
      "  Attempting uninstall: langchain\n",
      "    Found existing installation: langchain 0.3.19\n",
      "    Uninstalling langchain-0.3.19:\n",
      "      Successfully uninstalled langchain-0.3.19\n",
      "Successfully installed dataclasses-json-0.6.7 httpx-sse-0.4.0 langchain-0.3.20 langchain-community-0.3.19 langchain-core-0.3.43 langchain-openai-0.3.8 langgraph-0.3.5 langgraph-checkpoint-2.0.18 langgraph-prebuilt-0.1.2 langgraph-sdk-0.1.55 marshmallow-3.26.1 mypy-extensions-1.0.0 pydantic-settings-2.8.1 python-dotenv-1.0.1 tiktoken-0.9.0 typing-inspect-0.9.0\n"
     ]
    }
   ],
   "source": [
    "!pip install -U langchain langchain-community langchain-core langgraph langchain-openai"
   ]
  },
  {
   "cell_type": "markdown",
   "metadata": {
    "id": "VMjiMrgcQVac"
   },
   "source": [
    "## OpenAI Key 등록\n",
    "- [OpenAI Key 발급방법](https://platform.openai.com/api-keys)\n",
    "- [OpenAI 요금](https://openai.com/api/pricing/)"
   ]
  },
  {
   "cell_type": "code",
   "execution_count": null,
   "metadata": {
    "executionInfo": {
     "elapsed": 9,
     "status": "ok",
     "timestamp": 1741437542970,
     "user": {
      "displayName": "조경원",
      "userId": "10205523497785796707"
     },
     "user_tz": -540
    },
    "id": "8Y5OFyB3QVka"
   },
   "outputs": [],
   "source": [
    "import os\n",
    "\n",
    "os.environ['OPENAI_API_KEY'] = 'sk-'\n"
   ]
  },
  {
   "cell_type": "markdown",
   "metadata": {
    "id": "hiDpmp0uq2Nv"
   },
   "source": [
    "## LLM"
   ]
  },
  {
   "cell_type": "code",
   "execution_count": 3,
   "metadata": {
    "executionInfo": {
     "elapsed": 7501,
     "status": "ok",
     "timestamp": 1741437550485,
     "user": {
      "displayName": "조경원",
      "userId": "10205523497785796707"
     },
     "user_tz": -540
    },
    "id": "eSXQUOsRqf0I"
   },
   "outputs": [],
   "source": [
    "from langchain_openai import ChatOpenAI\n",
    "\n",
    "model = ChatOpenAI(model=\"gpt-4o-mini\")"
   ]
  },
  {
   "cell_type": "markdown",
   "metadata": {
    "id": "XGPHlAhDey_k"
   },
   "source": [
    "# [Add memory to chatbots](https://python.langchain.com/docs/how_to/chatbots_memory/)"
   ]
  },
  {
   "cell_type": "markdown",
   "metadata": {
    "id": "kyapjepg3UN3"
   },
   "source": [
    "![image.png](data:image/png;base64,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)"
   ]
  },
  {
   "cell_type": "markdown",
   "metadata": {
    "id": "qKZ9kiAfq9yq"
   },
   "source": [
    "## [Message passing](https://python.langchain.com/docs/how_to/chatbots_memory/#message-passing)"
   ]
  },
  {
   "cell_type": "markdown",
   "metadata": {
    "id": "eJ9W3AY0rInf"
   },
   "source": [
    "### ChatPromptTemplate"
   ]
  },
  {
   "cell_type": "code",
   "execution_count": 4,
   "metadata": {
    "executionInfo": {
     "elapsed": 4,
     "status": "ok",
     "timestamp": 1741437550486,
     "user": {
      "displayName": "조경원",
      "userId": "10205523497785796707"
     },
     "user_tz": -540
    },
    "id": "JLKKnL0ZrGkl"
   },
   "outputs": [],
   "source": [
    "from langchain_core.messages import AIMessage, HumanMessage, SystemMessage\n",
    "from langchain_core.prompts import ChatPromptTemplate, MessagesPlaceholder\n",
    "\n",
    "prompt = ChatPromptTemplate.from_messages(\n",
    "    [\n",
    "        SystemMessage(\n",
    "            content=\"You are a helpful assistant. Answer all questions to the best of your ability.\"\n",
    "        ),\n",
    "        MessagesPlaceholder(variable_name=\"messages\"),\n",
    "    ]\n",
    ")"
   ]
  },
  {
   "cell_type": "code",
   "execution_count": 5,
   "metadata": {
    "colab": {
     "base_uri": "https://localhost:8080/"
    },
    "executionInfo": {
     "elapsed": 4,
     "status": "ok",
     "timestamp": 1741437550486,
     "user": {
      "displayName": "조경원",
      "userId": "10205523497785796707"
     },
     "user_tz": -540
    },
    "id": "oeQKESrWGtAZ",
    "outputId": "6b7012e2-adbb-4115-c9fa-87043821d274"
   },
   "outputs": [
    {
     "data": {
      "text/plain": [
       "ChatPromptTemplate(input_variables=['messages'], input_types={'messages': list[typing.Annotated[typing.Union[typing.Annotated[langchain_core.messages.ai.AIMessage, Tag(tag='ai')], typing.Annotated[langchain_core.messages.human.HumanMessage, Tag(tag='human')], typing.Annotated[langchain_core.messages.chat.ChatMessage, Tag(tag='chat')], typing.Annotated[langchain_core.messages.system.SystemMessage, Tag(tag='system')], typing.Annotated[langchain_core.messages.function.FunctionMessage, Tag(tag='function')], typing.Annotated[langchain_core.messages.tool.ToolMessage, Tag(tag='tool')], typing.Annotated[langchain_core.messages.ai.AIMessageChunk, Tag(tag='AIMessageChunk')], typing.Annotated[langchain_core.messages.human.HumanMessageChunk, Tag(tag='HumanMessageChunk')], typing.Annotated[langchain_core.messages.chat.ChatMessageChunk, Tag(tag='ChatMessageChunk')], typing.Annotated[langchain_core.messages.system.SystemMessageChunk, Tag(tag='SystemMessageChunk')], typing.Annotated[langchain_core.messages.function.FunctionMessageChunk, Tag(tag='FunctionMessageChunk')], typing.Annotated[langchain_core.messages.tool.ToolMessageChunk, Tag(tag='ToolMessageChunk')]], FieldInfo(annotation=NoneType, required=True, discriminator=Discriminator(discriminator=<function _get_type at 0x7cf38b1f60c0>, custom_error_type=None, custom_error_message=None, custom_error_context=None))]]}, partial_variables={}, messages=[SystemMessage(content='You are a helpful assistant. Answer all questions to the best of your ability.', additional_kwargs={}, response_metadata={}), MessagesPlaceholder(variable_name='messages')])"
      ]
     },
     "execution_count": 5,
     "metadata": {},
     "output_type": "execute_result"
    }
   ],
   "source": [
    "prompt"
   ]
  },
  {
   "cell_type": "code",
   "execution_count": 6,
   "metadata": {
    "colab": {
     "base_uri": "https://localhost:8080/"
    },
    "executionInfo": {
     "elapsed": 18,
     "status": "ok",
     "timestamp": 1741437550502,
     "user": {
      "displayName": "조경원",
      "userId": "10205523497785796707"
     },
     "user_tz": -540
    },
    "id": "uNFYjCCeGus7",
    "outputId": "592335cd-485d-4c95-f4d7-656f48dd6e2b"
   },
   "outputs": [
    {
     "data": {
      "text/plain": [
       "['messages']"
      ]
     },
     "execution_count": 6,
     "metadata": {},
     "output_type": "execute_result"
    }
   ],
   "source": [
    "prompt.input_variables"
   ]
  },
  {
   "cell_type": "markdown",
   "metadata": {
    "id": "Nhyjb9MmrN8D"
   },
   "source": [
    "### chain"
   ]
  },
  {
   "cell_type": "code",
   "execution_count": 7,
   "metadata": {
    "executionInfo": {
     "elapsed": 1,
     "status": "ok",
     "timestamp": 1741437550503,
     "user": {
      "displayName": "조경원",
      "userId": "10205523497785796707"
     },
     "user_tz": -540
    },
    "id": "6yKOgDIlrMmC"
   },
   "outputs": [],
   "source": [
    "chain = prompt | model"
   ]
  },
  {
   "cell_type": "code",
   "execution_count": 8,
   "metadata": {
    "executionInfo": {
     "elapsed": 449,
     "status": "ok",
     "timestamp": 1741437550952,
     "user": {
      "displayName": "조경원",
      "userId": "10205523497785796707"
     },
     "user_tz": -540
    },
    "id": "YsISv1iBrXfL"
   },
   "outputs": [],
   "source": [
    "ai_msg = chain.invoke(\n",
    "    {\n",
    "        \"messages\": [\n",
    "            HumanMessage(\n",
    "                content=\"Translate from Korean to English: 나는 프로그래밍을 사랑한다.\"\n",
    "            ),\n",
    "            AIMessage(content=\"I love programming.\"),\n",
    "            HumanMessage(content=\"What did you just say?\"),\n",
    "        ],\n",
    "    }\n",
    ")"
   ]
  },
  {
   "cell_type": "code",
   "execution_count": 9,
   "metadata": {
    "colab": {
     "base_uri": "https://localhost:8080/"
    },
    "executionInfo": {
     "elapsed": 31,
     "status": "ok",
     "timestamp": 1741437550984,
     "user": {
      "displayName": "조경원",
      "userId": "10205523497785796707"
     },
     "user_tz": -540
    },
    "id": "u9QXScB8HJVv",
    "outputId": "68839fe0-63c2-42ce-970a-1a903c941209"
   },
   "outputs": [
    {
     "data": {
      "text/plain": [
       "AIMessage(content='I said, \"I love programming.\"', additional_kwargs={'refusal': None}, response_metadata={'token_usage': {'completion_tokens': 9, 'prompt_tokens': 59, 'total_tokens': 68, 'completion_tokens_details': {'accepted_prediction_tokens': 0, 'audio_tokens': 0, 'reasoning_tokens': 0, 'rejected_prediction_tokens': 0}, 'prompt_tokens_details': {'audio_tokens': 0, 'cached_tokens': 0}}, 'model_name': 'gpt-4o-mini-2024-07-18', 'system_fingerprint': 'fp_06737a9306', 'finish_reason': 'stop', 'logprobs': None}, id='run-7b6ee5a8-82c6-45a5-9753-be1e3e6a90bf-0', usage_metadata={'input_tokens': 59, 'output_tokens': 9, 'total_tokens': 68, 'input_token_details': {'audio': 0, 'cache_read': 0}, 'output_token_details': {'audio': 0, 'reasoning': 0}})"
      ]
     },
     "execution_count": 9,
     "metadata": {},
     "output_type": "execute_result"
    }
   ],
   "source": [
    "ai_msg"
   ]
  },
  {
   "cell_type": "code",
   "execution_count": 10,
   "metadata": {
    "colab": {
     "base_uri": "https://localhost:8080/"
    },
    "executionInfo": {
     "elapsed": 29,
     "status": "ok",
     "timestamp": 1741437550985,
     "user": {
      "displayName": "조경원",
      "userId": "10205523497785796707"
     },
     "user_tz": -540
    },
    "id": "ihOsl5P2qf3M",
    "outputId": "a784044f-253a-46d2-bb7f-05ade3486115"
   },
   "outputs": [
    {
     "name": "stdout",
     "output_type": "stream",
     "text": [
      "==================================\u001b[1m Ai Message \u001b[0m==================================\n",
      "\n",
      "I said, \"I love programming.\"\n"
     ]
    }
   ],
   "source": [
    "ai_msg.pretty_print()"
   ]
  },
  {
   "cell_type": "markdown",
   "metadata": {
    "id": "l2EqmNtqsMl1"
   },
   "source": [
    "## [Memory with LangGraph](https://python.langchain.com/docs/how_to/chatbots_memory/#automatic-history-management)"
   ]
  },
  {
   "cell_type": "code",
   "execution_count": 11,
   "metadata": {
    "executionInfo": {
     "elapsed": 15,
     "status": "ok",
     "timestamp": 1741437550999,
     "user": {
      "displayName": "조경원",
      "userId": "10205523497785796707"
     },
     "user_tz": -540
    },
    "id": "4cXaIvx_sflO"
   },
   "outputs": [],
   "source": [
    "from langgraph.checkpoint.memory import MemorySaver\n",
    "from langgraph.graph import START, MessagesState, StateGraph"
   ]
  },
  {
   "cell_type": "markdown",
   "metadata": {
    "id": "DDI4qwL92af8"
   },
   "source": [
    "### [MessagesState](https://langchain-ai.github.io/langgraph/concepts/low_level/#messagesstate)"
   ]
  },
  {
   "cell_type": "markdown",
   "metadata": {
    "id": "2sdZ1rjK2iwW"
   },
   "source": [
    "![image.png](data:image/png;base64,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)"
   ]
  },
  {
   "cell_type": "markdown",
   "metadata": {
    "id": "c-WOKMzbtrCB"
   },
   "source": [
    "### Node"
   ]
  },
  {
   "cell_type": "code",
   "execution_count": 12,
   "metadata": {
    "executionInfo": {
     "elapsed": 14,
     "status": "ok",
     "timestamp": 1741437551015,
     "user": {
      "displayName": "조경원",
      "userId": "10205523497785796707"
     },
     "user_tz": -540
    },
    "id": "lB-W89zpsf5_"
   },
   "outputs": [],
   "source": [
    "from langchain_core.messages import SystemMessage\n",
    "\n",
    "# Define the function that calls the model\n",
    "def call_model(state: MessagesState):\n",
    "    system_prompt = (\n",
    "        \"You are a helpful assistant. \"\n",
    "        \"Answer all questions to the best of your ability.\"\n",
    "    )\n",
    "    messages = [SystemMessage(content=system_prompt)] + state[\"messages\"]\n",
    "    response = model.invoke(messages)\n",
    "    return {\"messages\": response}"
   ]
  },
  {
   "cell_type": "markdown",
   "metadata": {
    "id": "sqee0LiMtR6e"
   },
   "source": [
    "### [StateGraph](https://langchain-ai.github.io/langgraph/reference/graphs/#langgraph.graph.state.StateGraph)"
   ]
  },
  {
   "cell_type": "code",
   "execution_count": 13,
   "metadata": {
    "colab": {
     "base_uri": "https://localhost:8080/"
    },
    "executionInfo": {
     "elapsed": 3,
     "status": "ok",
     "timestamp": 1741437551019,
     "user": {
      "displayName": "조경원",
      "userId": "10205523497785796707"
     },
     "user_tz": -540
    },
    "id": "du4HUnKasvta",
    "outputId": "6415256c-18f9-4290-d070-96a31c6757b0"
   },
   "outputs": [
    {
     "data": {
      "text/plain": [
       "<langgraph.graph.state.StateGraph at 0x7cf38a03ce50>"
      ]
     },
     "execution_count": 13,
     "metadata": {},
     "output_type": "execute_result"
    }
   ],
   "source": [
    "workflow = StateGraph(state_schema=MessagesState)\n",
    "\n",
    "# Define the node and edge\n",
    "workflow.add_node(\"model\", call_model)\n",
    "workflow.add_edge(START, \"model\")"
   ]
  },
  {
   "cell_type": "markdown",
   "metadata": {
    "id": "JT9u-rUTs_5E"
   },
   "source": [
    "### [MemorySaver](https://langchain-ai.github.io/langgraph/reference/checkpoints/#langgraph.checkpoint.memory.MemorySaver)\n",
    "- 여기에서 설정하는 `thread_id`를 마치 채팅방 id라고 생각하면 됩니다."
   ]
  },
  {
   "cell_type": "code",
   "execution_count": 14,
   "metadata": {
    "executionInfo": {
     "elapsed": 3,
     "status": "ok",
     "timestamp": 1741437551043,
     "user": {
      "displayName": "조경원",
      "userId": "10205523497785796707"
     },
     "user_tz": -540
    },
    "id": "S1QVZXCxqf6V"
   },
   "outputs": [],
   "source": [
    "# Add simple in-memory checkpointer\n",
    "memory = MemorySaver()\n",
    "app = workflow.compile(checkpointer=memory)"
   ]
  },
  {
   "cell_type": "markdown",
   "metadata": {
    "id": "gXcF9Bg-u9cr"
   },
   "source": [
    "### display"
   ]
  },
  {
   "cell_type": "code",
   "execution_count": 15,
   "metadata": {
    "colab": {
     "base_uri": "https://localhost:8080/",
     "height": 151
    },
    "executionInfo": {
     "elapsed": 956,
     "status": "ok",
     "timestamp": 1741437552000,
     "user": {
      "displayName": "조경원",
      "userId": "10205523497785796707"
     },
     "user_tz": -540
    },
    "id": "EP_wT2BPutjE",
    "outputId": "2b759486-8c3f-42f1-bd50-e675eab25110"
   },
   "outputs": [
    {
     "data": {
      "image/png": "[encoded data removed]",
      "text/plain": [
       "<IPython.core.display.Image object>"
      ]
     },
     "execution_count": 15,
     "metadata": {},
     "output_type": "execute_result"
    }
   ],
   "source": [
    "from IPython.display import Image\n",
    "\n",
    "Image(app.get_graph().draw_mermaid_png())"
   ]
  },
  {
   "cell_type": "markdown",
   "metadata": {
    "id": "w4fvmilzvBHn"
   },
   "source": [
    "### app.invoke"
   ]
  },
  {
   "cell_type": "code",
   "execution_count": 16,
   "metadata": {
    "executionInfo": {
     "elapsed": 406,
     "status": "ok",
     "timestamp": 1741437552407,
     "user": {
      "displayName": "조경원",
      "userId": "10205523497785796707"
     },
     "user_tz": -540
    },
    "id": "U_U5WQHeqf9M"
   },
   "outputs": [],
   "source": [
    "from langchain_core.messages import HumanMessage\n",
    "\n",
    "ai_msg = app.invoke(\n",
    "    {\"messages\": [HumanMessage(content=\"Translate to Korean: I love programming.\")]},\n",
    "    config={\"configurable\": {\"thread_id\": \"1\"}},\n",
    ")"
   ]
  },
  {
   "cell_type": "code",
   "execution_count": 17,
   "metadata": {
    "colab": {
     "base_uri": "https://localhost:8080/"
    },
    "executionInfo": {
     "elapsed": 37,
     "status": "ok",
     "timestamp": 1741437552448,
     "user": {
      "displayName": "조경원",
      "userId": "10205523497785796707"
     },
     "user_tz": -540
    },
    "id": "gMyxR-Da0SyC",
    "outputId": "dc3d1851-5ca5-476c-c09b-b500498989f5"
   },
   "outputs": [
    {
     "data": {
      "text/plain": [
       "dict_keys(['messages'])"
      ]
     },
     "execution_count": 17,
     "metadata": {},
     "output_type": "execute_result"
    }
   ],
   "source": [
    "ai_msg.keys()"
   ]
  },
  {
   "cell_type": "code",
   "execution_count": 18,
   "metadata": {
    "colab": {
     "base_uri": "https://localhost:8080/"
    },
    "executionInfo": {
     "elapsed": 20,
     "status": "ok",
     "timestamp": 1741437552469,
     "user": {
      "displayName": "조경원",
      "userId": "10205523497785796707"
     },
     "user_tz": -540
    },
    "id": "wgr5IwFO01Uy",
    "outputId": "b0ae9b4b-f058-4ca4-a623-f517d50480c1"
   },
   "outputs": [
    {
     "data": {
      "text/plain": [
       "[HumanMessage(content='Translate to Korean: I love programming.', additional_kwargs={}, response_metadata={}, id='51edcaa8-4e45-4150-9cfe-ef6041290efc'),\n",
       " AIMessage(content='나는 프로그래밍을 사랑해요.', additional_kwargs={'refusal': None}, response_metadata={'token_usage': {'completion_tokens': 10, 'prompt_tokens': 35, 'total_tokens': 45, 'completion_tokens_details': {'accepted_prediction_tokens': 0, 'audio_tokens': 0, 'reasoning_tokens': 0, 'rejected_prediction_tokens': 0}, 'prompt_tokens_details': {'audio_tokens': 0, 'cached_tokens': 0}}, 'model_name': 'gpt-4o-mini-2024-07-18', 'system_fingerprint': 'fp_06737a9306', 'finish_reason': 'stop', 'logprobs': None}, id='run-7f1b2389-9bfb-4e87-8efc-f789fbffae02-0', usage_metadata={'input_tokens': 35, 'output_tokens': 10, 'total_tokens': 45, 'input_token_details': {'audio': 0, 'cache_read': 0}, 'output_token_details': {'audio': 0, 'reasoning': 0}})]"
      ]
     },
     "execution_count": 18,
     "metadata": {},
     "output_type": "execute_result"
    }
   ],
   "source": [
    "ai_msg['messages']"
   ]
  },
  {
   "cell_type": "code",
   "execution_count": 19,
   "metadata": {
    "colab": {
     "base_uri": "https://localhost:8080/",
     "height": 36
    },
    "executionInfo": {
     "elapsed": 20,
     "status": "ok",
     "timestamp": 1741437552490,
     "user": {
      "displayName": "조경원",
      "userId": "10205523497785796707"
     },
     "user_tz": -540
    },
    "id": "NoRh-RJy0qTW",
    "outputId": "9f4a2e9e-37c9-42cb-c1b3-06090a4d100b"
   },
   "outputs": [
    {
     "data": {
      "application/vnd.google.colaboratory.intrinsic+json": {
       "type": "string"
      },
      "text/plain": [
       "'나는 프로그래밍을 사랑해요.'"
      ]
     },
     "execution_count": 19,
     "metadata": {},
     "output_type": "execute_result"
    }
   ],
   "source": [
    "ai_msg['messages'][-1].content"
   ]
  },
  {
   "cell_type": "code",
   "execution_count": 20,
   "metadata": {
    "executionInfo": {
     "elapsed": 560,
     "status": "ok",
     "timestamp": 1741437553051,
     "user": {
      "displayName": "조경원",
      "userId": "10205523497785796707"
     },
     "user_tz": -540
    },
    "id": "T5ehor_PqgAB"
   },
   "outputs": [],
   "source": [
    "ai_msg = app.invoke(\n",
    "    {\"messages\": [HumanMessage(content=\"What did I just ask you?\")]},\n",
    "    config={\"configurable\": {\"thread_id\": \"1\"}},\n",
    ")"
   ]
  },
  {
   "cell_type": "code",
   "execution_count": 21,
   "metadata": {
    "colab": {
     "base_uri": "https://localhost:8080/",
     "height": 36
    },
    "executionInfo": {
     "elapsed": 18,
     "status": "ok",
     "timestamp": 1741437553052,
     "user": {
      "displayName": "조경원",
      "userId": "10205523497785796707"
     },
     "user_tz": -540
    },
    "id": "0PK0jQlJ0ATr",
    "outputId": "fa1e4368-53ba-4992-c9dc-67988edf90ed"
   },
   "outputs": [
    {
     "data": {
      "application/vnd.google.colaboratory.intrinsic+json": {
       "type": "string"
      },
      "text/plain": [
       "'You asked me to translate the phrase \"I love programming\" into Korean.'"
      ]
     },
     "execution_count": 21,
     "metadata": {},
     "output_type": "execute_result"
    }
   ],
   "source": [
    "ai_msg['messages'][-1].content"
   ]
  },
  {
   "cell_type": "markdown",
   "metadata": {
    "id": "fE4E5ao4u4-R"
   },
   "source": [
    "## [Trimming messages](https://python.langchain.com/docs/how_to/chatbots_memory/#trimming-messages)"
   ]
  },
  {
   "cell_type": "markdown",
   "metadata": {
    "id": "MBCvaZgmwSdq"
   },
   "source": [
    "### [trim_messages](https://python.langchain.com/api_reference/core/messages/langchain_core.messages.utils.trim_messages.html)\n",
    "- strategy: Strategy for trimming.\n",
    "  - “first”: Keep the first <= n_count tokens of the messages.\n",
    "  - “last”: Keep the last <= n_count tokens of the messages."
   ]
  },
  {
   "cell_type": "code",
   "execution_count": 22,
   "metadata": {
    "executionInfo": {
     "elapsed": 8,
     "status": "ok",
     "timestamp": 1741437553052,
     "user": {
      "displayName": "조경원",
      "userId": "10205523497785796707"
     },
     "user_tz": -540
    },
    "id": "vOSygmzCwXL_"
   },
   "outputs": [],
   "source": [
    "from langchain_core.messages import trim_messages\n",
    "from langgraph.checkpoint.memory import MemorySaver\n",
    "from langgraph.graph import START, MessagesState, StateGraph\n",
    "\n",
    "# Define trimmer\n",
    "# count each message as 1 \"token\" (token_counter=len) and keep only the last two messages\n",
    "# -> 즉 max_tokens(=2)만큼의 이력만 기억함\n",
    "trimmer = trim_messages(strategy=\"last\", max_tokens=2, token_counter=len)"
   ]
  },
  {
   "cell_type": "markdown",
   "metadata": {
    "id": "y-wzQCtcXSho"
   },
   "source": [
    "### Node"
   ]
  },
  {
   "cell_type": "code",
   "execution_count": 23,
   "metadata": {
    "executionInfo": {
     "elapsed": 8,
     "status": "ok",
     "timestamp": 1741437553052,
     "user": {
      "displayName": "조경원",
      "userId": "10205523497785796707"
     },
     "user_tz": -540
    },
    "id": "1TfcW76Pw5fQ"
   },
   "outputs": [],
   "source": [
    "# Define the function that calls the model\n",
    "def call_model(state: MessagesState):\n",
    "    trimmed_messages = trimmer.invoke(state[\"messages\"])\n",
    "    system_prompt = (\n",
    "        \"You are a helpful assistant. \"\n",
    "        \"Answer all questions to the best of your ability.\"\n",
    "    )\n",
    "    messages = [SystemMessage(content=system_prompt)] + trimmed_messages\n",
    "    response = model.invoke(messages)\n",
    "    return {\"messages\": response}"
   ]
  },
  {
   "cell_type": "markdown",
   "metadata": {
    "id": "Ph5l6ehYw1F6"
   },
   "source": [
    "### StateGraph"
   ]
  },
  {
   "cell_type": "code",
   "execution_count": 24,
   "metadata": {
    "colab": {
     "base_uri": "https://localhost:8080/"
    },
    "executionInfo": {
     "elapsed": 11,
     "status": "ok",
     "timestamp": 1741437553056,
     "user": {
      "displayName": "조경원",
      "userId": "10205523497785796707"
     },
     "user_tz": -540
    },
    "id": "oeeI6Ij5qgC6",
    "outputId": "a35bedd2-0b63-484a-c586-b2b655ce49a5"
   },
   "outputs": [
    {
     "data": {
      "text/plain": [
       "<langgraph.graph.state.StateGraph at 0x7cf389dc5490>"
      ]
     },
     "execution_count": 24,
     "metadata": {},
     "output_type": "execute_result"
    }
   ],
   "source": [
    "workflow = StateGraph(state_schema=MessagesState)\n",
    "\n",
    "# Define the node and edge\n",
    "workflow.add_node(\"model\", call_model)\n",
    "workflow.add_edge(START, \"model\")"
   ]
  },
  {
   "cell_type": "markdown",
   "metadata": {
    "id": "ATXuL_Xaw90j"
   },
   "source": [
    "### MemorySaver"
   ]
  },
  {
   "cell_type": "code",
   "execution_count": 25,
   "metadata": {
    "executionInfo": {
     "elapsed": 35,
     "status": "ok",
     "timestamp": 1741437553091,
     "user": {
      "displayName": "조경원",
      "userId": "10205523497785796707"
     },
     "user_tz": -540
    },
    "id": "8zlLMn04qgF5"
   },
   "outputs": [],
   "source": [
    "# Add simple in-memory checkpointer\n",
    "memory = MemorySaver()\n",
    "app = workflow.compile(checkpointer=memory)"
   ]
  },
  {
   "cell_type": "markdown",
   "metadata": {
    "id": "0qFPulIUvuVg"
   },
   "source": [
    "### display"
   ]
  },
  {
   "cell_type": "code",
   "execution_count": 26,
   "metadata": {
    "colab": {
     "base_uri": "https://localhost:8080/",
     "height": 151
    },
    "executionInfo": {
     "elapsed": 704,
     "status": "ok",
     "timestamp": 1741437553795,
     "user": {
      "displayName": "조경원",
      "userId": "10205523497785796707"
     },
     "user_tz": -540
    },
    "id": "jMLePMD_vshi",
    "outputId": "1220d2ab-b6fc-481b-9012-c6553cb04bd4"
   },
   "outputs": [
    {
     "data": {
      "image/png": "[encoded data removed]",
      "text/plain": [
       "<IPython.core.display.Image object>"
      ]
     },
     "execution_count": 26,
     "metadata": {},
     "output_type": "execute_result"
    }
   ],
   "source": [
    "from IPython.display import Image\n",
    "\n",
    "Image(app.get_graph().draw_mermaid_png())"
   ]
  },
  {
   "cell_type": "markdown",
   "metadata": {
    "id": "H5FZnzRQvx7c"
   },
   "source": [
    "### app.invoke"
   ]
  },
  {
   "cell_type": "code",
   "execution_count": 27,
   "metadata": {
    "colab": {
     "base_uri": "https://localhost:8080/"
    },
    "executionInfo": {
     "elapsed": 475,
     "status": "ok",
     "timestamp": 1741437554233,
     "user": {
      "displayName": "조경원",
      "userId": "10205523497785796707"
     },
     "user_tz": -540
    },
    "id": "nx7Sg4ktSiM4",
    "outputId": "32b884b9-c6d7-4f2d-feb9-14fd3211380d"
   },
   "outputs": [
    {
     "name": "stdout",
     "output_type": "stream",
     "text": [
      "==================================\u001b[1m Ai Message \u001b[0m==================================\n",
      "\n",
      "Hello, Nemo! How can I assist you today?\n"
     ]
    }
   ],
   "source": [
    "ai_msg = app.invoke(\n",
    "    {\n",
    "        \"messages\": [HumanMessage(content=\"Hey there! I'm Nemo.\")]\n",
    "    },\n",
    "    config={\"configurable\": {\"thread_id\": \"2\"}},\n",
    ")\n",
    "\n",
    "ai_msg['messages'][-1].pretty_print()"
   ]
  },
  {
   "cell_type": "markdown",
   "metadata": {
    "id": "_PBs-nefT1dO"
   },
   "source": [
    "- 직전 대화 내용을 기억하고 있음"
   ]
  },
  {
   "cell_type": "code",
   "execution_count": 28,
   "metadata": {
    "colab": {
     "base_uri": "https://localhost:8080/"
    },
    "executionInfo": {
     "elapsed": 509,
     "status": "ok",
     "timestamp": 1741437554742,
     "user": {
      "displayName": "조경원",
      "userId": "10205523497785796707"
     },
     "user_tz": -540
    },
    "id": "bP-O40WRTQOI",
    "outputId": "fe49a541-e04e-46b2-cf5a-adfd5f57e3e7"
   },
   "outputs": [
    {
     "name": "stdout",
     "output_type": "stream",
     "text": [
      "==================================\u001b[1m Ai Message \u001b[0m==================================\n",
      "\n",
      "You just referred to yourself as \"Nemo.\" How can I assist you today, Nemo?\n"
     ]
    }
   ],
   "source": [
    "ai_msg = app.invoke(\n",
    "    {\n",
    "        \"messages\": [HumanMessage(content=\"What is my name?\")]\n",
    "    },\n",
    "    config={\"configurable\": {\"thread_id\": \"2\"}},\n",
    ")\n",
    "\n",
    "ai_msg['messages'][-1].pretty_print()"
   ]
  },
  {
   "cell_type": "code",
   "execution_count": 29,
   "metadata": {
    "colab": {
     "base_uri": "https://localhost:8080/"
    },
    "executionInfo": {
     "elapsed": 519,
     "status": "ok",
     "timestamp": 1741437555261,
     "user": {
      "displayName": "조경원",
      "userId": "10205523497785796707"
     },
     "user_tz": -540
    },
    "id": "6UpOA_KkSiQP",
    "outputId": "a38a5d53-f295-43a2-ffdd-f6dbdbfe5fd0"
   },
   "outputs": [
    {
     "name": "stdout",
     "output_type": "stream",
     "text": [
      "==================================\u001b[1m Ai Message \u001b[0m==================================\n",
      "\n",
      "I don't have feelings, but I'm here and ready to help you! How can I assist you today?\n"
     ]
    }
   ],
   "source": [
    "ai_msg = app.invoke(\n",
    "    {\n",
    "        \"messages\": [HumanMessage(content=\"How are you today?\")]\n",
    "    },\n",
    "    config={\"configurable\": {\"thread_id\": \"2\"}},\n",
    ")\n",
    "\n",
    "ai_msg['messages'][-1].pretty_print()"
   ]
  },
  {
   "cell_type": "code",
   "execution_count": 30,
   "metadata": {
    "colab": {
     "base_uri": "https://localhost:8080/"
    },
    "executionInfo": {
     "elapsed": 3167,
     "status": "ok",
     "timestamp": 1741437558428,
     "user": {
      "displayName": "조경원",
      "userId": "10205523497785796707"
     },
     "user_tz": -540
    },
    "id": "Lid4wqYhTZA-",
    "outputId": "ab7cf66b-894e-426a-8ba9-9ff9c6553b28"
   },
   "outputs": [
    {
     "name": "stdout",
     "output_type": "stream",
     "text": [
      "==================================\u001b[1m Ai Message \u001b[0m==================================\n",
      "\n",
      "LangChain is an open-source framework designed for developing applications that leverage the capabilities of large language models (LLMs). It provides a modular approach to building applications with various components that can be easily integrated. Some of the key features and functionalities of LangChain include:\n",
      "\n",
      "1. **Prompt Templates**: It allows developers to create and manage prompts for LLMs, enabling efficient and reusable interaction with the models.\n",
      "\n",
      "2. **Chain of Thought**: LangChain supports the construction of chains where the output of one operation can be used as the input for another, facilitating complex workflows.\n",
      "\n",
      "3. **Memory**: It offers capabilities for managing conversation history and contextual memory, allowing applications to maintain state over interactions.\n",
      "\n",
      "4. **Integrations**: LangChain can interact with various data sources and APIs, making it easier to incorporate external information and functionalities.\n",
      "\n",
      "5. **Tooling**: It provides tools to work with different types of LLMs, APIs, and SDKs, enabling flexibility in application development.\n",
      "\n",
      "LangChain is particularly powerful for building conversational agents, chatbots, content generation tools, and other applications that require natural language understanding and generation. Its modular structure and extensive documentation make it accessible for developers to create and customize their applications.\n"
     ]
    }
   ],
   "source": [
    "ai_msg = app.invoke(\n",
    "    {\n",
    "        \"messages\": [HumanMessage(content=\"What is LangChain?\")]\n",
    "    },\n",
    "    config={\"configurable\": {\"thread_id\": \"2\"}},\n",
    ")\n",
    "\n",
    "ai_msg['messages'][-1].pretty_print()"
   ]
  },
  {
   "cell_type": "markdown",
   "metadata": {
    "id": "VywmqtDwTwtG"
   },
   "source": [
    "- 최대 2개의 history를 기억하기 때문에, 아래와 같은 답을 함"
   ]
  },
  {
   "cell_type": "code",
   "execution_count": 31,
   "metadata": {
    "colab": {
     "base_uri": "https://localhost:8080/"
    },
    "executionInfo": {
     "elapsed": 563,
     "status": "ok",
     "timestamp": 1741437558992,
     "user": {
      "displayName": "조경원",
      "userId": "10205523497785796707"
     },
     "user_tz": -540
    },
    "id": "cdZ0LcCOSiTW",
    "outputId": "f10db2fd-8de3-49b2-f37a-ab1a4d75d4b5"
   },
   "outputs": [
    {
     "name": "stdout",
     "output_type": "stream",
     "text": [
      "==================================\u001b[1m Ai Message \u001b[0m==================================\n",
      "\n",
      "I'm sorry, but I don't have access to your personal information, including your name. If you'd like, you can tell me your name!\n"
     ]
    }
   ],
   "source": [
    "ai_msg = app.invoke(\n",
    "    {\n",
    "        \"messages\": [HumanMessage(content=\"What is my name?\")]\n",
    "    },\n",
    "    config={\"configurable\": {\"thread_id\": \"2\"}},\n",
    ")\n",
    "\n",
    "ai_msg['messages'][-1].pretty_print()"
   ]
  },
  {
   "cell_type": "markdown",
   "metadata": {
    "id": "gI-22Iznxr8j"
   },
   "source": [
    "## [Summary memory](https://python.langchain.com/docs/how_to/chatbots_memory/#summary-memory)"
   ]
  },
  {
   "cell_type": "code",
   "execution_count": 32,
   "metadata": {
    "executionInfo": {
     "elapsed": 10,
     "status": "ok",
     "timestamp": 1741437559003,
     "user": {
      "displayName": "조경원",
      "userId": "10205523497785796707"
     },
     "user_tz": -540
    },
    "id": "OxAVWwYAyTIc"
   },
   "outputs": [],
   "source": [
    "from langchain_core.messages import HumanMessage, RemoveMessage\n",
    "from langgraph.checkpoint.memory import MemorySaver\n",
    "from langgraph.graph import START, MessagesState, StateGraph"
   ]
  },
  {
   "cell_type": "markdown",
   "metadata": {
    "id": "sQPWk29PyguL"
   },
   "source": [
    "### Node - Summary Function\n",
    "- [RemoveMessage](https://python.langchain.com/api_reference/core/messages/langchain_core.messages.modifier.RemoveMessage.html)"
   ]
  },
  {
   "cell_type": "code",
   "execution_count": 33,
   "metadata": {
    "executionInfo": {
     "elapsed": 27,
     "status": "ok",
     "timestamp": 1741437559041,
     "user": {
      "displayName": "조경원",
      "userId": "10205523497785796707"
     },
     "user_tz": -540
    },
    "id": "Jcvanb8VyTwF"
   },
   "outputs": [],
   "source": [
    "# Define the function that calls the model\n",
    "def call_model(state: MessagesState):\n",
    "    system_prompt = (\n",
    "        \"You are a helpful assistant. \"\n",
    "        \"Answer all questions to the best of your ability. \"\n",
    "        \"The provided chat history includes a summary of the earlier conversation.\"\n",
    "    )\n",
    "    system_message = SystemMessage(content=system_prompt)\n",
    "\n",
    "    ###################################################################\n",
    "    # Summary Memory\n",
    "    # -> History가 4개 이상일때, 작동\n",
    "    ###################################################################\n",
    "    message_history = state[\"messages\"][:-1]  # exclude the most recent user input\n",
    "    if len(message_history) >= 4:\n",
    "        ###################################################################\n",
    "        # Invoke the model to generate conversation summary\n",
    "        ###################################################################\n",
    "        summary_prompt = (\n",
    "            \"Distill the above chat messages into a single summary message. \"\n",
    "            \"Include as many specific details as you can.\"\n",
    "        )\n",
    "        summary_message = model.invoke(\n",
    "            message_history + [HumanMessage(content=summary_prompt)]\n",
    "        )\n",
    "\n",
    "        ###################################################################\n",
    "        # Invoke the model to generate response\n",
    "        ###################################################################\n",
    "        # Re-add user message\n",
    "        last_human_message = state[\"messages\"][-1]\n",
    "        human_message = HumanMessage(content=last_human_message.content)\n",
    "        # Call the model with summary & response\n",
    "        response = model.invoke([system_message, summary_message, human_message])\n",
    "\n",
    "        ###################################################################\n",
    "        # Delete messages that we no longer want to show up\n",
    "        ###################################################################\n",
    "        delete_messages = [RemoveMessage(id=m.id) for m in state[\"messages\"]]\n",
    "        message_updates = [summary_message, human_message, response] + delete_messages\n",
    "    else:\n",
    "        ###################################################################\n",
    "        # Invoke the model to generate response\n",
    "        ###################################################################\n",
    "        message_updates = model.invoke([system_message] + state[\"messages\"])\n",
    "\n",
    "    return {\"messages\": message_updates}"
   ]
  },
  {
   "cell_type": "markdown",
   "metadata": {
    "id": "7NIb9Imvyp1V"
   },
   "source": [
    "### StateGraph"
   ]
  },
  {
   "cell_type": "code",
   "execution_count": 34,
   "metadata": {
    "colab": {
     "base_uri": "https://localhost:8080/"
    },
    "executionInfo": {
     "elapsed": 62,
     "status": "ok",
     "timestamp": 1741437559107,
     "user": {
      "displayName": "조경원",
      "userId": "10205523497785796707"
     },
     "user_tz": -540
    },
    "id": "kXohVVIiyn0c",
    "outputId": "7ce31590-a422-41a1-834d-e772903df191"
   },
   "outputs": [
    {
     "data": {
      "text/plain": [
       "<langgraph.graph.state.StateGraph at 0x7cf389c5bf50>"
      ]
     },
     "execution_count": 34,
     "metadata": {},
     "output_type": "execute_result"
    }
   ],
   "source": [
    "workflow = StateGraph(state_schema=MessagesState)\n",
    "\n",
    "# Define the node and edge\n",
    "workflow.add_node(\"model\", call_model)\n",
    "workflow.add_edge(START, \"model\")"
   ]
  },
  {
   "cell_type": "markdown",
   "metadata": {
    "id": "nY6fUEciytIr"
   },
   "source": [
    "### MemorySaver"
   ]
  },
  {
   "cell_type": "code",
   "execution_count": 35,
   "metadata": {
    "executionInfo": {
     "elapsed": 12,
     "status": "ok",
     "timestamp": 1741437559119,
     "user": {
      "displayName": "조경원",
      "userId": "10205523497785796707"
     },
     "user_tz": -540
    },
    "id": "8y6cYjnYqgLv"
   },
   "outputs": [],
   "source": [
    "# Add simple in-memory checkpointer\n",
    "memory = MemorySaver()\n",
    "app = workflow.compile(checkpointer=memory)"
   ]
  },
  {
   "cell_type": "markdown",
   "metadata": {
    "id": "A3iAUR0jv6y-"
   },
   "source": [
    "### display"
   ]
  },
  {
   "cell_type": "code",
   "execution_count": 36,
   "metadata": {
    "colab": {
     "base_uri": "https://localhost:8080/",
     "height": 151
    },
    "executionInfo": {
     "elapsed": 750,
     "status": "ok",
     "timestamp": 1741437559876,
     "user": {
      "displayName": "조경원",
      "userId": "10205523497785796707"
     },
     "user_tz": -540
    },
    "id": "HTJeRdE5v47H",
    "outputId": "4d36004d-d80e-4c7b-9d5b-b060e1d31d90"
   },
   "outputs": [
    {
     "data": {
      "image/png": "[encoded data removed]",
      "text/plain": [
       "<IPython.core.display.Image object>"
      ]
     },
     "execution_count": 36,
     "metadata": {},
     "output_type": "execute_result"
    }
   ],
   "source": [
    "from IPython.display import Image\n",
    "\n",
    "Image(app.get_graph().draw_mermaid_png())"
   ]
  },
  {
   "cell_type": "markdown",
   "metadata": {
    "id": "J1uZCKtyv-3C"
   },
   "source": [
    "### app.invoke"
   ]
  },
  {
   "cell_type": "code",
   "execution_count": 37,
   "metadata": {
    "colab": {
     "base_uri": "https://localhost:8080/"
    },
    "executionInfo": {
     "elapsed": 419,
     "status": "ok",
     "timestamp": 1741437560294,
     "user": {
      "displayName": "조경원",
      "userId": "10205523497785796707"
     },
     "user_tz": -540
    },
    "id": "9DJ4XOJ7V_5v",
    "outputId": "dcc138f8-3389-4488-e3a2-bb2365431df8"
   },
   "outputs": [
    {
     "name": "stdout",
     "output_type": "stream",
     "text": [
      "==================================\u001b[1m Ai Message \u001b[0m==================================\n",
      "\n",
      "안녕하세요, 홍길동님! 어떻게 도와드릴까요?\n"
     ]
    }
   ],
   "source": [
    "ai_msg = app.invoke(\n",
    "    {\n",
    "        \"messages\": [HumanMessage(content=\"안녕, 나는 홍길동이야.\")]\n",
    "    },\n",
    "    config={\"configurable\": {\"thread_id\": \"3\"}},\n",
    ")\n",
    "\n",
    "ai_msg['messages'][-1].pretty_print()"
   ]
  },
  {
   "cell_type": "code",
   "execution_count": 38,
   "metadata": {
    "colab": {
     "base_uri": "https://localhost:8080/"
    },
    "executionInfo": {
     "elapsed": 2915,
     "status": "ok",
     "timestamp": 1741437563216,
     "user": {
      "displayName": "조경원",
      "userId": "10205523497785796707"
     },
     "user_tz": -540
    },
    "id": "MlqMawp6V_9J",
    "outputId": "3dbb9ab0-b128-4b18-d41b-8df98c000f9d"
   },
   "outputs": [
    {
     "name": "stdout",
     "output_type": "stream",
     "text": [
      "==================================\u001b[1m Ai Message \u001b[0m==================================\n",
      "\n",
      "AI(인공지능)는 컴퓨터 시스템이나 소프트웨어가 인간의 지능을 모방하여 학습, 문제 해결, 이해, 패턴 인식 등을 수행하는 기술입니다. AI는 주로 두 가지 범주로 나눌 수 있습니다:\n",
      "\n",
      "1. **좁은 AI (Weak AI)**: 특정 작업에 특화된 AI로, 예를 들어 음성 인식, 이미지 인식, 자율주행차 등과 같은 분야에서 사용됩니다.\n",
      "\n",
      "2. **일반 AI (Strong AI)**: 인간처럼 다양한 작업을 수행할 수 있는 AI를 의미하지만, 현재까지는 개발되지 않았습니다.\n",
      "\n",
      "AI는 머신러닝, 딥러닝, 자연어 처리 등의 기술을 이용하여 데이터를 분석하고 예측하며, 점점 더 많은 분야에서 활용되고 있습니다. 예를 들어, 고객 서비스, 의료 진단, 금융 분석 등에서 사용되고 있습니다.\n"
     ]
    }
   ],
   "source": [
    "ai_msg = app.invoke(\n",
    "    {\n",
    "        \"messages\": [HumanMessage(content=\"간단하게 AI에 대해서 설명해줘.\")]\n",
    "    },\n",
    "    config={\"configurable\": {\"thread_id\": \"3\"}},\n",
    ")\n",
    "\n",
    "ai_msg['messages'][-1].pretty_print()"
   ]
  },
  {
   "cell_type": "code",
   "execution_count": 39,
   "metadata": {
    "colab": {
     "base_uri": "https://localhost:8080/"
    },
    "executionInfo": {
     "elapsed": 3493,
     "status": "ok",
     "timestamp": 1741437566724,
     "user": {
      "displayName": "조경원",
      "userId": "10205523497785796707"
     },
     "user_tz": -540
    },
    "id": "HumRY312WAAR",
    "outputId": "dcf8f402-5066-42ca-edea-1f3ba848d70b"
   },
   "outputs": [
    {
     "name": "stdout",
     "output_type": "stream",
     "text": [
      "==================================\u001b[1m Ai Message \u001b[0m==================================\n",
      "\n",
      "LLM(대형 언어 모델)은 방대한 양의 텍스트 데이터를 기반으로 인간과 유사한 방식으로 자연어를 이해하고 생성하는 인공지능 모델입니다.\n"
     ]
    }
   ],
   "source": [
    "ai_msg = app.invoke(\n",
    "    {\n",
    "        \"messages\": [HumanMessage(content=\"한문장으로 LLM에 대해서 설명해줘.\")]\n",
    "    },\n",
    "    config={\"configurable\": {\"thread_id\": \"3\"}},\n",
    ")\n",
    "\n",
    "ai_msg['messages'][-1].pretty_print()"
   ]
  },
  {
   "cell_type": "code",
   "execution_count": 40,
   "metadata": {
    "colab": {
     "base_uri": "https://localhost:8080/"
    },
    "executionInfo": {
     "elapsed": 885,
     "status": "ok",
     "timestamp": 1741437567610,
     "user": {
      "displayName": "조경원",
      "userId": "10205523497785796707"
     },
     "user_tz": -540
    },
    "id": "tyMw39rLWADM",
    "outputId": "1d27f1de-45b1-4ae0-fa0d-6cae0d3dd6be"
   },
   "outputs": [
    {
     "name": "stdout",
     "output_type": "stream",
     "text": [
      "==================================\u001b[1m Ai Message \u001b[0m==================================\n",
      "\n",
      "대한민국의 수도는 서울입니다.\n"
     ]
    }
   ],
   "source": [
    "ai_msg = app.invoke(\n",
    "    {\n",
    "        \"messages\": [HumanMessage(content=\"대한민국의 수도는?\")]\n",
    "    },\n",
    "    config={\"configurable\": {\"thread_id\": \"3\"}},\n",
    ")\n",
    "\n",
    "ai_msg['messages'][-1].pretty_print()"
   ]
  },
  {
   "cell_type": "code",
   "execution_count": 41,
   "metadata": {
    "colab": {
     "base_uri": "https://localhost:8080/"
    },
    "executionInfo": {
     "elapsed": 2789,
     "status": "ok",
     "timestamp": 1741437570410,
     "user": {
      "displayName": "조경원",
      "userId": "10205523497785796707"
     },
     "user_tz": -540
    },
    "id": "8sy3U3dmWAGO",
    "outputId": "7a20e5e6-fd27-4f99-f669-6e4bf57cdad8"
   },
   "outputs": [
    {
     "name": "stdout",
     "output_type": "stream",
     "text": [
      "==================================\u001b[1m Ai Message \u001b[0m==================================\n",
      "\n",
      "죄송하지만, 당신의 이름을 알 수 있는 정보가 없습니다. 필요하시다면 이름을 말씀해 주시면 그에 맞춰서 대화할 수 있습니다!\n"
     ]
    }
   ],
   "source": [
    "ai_msg = app.invoke(\n",
    "    {\n",
    "        \"messages\": [HumanMessage(content=\"혹시 내 이름이 뭔지 알아?\")]\n",
    "    },\n",
    "    config={\"configurable\": {\"thread_id\": \"3\"}},\n",
    ")\n",
    "\n",
    "ai_msg['messages'][-1].pretty_print()"
   ]
  },
  {
   "cell_type": "code",
   "execution_count": 41,
   "metadata": {
    "executionInfo": {
     "elapsed": 2,
     "status": "ok",
     "timestamp": 1741437570411,
     "user": {
      "displayName": "조경원",
      "userId": "10205523497785796707"
     },
     "user_tz": -540
    },
    "id": "SDhs_ZZkWAJZ"
   },
   "outputs": [],
   "source": []
  },
  {
   "cell_type": "markdown",
   "metadata": {
    "id": "JNzaD3cW7awn"
   },
   "source": [
    "# [Add message history](https://python.langchain.com/docs/how_to/message_history/#example-message-inputs)"
   ]
  },
  {
   "cell_type": "markdown",
   "metadata": {
    "id": "_V-2gLbe7s6d"
   },
   "source": [
    "## [message inputs](https://python.langchain.com/docs/how_to/message_history/#example-message-inputs)"
   ]
  },
  {
   "cell_type": "code",
   "execution_count": 42,
   "metadata": {
    "executionInfo": {
     "elapsed": 1,
     "status": "ok",
     "timestamp": 1741437570412,
     "user": {
      "displayName": "조경원",
      "userId": "10205523497785796707"
     },
     "user_tz": -540
    },
    "id": "xpXCr7eb70Us"
   },
   "outputs": [],
   "source": [
    "from langchain_core.messages import HumanMessage\n",
    "from langgraph.checkpoint.memory import MemorySaver\n",
    "from langgraph.graph import START, MessagesState, StateGraph"
   ]
  },
  {
   "cell_type": "markdown",
   "metadata": {
    "id": "EaVRIQ9278DQ"
   },
   "source": [
    "### Define the function"
   ]
  },
  {
   "cell_type": "code",
   "execution_count": 43,
   "metadata": {
    "executionInfo": {
     "elapsed": 1,
     "status": "ok",
     "timestamp": 1741437570413,
     "user": {
      "displayName": "조경원",
      "userId": "10205523497785796707"
     },
     "user_tz": -540
    },
    "id": "gwpEHfg972fK"
   },
   "outputs": [],
   "source": [
    "# Define the function that calls the model\n",
    "def call_model(state: MessagesState):\n",
    "    response = model.invoke(state[\"messages\"])\n",
    "    # Update message history with response:\n",
    "    return {\"messages\": response}"
   ]
  },
  {
   "cell_type": "markdown",
   "metadata": {
    "id": "sW24TXGk8CCw"
   },
   "source": [
    "### StateGraph"
   ]
  },
  {
   "cell_type": "code",
   "execution_count": 44,
   "metadata": {
    "colab": {
     "base_uri": "https://localhost:8080/"
    },
    "executionInfo": {
     "elapsed": 5,
     "status": "ok",
     "timestamp": 1741437570419,
     "user": {
      "displayName": "조경원",
      "userId": "10205523497785796707"
     },
     "user_tz": -540
    },
    "id": "T9O8ZMkX8AYo",
    "outputId": "4bf6516d-8233-433e-eb33-362b9381ebe0"
   },
   "outputs": [
    {
     "data": {
      "text/plain": [
       "<langgraph.graph.state.StateGraph at 0x7cf389d8b110>"
      ]
     },
     "execution_count": 44,
     "metadata": {},
     "output_type": "execute_result"
    }
   ],
   "source": [
    "# Define a new graph\n",
    "workflow = StateGraph(state_schema=MessagesState)\n",
    "\n",
    "# Define the (single) node in the graph\n",
    "workflow.add_edge(START, \"model\")\n",
    "workflow.add_node(\"model\", call_model)"
   ]
  },
  {
   "cell_type": "markdown",
   "metadata": {
    "id": "KexfhaQy8Fqq"
   },
   "source": [
    "### MemorySaver"
   ]
  },
  {
   "cell_type": "code",
   "execution_count": 45,
   "metadata": {
    "executionInfo": {
     "elapsed": 1,
     "status": "ok",
     "timestamp": 1741437570420,
     "user": {
      "displayName": "조경원",
      "userId": "10205523497785796707"
     },
     "user_tz": -540
    },
    "id": "9pyC_Rf3qgYl"
   },
   "outputs": [],
   "source": [
    "# Add memory\n",
    "memory = MemorySaver()\n",
    "app = workflow.compile(checkpointer=memory)"
   ]
  },
  {
   "cell_type": "markdown",
   "metadata": {
    "id": "TrXkS51pwGpa"
   },
   "source": [
    "### display"
   ]
  },
  {
   "cell_type": "code",
   "execution_count": 46,
   "metadata": {
    "colab": {
     "base_uri": "https://localhost:8080/",
     "height": 151
    },
    "executionInfo": {
     "elapsed": 707,
     "status": "ok",
     "timestamp": 1741437571127,
     "user": {
      "displayName": "조경원",
      "userId": "10205523497785796707"
     },
     "user_tz": -540
    },
    "id": "SJH64MDpwEiP",
    "outputId": "e859602f-33fc-4bdb-ff47-dd70d84d9698"
   },
   "outputs": [
    {
     "data": {
      "image/png": "[encoded data removed]",
      "text/plain": [
       "<IPython.core.display.Image object>"
      ]
     },
     "execution_count": 46,
     "metadata": {},
     "output_type": "execute_result"
    }
   ],
   "source": [
    "from IPython.display import Image\n",
    "\n",
    "Image(app.get_graph().draw_mermaid_png())"
   ]
  },
  {
   "cell_type": "markdown",
   "metadata": {
    "id": "Z39OUsIkwLW_"
   },
   "source": [
    "### app.invoke"
   ]
  },
  {
   "cell_type": "code",
   "execution_count": 47,
   "metadata": {
    "executionInfo": {
     "elapsed": 1,
     "status": "ok",
     "timestamp": 1741437571129,
     "user": {
      "displayName": "조경원",
      "userId": "10205523497785796707"
     },
     "user_tz": -540
    },
    "id": "3J4DIICiqgbo"
   },
   "outputs": [],
   "source": [
    "config = {\"configurable\": {\"thread_id\": \"abc123\"}}"
   ]
  },
  {
   "cell_type": "code",
   "execution_count": 48,
   "metadata": {
    "colab": {
     "base_uri": "https://localhost:8080/"
    },
    "executionInfo": {
     "elapsed": 1066,
     "status": "ok",
     "timestamp": 1741437572195,
     "user": {
      "displayName": "조경원",
      "userId": "10205523497785796707"
     },
     "user_tz": -540
    },
    "id": "HHoYzvcAqgej",
    "outputId": "10b4cf2b-92e7-459b-8657-7848e6b31572"
   },
   "outputs": [
    {
     "name": "stdout",
     "output_type": "stream",
     "text": [
      "==================================\u001b[1m Ai Message \u001b[0m==================================\n",
      "\n",
      "Hi Bob! How can I assist you today?\n"
     ]
    }
   ],
   "source": [
    "query = \"Hi! I'm Bob.\"\n",
    "\n",
    "input_messages = [HumanMessage(query)]\n",
    "output = app.invoke({\"messages\": input_messages}, config)\n",
    "output[\"messages\"][-1].pretty_print()  # output contains all messages in state"
   ]
  },
  {
   "cell_type": "code",
   "execution_count": 49,
   "metadata": {
    "colab": {
     "base_uri": "https://localhost:8080/"
    },
    "executionInfo": {
     "elapsed": 429,
     "status": "ok",
     "timestamp": 1741437572633,
     "user": {
      "displayName": "조경원",
      "userId": "10205523497785796707"
     },
     "user_tz": -540
    },
    "id": "Gbo2Q1UPqgiE",
    "outputId": "19863023-fe8d-4e09-aec7-d1c04e1604ab"
   },
   "outputs": [
    {
     "name": "stdout",
     "output_type": "stream",
     "text": [
      "==================================\u001b[1m Ai Message \u001b[0m==================================\n",
      "\n",
      "Your name is Bob. How can I help you today?\n"
     ]
    }
   ],
   "source": [
    "query = \"What's my name?\"\n",
    "\n",
    "input_messages = [HumanMessage(query)]\n",
    "output = app.invoke({\"messages\": input_messages}, config)\n",
    "output[\"messages\"][-1].pretty_print()"
   ]
  },
  {
   "cell_type": "markdown",
   "metadata": {
    "id": "2b9YZGwr8cxM"
   },
   "source": [
    "- `thread_id`를 다른 값으로 적용하면, 기억을 하지 못함"
   ]
  },
  {
   "cell_type": "code",
   "execution_count": 50,
   "metadata": {
    "colab": {
     "base_uri": "https://localhost:8080/"
    },
    "executionInfo": {
     "elapsed": 975,
     "status": "ok",
     "timestamp": 1741437573609,
     "user": {
      "displayName": "조경원",
      "userId": "10205523497785796707"
     },
     "user_tz": -540
    },
    "id": "6eMJKhrxqglq",
    "outputId": "7b6ef8c8-0c57-4c79-bd0d-3be6d1d2cbdc"
   },
   "outputs": [
    {
     "name": "stdout",
     "output_type": "stream",
     "text": [
      "==================================\u001b[1m Ai Message \u001b[0m==================================\n",
      "\n",
      "I don't have access to personal data unless you've shared it with me in this conversation. Therefore, I don't know your name. If you'd like to tell me, feel free!\n"
     ]
    }
   ],
   "source": [
    "query = \"What's my name?\"\n",
    "config = {\"configurable\": {\"thread_id\": \"abc234\"}}\n",
    "\n",
    "input_messages = [HumanMessage(query)]\n",
    "output = app.invoke({\"messages\": input_messages}, config)\n",
    "output[\"messages\"][-1].pretty_print()"
   ]
  },
  {
   "cell_type": "markdown",
   "metadata": {
    "id": "WcDk29Hq8p3K"
   },
   "source": [
    "## [dictionary inputs](https://python.langchain.com/docs/how_to/message_history/#example-dictionary-inputs)"
   ]
  },
  {
   "cell_type": "markdown",
   "metadata": {
    "id": "M6IZ_rQr9xp8"
   },
   "source": [
    "### State"
   ]
  },
  {
   "cell_type": "code",
   "execution_count": 51,
   "metadata": {
    "executionInfo": {
     "elapsed": 2,
     "status": "ok",
     "timestamp": 1741437573609,
     "user": {
      "displayName": "조경원",
      "userId": "10205523497785796707"
     },
     "user_tz": -540
    },
    "id": "rwBM4XH89uui"
   },
   "outputs": [],
   "source": [
    "from typing import Sequence\n",
    "\n",
    "from langchain_core.messages import BaseMessage\n",
    "from langgraph.graph.message import add_messages\n",
    "from typing_extensions import Annotated, TypedDict\n",
    "\n",
    "\n",
    "class State(TypedDict):\n",
    "    messages: Annotated[Sequence[BaseMessage], add_messages]\n",
    "    language: str"
   ]
  },
  {
   "cell_type": "markdown",
   "metadata": {
    "id": "xDu_BZnH9iTF"
   },
   "source": [
    "### Node\n",
    "- [ChatPromptTemplate](https://python.langchain.com/api_reference/core/prompts/langchain_core.prompts.chat.ChatPromptTemplate.html)"
   ]
  },
  {
   "cell_type": "code",
   "execution_count": 52,
   "metadata": {
    "executionInfo": {
     "elapsed": 2,
     "status": "ok",
     "timestamp": 1741437573609,
     "user": {
      "displayName": "조경원",
      "userId": "10205523497785796707"
     },
     "user_tz": -540
    },
    "id": "6yw7xTXWqgo7"
   },
   "outputs": [],
   "source": [
    "from langchain_core.prompts import ChatPromptTemplate, MessagesPlaceholder\n",
    "\n",
    "prompt = ChatPromptTemplate.from_messages(\n",
    "    [\n",
    "        (\"system\", \"Answer in {language}.\"),\n",
    "        MessagesPlaceholder(variable_name=\"messages\"),\n",
    "    ]\n",
    ")\n",
    "\n",
    "runnable = prompt | model"
   ]
  },
  {
   "cell_type": "code",
   "execution_count": 53,
   "metadata": {
    "colab": {
     "base_uri": "https://localhost:8080/"
    },
    "executionInfo": {
     "elapsed": 13,
     "status": "ok",
     "timestamp": 1741437573621,
     "user": {
      "displayName": "조경원",
      "userId": "10205523497785796707"
     },
     "user_tz": -540
    },
    "id": "7PopXFXsh2zt",
    "outputId": "bcf04833-29cb-4b24-9f46-f46bc2f8d77d"
   },
   "outputs": [
    {
     "data": {
      "text/plain": [
       "['language', 'messages']"
      ]
     },
     "execution_count": 53,
     "metadata": {},
     "output_type": "execute_result"
    }
   ],
   "source": [
    "prompt.input_variables"
   ]
  },
  {
   "cell_type": "code",
   "execution_count": 54,
   "metadata": {
    "executionInfo": {
     "elapsed": 0,
     "status": "ok",
     "timestamp": 1741437573626,
     "user": {
      "displayName": "조경원",
      "userId": "10205523497785796707"
     },
     "user_tz": -540
    },
    "id": "CXne4TqMiXH3"
   },
   "outputs": [],
   "source": [
    "def call_model(state: State):\n",
    "    response = runnable.invoke(state)\n",
    "    # Update message history with response:\n",
    "    return {\"messages\": [response]}"
   ]
  },
  {
   "cell_type": "markdown",
   "metadata": {
    "id": "FkbIls0G-Bgh"
   },
   "source": [
    "### StateGraph"
   ]
  },
  {
   "cell_type": "code",
   "execution_count": 55,
   "metadata": {
    "colab": {
     "base_uri": "https://localhost:8080/"
    },
    "executionInfo": {
     "elapsed": 3,
     "status": "ok",
     "timestamp": 1741437573630,
     "user": {
      "displayName": "조경원",
      "userId": "10205523497785796707"
     },
     "user_tz": -540
    },
    "id": "m7521KAF-AFT",
    "outputId": "e4e31d52-f036-480c-dd7c-b76f51380c59"
   },
   "outputs": [
    {
     "data": {
      "text/plain": [
       "<langgraph.graph.state.StateGraph at 0x7cf389cf34d0>"
      ]
     },
     "execution_count": 55,
     "metadata": {},
     "output_type": "execute_result"
    }
   ],
   "source": [
    "workflow = StateGraph(state_schema=State)\n",
    "workflow.add_edge(START, \"model\")\n",
    "workflow.add_node(\"model\", call_model)"
   ]
  },
  {
   "cell_type": "markdown",
   "metadata": {
    "id": "ovTOQxyb-FCo"
   },
   "source": [
    "### MemorySaver"
   ]
  },
  {
   "cell_type": "code",
   "execution_count": 56,
   "metadata": {
    "executionInfo": {
     "elapsed": 2,
     "status": "ok",
     "timestamp": 1741437573640,
     "user": {
      "displayName": "조경원",
      "userId": "10205523497785796707"
     },
     "user_tz": -540
    },
    "id": "TsHPiuIoqgsU"
   },
   "outputs": [],
   "source": [
    "memory = MemorySaver()\n",
    "app = workflow.compile(checkpointer=memory)"
   ]
  },
  {
   "cell_type": "markdown",
   "metadata": {
    "id": "Ji9Sjff0wSVm"
   },
   "source": [
    "### display"
   ]
  },
  {
   "cell_type": "code",
   "execution_count": 57,
   "metadata": {
    "colab": {
     "base_uri": "https://localhost:8080/",
     "height": 151
    },
    "executionInfo": {
     "elapsed": 35,
     "status": "ok",
     "timestamp": 1741437573675,
     "user": {
      "displayName": "조경원",
      "userId": "10205523497785796707"
     },
     "user_tz": -540
    },
    "id": "s-4sWfyYwQqz",
    "outputId": "b99ad39a-c941-4095-f583-6f874db4e2c4"
   },
   "outputs": [
    {
     "data": {
      "image/png": "[encoded data removed]",
      "text/plain": [
       "<IPython.core.display.Image object>"
      ]
     },
     "execution_count": 57,
     "metadata": {},
     "output_type": "execute_result"
    }
   ],
   "source": [
    "from IPython.display import Image\n",
    "\n",
    "Image(app.get_graph().draw_mermaid_png())"
   ]
  },
  {
   "cell_type": "markdown",
   "metadata": {
    "id": "Kp8qoOHVwVmT"
   },
   "source": [
    "### app.invoke"
   ]
  },
  {
   "cell_type": "code",
   "execution_count": 58,
   "metadata": {
    "colab": {
     "base_uri": "https://localhost:8080/"
    },
    "executionInfo": {
     "elapsed": 491,
     "status": "ok",
     "timestamp": 1741437574167,
     "user": {
      "displayName": "조경원",
      "userId": "10205523497785796707"
     },
     "user_tz": -540
    },
    "id": "ZYOyeaIAqgvX",
    "outputId": "25d6552e-4ce0-49fb-f061-9213ef06fede"
   },
   "outputs": [
    {
     "name": "stdout",
     "output_type": "stream",
     "text": [
      "==================================\u001b[1m Ai Message \u001b[0m==================================\n",
      "\n",
      "¡Hola, Bob! ¿En qué puedo ayudarte hoy?\n"
     ]
    }
   ],
   "source": [
    "config = {\"configurable\": {\"thread_id\": \"abc345\"}}\n",
    "\n",
    "input_dict = {\n",
    "    \"messages\": [HumanMessage(\"Hi, I'm Bob.\")],\n",
    "    \"language\": \"Spanish\",\n",
    "}\n",
    "output = app.invoke(input_dict, config)\n",
    "output[\"messages\"][-1].pretty_print()"
   ]
  },
  {
   "cell_type": "code",
   "execution_count": 59,
   "metadata": {
    "colab": {
     "base_uri": "https://localhost:8080/"
    },
    "executionInfo": {
     "elapsed": 440,
     "status": "ok",
     "timestamp": 1741437574608,
     "user": {
      "displayName": "조경원",
      "userId": "10205523497785796707"
     },
     "user_tz": -540
    },
    "id": "Ed28dvznilfk",
    "outputId": "48e10302-ced9-4ba9-f900-1dda618ece53"
   },
   "outputs": [
    {
     "name": "stdout",
     "output_type": "stream",
     "text": [
      "==================================\u001b[1m Ai Message \u001b[0m==================================\n",
      "\n",
      "안녕하세요, Bob! 어떻게 도와드릴까요?\n"
     ]
    }
   ],
   "source": [
    "config = {\"configurable\": {\"thread_id\": \"abc345\"}}\n",
    "\n",
    "input_dict = {\n",
    "    \"messages\": [HumanMessage(\"Hi, I'm Bob.\")],\n",
    "    \"language\": \"Korean\",\n",
    "}\n",
    "output = app.invoke(input_dict, config)\n",
    "output[\"messages\"][-1].pretty_print()"
   ]
  },
  {
   "cell_type": "markdown",
   "metadata": {
    "id": "Ow-mj0MY-hSh"
   },
   "source": [
    "## [managing message history](https://python.langchain.com/docs/how_to/message_history/#managing-message-history)"
   ]
  },
  {
   "cell_type": "code",
   "execution_count": 60,
   "metadata": {
    "colab": {
     "base_uri": "https://localhost:8080/"
    },
    "executionInfo": {
     "elapsed": 4,
     "status": "ok",
     "timestamp": 1741437574612,
     "user": {
      "displayName": "조경원",
      "userId": "10205523497785796707"
     },
     "user_tz": -540
    },
    "id": "CF9Dd6AIqg2Y",
    "outputId": "d28a9681-7266-46e5-b48c-bbd00830b9ab"
   },
   "outputs": [
    {
     "name": "stdout",
     "output_type": "stream",
     "text": [
      "================================\u001b[1m Human Message \u001b[0m=================================\n",
      "\n",
      "Hi, I'm Bob.\n",
      "==================================\u001b[1m Ai Message \u001b[0m==================================\n",
      "\n",
      "¡Hola, Bob! ¿En qué puedo ayudarte hoy?\n",
      "================================\u001b[1m Human Message \u001b[0m=================================\n",
      "\n",
      "Hi, I'm Bob.\n",
      "==================================\u001b[1m Ai Message \u001b[0m==================================\n",
      "\n",
      "안녕하세요, Bob! 어떻게 도와드릴까요?\n"
     ]
    }
   ],
   "source": [
    "state = app.get_state(config).values\n",
    "\n",
    "for message in state[\"messages\"]:\n",
    "    message.pretty_print()"
   ]
  },
  {
   "cell_type": "code",
   "execution_count": 61,
   "metadata": {
    "colab": {
     "base_uri": "https://localhost:8080/"
    },
    "executionInfo": {
     "elapsed": 3,
     "status": "ok",
     "timestamp": 1741437574616,
     "user": {
      "displayName": "조경원",
      "userId": "10205523497785796707"
     },
     "user_tz": -540
    },
    "id": "yH3h7FoLjXIj",
    "outputId": "684b82bc-fca1-445a-f9ec-b1d5b8f9a451"
   },
   "outputs": [
    {
     "name": "stdout",
     "output_type": "stream",
     "text": [
      "Korean\n"
     ]
    }
   ],
   "source": [
    "state = app.get_state(config).values\n",
    "\n",
    "print(state[\"language\"])"
   ]
  },
  {
   "cell_type": "markdown",
   "metadata": {
    "id": "ozh5SYvd-8rG"
   },
   "source": [
    "### update_state"
   ]
  },
  {
   "cell_type": "code",
   "execution_count": 62,
   "metadata": {
    "executionInfo": {
     "elapsed": 1,
     "status": "ok",
     "timestamp": 1741437574617,
     "user": {
      "displayName": "조경원",
      "userId": "10205523497785796707"
     },
     "user_tz": -540
    },
    "id": "Cpj0JMaz-m32"
   },
   "outputs": [],
   "source": [
    "from langchain_core.messages import HumanMessage\n",
    "\n",
    "_ = app.update_state(config, {\"messages\": [HumanMessage(\"Test\")]})"
   ]
  },
  {
   "cell_type": "code",
   "execution_count": 63,
   "metadata": {
    "colab": {
     "base_uri": "https://localhost:8080/"
    },
    "executionInfo": {
     "elapsed": 13,
     "status": "ok",
     "timestamp": 1741437574631,
     "user": {
      "displayName": "조경원",
      "userId": "10205523497785796707"
     },
     "user_tz": -540
    },
    "id": "0hjvwMGC-m6u",
    "outputId": "7c1ca847-48b9-4041-f317-478f9e0db3d1"
   },
   "outputs": [
    {
     "name": "stdout",
     "output_type": "stream",
     "text": [
      "================================\u001b[1m Human Message \u001b[0m=================================\n",
      "\n",
      "Hi, I'm Bob.\n",
      "==================================\u001b[1m Ai Message \u001b[0m==================================\n",
      "\n",
      "¡Hola, Bob! ¿En qué puedo ayudarte hoy?\n",
      "================================\u001b[1m Human Message \u001b[0m=================================\n",
      "\n",
      "Hi, I'm Bob.\n",
      "==================================\u001b[1m Ai Message \u001b[0m==================================\n",
      "\n",
      "안녕하세요, Bob! 어떻게 도와드릴까요?\n",
      "================================\u001b[1m Human Message \u001b[0m=================================\n",
      "\n",
      "Test\n"
     ]
    }
   ],
   "source": [
    "state = app.get_state(config).values\n",
    "\n",
    "for message in state[\"messages\"]:\n",
    "    message.pretty_print()"
   ]
  },
  {
   "cell_type": "code",
   "execution_count": 63,
   "metadata": {
    "executionInfo": {
     "elapsed": 1,
     "status": "ok",
     "timestamp": 1741437574632,
     "user": {
      "displayName": "조경원",
      "userId": "10205523497785796707"
     },
     "user_tz": -540
    },
    "id": "Wycf0Lbv-nKz"
   },
   "outputs": [],
   "source": []
  }
 ],
 "metadata": {
  "colab": {
   "authorship_tag": "ABX9TyNOFN71t3SLJqVqOj7h41Lh",
   "provenance": [],
   "toc_visible": true
  },
  "kernelspec": {
   "display_name": "Python 3",
   "name": "python3"
  },
  "language_info": {
   "name": "python"
  }
 },
 "nbformat": 4,
 "nbformat_minor": 0
}
