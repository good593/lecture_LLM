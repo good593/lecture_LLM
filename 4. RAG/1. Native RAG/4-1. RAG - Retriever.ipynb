{
 "cells": [
  {
   "cell_type": "markdown",
   "metadata": {
    "id": "1dUraFvo-LEm"
   },
   "source": [
    "# Setup"
   ]
  },
  {
   "cell_type": "markdown",
   "metadata": {
    "id": "uI2h7zT_AJ9U"
   },
   "source": [
    "## install"
   ]
  },
  {
   "cell_type": "code",
   "execution_count": null,
   "metadata": {
    "colab": {
     "base_uri": "https://localhost:8080/"
    },
    "executionInfo": {
     "elapsed": 35119,
     "status": "ok",
     "timestamp": 1741138985136,
     "user": {
      "displayName": "조경원",
      "userId": "10205523497785796707"
     },
     "user_tz": -540
    },
    "id": "4g8NmlPSAI5F",
    "outputId": "29f0a619-d74f-429c-cef2-fcd7f8b598ac"
   },
   "outputs": [
    {
     "name": "stdout",
     "output_type": "stream",
     "text": [
      "Requirement already satisfied: langchain in /usr/local/lib/python3.11/dist-packages (0.3.19)\n",
      "Collecting langchain_openai\n",
      "  Downloading langchain_openai-0.3.7-py3-none-any.whl.metadata (2.3 kB)\n",
      "Collecting langchain_community\n",
      "  Downloading langchain_community-0.3.19-py3-none-any.whl.metadata (2.4 kB)\n",
      "Collecting faiss-cpu\n",
      "  Downloading faiss_cpu-1.10.0-cp311-cp311-manylinux_2_28_x86_64.whl.metadata (4.4 kB)\n",
      "Collecting rank_bm25\n",
      "  Downloading rank_bm25-0.2.2-py3-none-any.whl.metadata (3.2 kB)\n",
      "Requirement already satisfied: langchain-core<1.0.0,>=0.3.35 in /usr/local/lib/python3.11/dist-packages (from langchain) (0.3.40)\n",
      "Requirement already satisfied: langchain-text-splitters<1.0.0,>=0.3.6 in /usr/local/lib/python3.11/dist-packages (from langchain) (0.3.6)\n",
      "Requirement already satisfied: langsmith<0.4,>=0.1.17 in /usr/local/lib/python3.11/dist-packages (from langchain) (0.3.11)\n",
      "Requirement already satisfied: pydantic<3.0.0,>=2.7.4 in /usr/local/lib/python3.11/dist-packages (from langchain) (2.10.6)\n",
      "Requirement already satisfied: SQLAlchemy<3,>=1.4 in /usr/local/lib/python3.11/dist-packages (from langchain) (2.0.38)\n",
      "Requirement already satisfied: requests<3,>=2 in /usr/local/lib/python3.11/dist-packages (from langchain) (2.32.3)\n",
      "Requirement already satisfied: PyYAML>=5.3 in /usr/local/lib/python3.11/dist-packages (from langchain) (6.0.2)\n",
      "Requirement already satisfied: aiohttp<4.0.0,>=3.8.3 in /usr/local/lib/python3.11/dist-packages (from langchain) (3.11.13)\n",
      "Requirement already satisfied: tenacity!=8.4.0,<10,>=8.1.0 in /usr/local/lib/python3.11/dist-packages (from langchain) (9.0.0)\n",
      "Requirement already satisfied: numpy<2,>=1.26.4 in /usr/local/lib/python3.11/dist-packages (from langchain) (1.26.4)\n",
      "Requirement already satisfied: openai<2.0.0,>=1.58.1 in /usr/local/lib/python3.11/dist-packages (from langchain_openai) (1.61.1)\n",
      "Collecting tiktoken<1,>=0.7 (from langchain_openai)\n",
      "  Downloading tiktoken-0.9.0-cp311-cp311-manylinux_2_17_x86_64.manylinux2014_x86_64.whl.metadata (6.7 kB)\n",
      "Collecting langchain-core<1.0.0,>=0.3.35 (from langchain)\n",
      "  Downloading langchain_core-0.3.41-py3-none-any.whl.metadata (5.9 kB)\n",
      "Collecting langchain\n",
      "  Downloading langchain-0.3.20-py3-none-any.whl.metadata (7.7 kB)\n",
      "Collecting dataclasses-json<0.7,>=0.5.7 (from langchain_community)\n",
      "  Downloading dataclasses_json-0.6.7-py3-none-any.whl.metadata (25 kB)\n",
      "Collecting pydantic-settings<3.0.0,>=2.4.0 (from langchain_community)\n",
      "  Downloading pydantic_settings-2.8.1-py3-none-any.whl.metadata (3.5 kB)\n",
      "Collecting httpx-sse<1.0.0,>=0.4.0 (from langchain_community)\n",
      "  Downloading httpx_sse-0.4.0-py3-none-any.whl.metadata (9.0 kB)\n",
      "Requirement already satisfied: packaging in /usr/local/lib/python3.11/dist-packages (from faiss-cpu) (24.2)\n",
      "Requirement already satisfied: aiohappyeyeballs>=2.3.0 in /usr/local/lib/python3.11/dist-packages (from aiohttp<4.0.0,>=3.8.3->langchain) (2.4.6)\n",
      "Requirement already satisfied: aiosignal>=1.1.2 in /usr/local/lib/python3.11/dist-packages (from aiohttp<4.0.0,>=3.8.3->langchain) (1.3.2)\n",
      "Requirement already satisfied: attrs>=17.3.0 in /usr/local/lib/python3.11/dist-packages (from aiohttp<4.0.0,>=3.8.3->langchain) (25.1.0)\n",
      "Requirement already satisfied: frozenlist>=1.1.1 in /usr/local/lib/python3.11/dist-packages (from aiohttp<4.0.0,>=3.8.3->langchain) (1.5.0)\n",
      "Requirement already satisfied: multidict<7.0,>=4.5 in /usr/local/lib/python3.11/dist-packages (from aiohttp<4.0.0,>=3.8.3->langchain) (6.1.0)\n",
      "Requirement already satisfied: propcache>=0.2.0 in /usr/local/lib/python3.11/dist-packages (from aiohttp<4.0.0,>=3.8.3->langchain) (0.3.0)\n",
      "Requirement already satisfied: yarl<2.0,>=1.17.0 in /usr/local/lib/python3.11/dist-packages (from aiohttp<4.0.0,>=3.8.3->langchain) (1.18.3)\n",
      "Collecting marshmallow<4.0.0,>=3.18.0 (from dataclasses-json<0.7,>=0.5.7->langchain_community)\n",
      "  Downloading marshmallow-3.26.1-py3-none-any.whl.metadata (7.3 kB)\n",
      "Collecting typing-inspect<1,>=0.4.0 (from dataclasses-json<0.7,>=0.5.7->langchain_community)\n",
      "  Downloading typing_inspect-0.9.0-py3-none-any.whl.metadata (1.5 kB)\n",
      "Requirement already satisfied: jsonpatch<2.0,>=1.33 in /usr/local/lib/python3.11/dist-packages (from langchain-core<1.0.0,>=0.3.35->langchain) (1.33)\n",
      "Requirement already satisfied: typing-extensions>=4.7 in /usr/local/lib/python3.11/dist-packages (from langchain-core<1.0.0,>=0.3.35->langchain) (4.12.2)\n",
      "Requirement already satisfied: httpx<1,>=0.23.0 in /usr/local/lib/python3.11/dist-packages (from langsmith<0.4,>=0.1.17->langchain) (0.28.1)\n",
      "Requirement already satisfied: orjson<4.0.0,>=3.9.14 in /usr/local/lib/python3.11/dist-packages (from langsmith<0.4,>=0.1.17->langchain) (3.10.15)\n",
      "Requirement already satisfied: requests-toolbelt<2.0.0,>=1.0.0 in /usr/local/lib/python3.11/dist-packages (from langsmith<0.4,>=0.1.17->langchain) (1.0.0)\n",
      "Requirement already satisfied: zstandard<0.24.0,>=0.23.0 in /usr/local/lib/python3.11/dist-packages (from langsmith<0.4,>=0.1.17->langchain) (0.23.0)\n",
      "Requirement already satisfied: anyio<5,>=3.5.0 in /usr/local/lib/python3.11/dist-packages (from openai<2.0.0,>=1.58.1->langchain_openai) (3.7.1)\n",
      "Requirement already satisfied: distro<2,>=1.7.0 in /usr/local/lib/python3.11/dist-packages (from openai<2.0.0,>=1.58.1->langchain_openai) (1.9.0)\n",
      "Requirement already satisfied: jiter<1,>=0.4.0 in /usr/local/lib/python3.11/dist-packages (from openai<2.0.0,>=1.58.1->langchain_openai) (0.8.2)\n",
      "Requirement already satisfied: sniffio in /usr/local/lib/python3.11/dist-packages (from openai<2.0.0,>=1.58.1->langchain_openai) (1.3.1)\n",
      "Requirement already satisfied: tqdm>4 in /usr/local/lib/python3.11/dist-packages (from openai<2.0.0,>=1.58.1->langchain_openai) (4.67.1)\n",
      "Requirement already satisfied: annotated-types>=0.6.0 in /usr/local/lib/python3.11/dist-packages (from pydantic<3.0.0,>=2.7.4->langchain) (0.7.0)\n",
      "Requirement already satisfied: pydantic-core==2.27.2 in /usr/local/lib/python3.11/dist-packages (from pydantic<3.0.0,>=2.7.4->langchain) (2.27.2)\n",
      "Collecting python-dotenv>=0.21.0 (from pydantic-settings<3.0.0,>=2.4.0->langchain_community)\n",
      "  Downloading python_dotenv-1.0.1-py3-none-any.whl.metadata (23 kB)\n",
      "Requirement already satisfied: charset-normalizer<4,>=2 in /usr/local/lib/python3.11/dist-packages (from requests<3,>=2->langchain) (3.4.1)\n",
      "Requirement already satisfied: idna<4,>=2.5 in /usr/local/lib/python3.11/dist-packages (from requests<3,>=2->langchain) (3.10)\n",
      "Requirement already satisfied: urllib3<3,>=1.21.1 in /usr/local/lib/python3.11/dist-packages (from requests<3,>=2->langchain) (2.3.0)\n",
      "Requirement already satisfied: certifi>=2017.4.17 in /usr/local/lib/python3.11/dist-packages (from requests<3,>=2->langchain) (2025.1.31)\n",
      "Requirement already satisfied: greenlet!=0.4.17 in /usr/local/lib/python3.11/dist-packages (from SQLAlchemy<3,>=1.4->langchain) (3.1.1)\n",
      "Requirement already satisfied: regex>=2022.1.18 in /usr/local/lib/python3.11/dist-packages (from tiktoken<1,>=0.7->langchain_openai) (2024.11.6)\n",
      "Requirement already satisfied: httpcore==1.* in /usr/local/lib/python3.11/dist-packages (from httpx<1,>=0.23.0->langsmith<0.4,>=0.1.17->langchain) (1.0.7)\n",
      "Requirement already satisfied: h11<0.15,>=0.13 in /usr/local/lib/python3.11/dist-packages (from httpcore==1.*->httpx<1,>=0.23.0->langsmith<0.4,>=0.1.17->langchain) (0.14.0)\n",
      "Requirement already satisfied: jsonpointer>=1.9 in /usr/local/lib/python3.11/dist-packages (from jsonpatch<2.0,>=1.33->langchain-core<1.0.0,>=0.3.35->langchain) (3.0.0)\n",
      "Collecting mypy-extensions>=0.3.0 (from typing-inspect<1,>=0.4.0->dataclasses-json<0.7,>=0.5.7->langchain_community)\n",
      "  Downloading mypy_extensions-1.0.0-py3-none-any.whl.metadata (1.1 kB)\n",
      "Downloading langchain_openai-0.3.7-py3-none-any.whl (55 kB)\n",
      "\u001b[2K   \u001b[90m━━━━━━━━━━━━━━━━━━━━━━━━━━━━━━━━━━━━━━━━\u001b[0m \u001b[32m55.3/55.3 kB\u001b[0m \u001b[31m3.0 MB/s\u001b[0m eta \u001b[36m0:00:00\u001b[0m\n",
      "\u001b[?25hDownloading langchain_community-0.3.19-py3-none-any.whl (2.5 MB)\n",
      "\u001b[2K   \u001b[90m━━━━━━━━━━━━━━━━━━━━━━━━━━━━━━━━━━━━━━━━\u001b[0m \u001b[32m2.5/2.5 MB\u001b[0m \u001b[31m20.0 MB/s\u001b[0m eta \u001b[36m0:00:00\u001b[0m\n",
      "\u001b[?25hDownloading langchain-0.3.20-py3-none-any.whl (1.0 MB)\n",
      "\u001b[2K   \u001b[90m━━━━━━━━━━━━━━━━━━━━━━━━━━━━━━━━━━━━━━━━\u001b[0m \u001b[32m1.0/1.0 MB\u001b[0m \u001b[31m14.1 MB/s\u001b[0m eta \u001b[36m0:00:00\u001b[0m\n",
      "\u001b[?25hDownloading faiss_cpu-1.10.0-cp311-cp311-manylinux_2_28_x86_64.whl (30.7 MB)\n",
      "\u001b[2K   \u001b[90m━━━━━━━━━━━━━━━━━━━━━━━━━━━━━━━━━━━━━━━━\u001b[0m \u001b[32m30.7/30.7 MB\u001b[0m \u001b[31m13.3 MB/s\u001b[0m eta \u001b[36m0:00:00\u001b[0m\n",
      "\u001b[?25hDownloading rank_bm25-0.2.2-py3-none-any.whl (8.6 kB)\n",
      "Downloading dataclasses_json-0.6.7-py3-none-any.whl (28 kB)\n",
      "Downloading httpx_sse-0.4.0-py3-none-any.whl (7.8 kB)\n",
      "Downloading langchain_core-0.3.41-py3-none-any.whl (415 kB)\n",
      "\u001b[2K   \u001b[90m━━━━━━━━━━━━━━━━━━━━━━━━━━━━━━━━━━━━━━━━\u001b[0m \u001b[32m415.1/415.1 kB\u001b[0m \u001b[31m11.0 MB/s\u001b[0m eta \u001b[36m0:00:00\u001b[0m\n",
      "\u001b[?25hDownloading pydantic_settings-2.8.1-py3-none-any.whl (30 kB)\n",
      "Downloading tiktoken-0.9.0-cp311-cp311-manylinux_2_17_x86_64.manylinux2014_x86_64.whl (1.2 MB)\n",
      "\u001b[2K   \u001b[90m━━━━━━━━━━━━━━━━━━━━━━━━━━━━━━━━━━━━━━━━\u001b[0m \u001b[32m1.2/1.2 MB\u001b[0m \u001b[31m27.8 MB/s\u001b[0m eta \u001b[36m0:00:00\u001b[0m\n",
      "\u001b[?25hDownloading marshmallow-3.26.1-py3-none-any.whl (50 kB)\n",
      "\u001b[2K   \u001b[90m━━━━━━━━━━━━━━━━━━━━━━━━━━━━━━━━━━━━━━━━\u001b[0m \u001b[32m50.9/50.9 kB\u001b[0m \u001b[31m2.7 MB/s\u001b[0m eta \u001b[36m0:00:00\u001b[0m\n",
      "\u001b[?25hDownloading python_dotenv-1.0.1-py3-none-any.whl (19 kB)\n",
      "Downloading typing_inspect-0.9.0-py3-none-any.whl (8.8 kB)\n",
      "Downloading mypy_extensions-1.0.0-py3-none-any.whl (4.7 kB)\n",
      "Installing collected packages: rank_bm25, python-dotenv, mypy-extensions, marshmallow, httpx-sse, faiss-cpu, typing-inspect, tiktoken, pydantic-settings, dataclasses-json, langchain-core, langchain_openai, langchain, langchain_community\n",
      "  Attempting uninstall: langchain-core\n",
      "    Found existing installation: langchain-core 0.3.40\n",
      "    Uninstalling langchain-core-0.3.40:\n",
      "      Successfully uninstalled langchain-core-0.3.40\n",
      "  Attempting uninstall: langchain\n",
      "    Found existing installation: langchain 0.3.19\n",
      "    Uninstalling langchain-0.3.19:\n",
      "      Successfully uninstalled langchain-0.3.19\n",
      "Successfully installed dataclasses-json-0.6.7 faiss-cpu-1.10.0 httpx-sse-0.4.0 langchain-0.3.20 langchain-core-0.3.41 langchain_community-0.3.19 langchain_openai-0.3.7 marshmallow-3.26.1 mypy-extensions-1.0.0 pydantic-settings-2.8.1 python-dotenv-1.0.1 rank_bm25-0.2.2 tiktoken-0.9.0 typing-inspect-0.9.0\n"
     ]
    }
   ],
   "source": [
    "!pip install langchain langchain_openai langchain_community faiss-cpu rank_bm25"
   ]
  },
  {
   "cell_type": "markdown",
   "metadata": {
    "id": "94VQwclh-VMi"
   },
   "source": [
    "## OpenAI Key 등록\n",
    "- [OpenAI Key 발급](https://platform.openai.com/api-keys)\n",
    "- [OpenAI 요금](https://openai.com/api/pricing/)"
   ]
  },
  {
   "cell_type": "code",
   "execution_count": null,
   "metadata": {
    "id": "whmrC3Mb-XR1"
   },
   "outputs": [],
   "source": [
    "import os\n",
    "\n",
    "os.environ['OPENAI_API_KEY'] = 'sk-'\n"
   ]
  },
  {
   "cell_type": "markdown",
   "metadata": {
    "id": "da6Sw7sH8_Ty"
   },
   "source": [
    "## 구글 드라이브 연결"
   ]
  },
  {
   "cell_type": "code",
   "execution_count": null,
   "metadata": {
    "colab": {
     "base_uri": "https://localhost:8080/"
    },
    "executionInfo": {
     "elapsed": 22295,
     "status": "ok",
     "timestamp": 1741139007437,
     "user": {
      "displayName": "조경원",
      "userId": "10205523497785796707"
     },
     "user_tz": -540
    },
    "id": "tOD86aMw88qS",
    "outputId": "b7e6d742-400c-4e2d-93d3-a138057f1e8d"
   },
   "outputs": [
    {
     "name": "stdout",
     "output_type": "stream",
     "text": [
      "Mounted at /content/data\n"
     ]
    }
   ],
   "source": [
    "# 구글 드라이브 연결(데이터 로드를 위해서)\n",
    "try:\n",
    "    from google.colab import drive\n",
    "\n",
    "    drive.mount('/content/data')\n",
    "    DATA_PATH = \"/content/data/MyDrive/ai_lecture/5. Large Language Models/data/vector_db/\"\n",
    "except:\n",
    "    DATA_PATH = \"./data/\""
   ]
  },
  {
   "cell_type": "markdown",
   "metadata": {
    "id": "elqAm89UwM2H"
   },
   "source": [
    "# Loader"
   ]
  },
  {
   "cell_type": "code",
   "execution_count": null,
   "metadata": {
    "colab": {
     "base_uri": "https://localhost:8080/"
    },
    "executionInfo": {
     "elapsed": 7490,
     "status": "ok",
     "timestamp": 1741139014924,
     "user": {
      "displayName": "조경원",
      "userId": "10205523497785796707"
     },
     "user_tz": -540
    },
    "id": "dRP20tXQvOHo",
    "outputId": "e212edee-1436-4ba1-dd2e-3f6213390ae7"
   },
   "outputs": [
    {
     "data": {
      "text/plain": [
       "1"
      ]
     },
     "execution_count": 4,
     "metadata": {},
     "output_type": "execute_result"
    }
   ],
   "source": [
    "from langchain_community.document_loaders import TextLoader\n",
    "\n",
    "loader = TextLoader(DATA_PATH+\"nlp-keywords.txt\")\n",
    "\n",
    "docs = loader.load()\n",
    "len(docs)"
   ]
  },
  {
   "cell_type": "markdown",
   "metadata": {
    "id": "gHr5iVrgwVzF"
   },
   "source": [
    "# Splitter"
   ]
  },
  {
   "cell_type": "code",
   "execution_count": null,
   "metadata": {
    "id": "94YyxHK4vOKr"
   },
   "outputs": [],
   "source": [
    "from langchain.text_splitter import RecursiveCharacterTextSplitter\n",
    "\n",
    "text_splitter = RecursiveCharacterTextSplitter(\n",
    "    chunk_size=600, chunk_overlap=0)"
   ]
  },
  {
   "cell_type": "code",
   "execution_count": null,
   "metadata": {
    "colab": {
     "base_uri": "https://localhost:8080/"
    },
    "executionInfo": {
     "elapsed": 15,
     "status": "ok",
     "timestamp": 1741139015071,
     "user": {
      "displayName": "조경원",
      "userId": "10205523497785796707"
     },
     "user_tz": -540
    },
    "id": "_j9dpZeyvOOE",
    "outputId": "3dbdf044-c720-4a5b-979b-600b42f197f6"
   },
   "outputs": [
    {
     "data": {
      "text/plain": [
       "11"
      ]
     },
     "execution_count": 6,
     "metadata": {},
     "output_type": "execute_result"
    }
   ],
   "source": [
    "split_doc1 = text_splitter.split_documents(docs)\n",
    "len(split_doc1)"
   ]
  },
  {
   "cell_type": "markdown",
   "metadata": {
    "id": "eATo4i9Rwehg"
   },
   "source": [
    "# Embedding"
   ]
  },
  {
   "cell_type": "code",
   "execution_count": null,
   "metadata": {
    "id": "v9TryhSVvORN"
   },
   "outputs": [],
   "source": [
    "from langchain_openai import OpenAIEmbeddings\n",
    "\n",
    "embeddings = OpenAIEmbeddings(model=\"text-embedding-3-small\")"
   ]
  },
  {
   "cell_type": "markdown",
   "metadata": {
    "id": "yKuVym64wl0P"
   },
   "source": [
    "# Vector DB"
   ]
  },
  {
   "cell_type": "code",
   "execution_count": null,
   "metadata": {
    "id": "Qo4Nm7yZvOUU"
   },
   "outputs": [],
   "source": [
    "import faiss\n",
    "from langchain_community.vectorstores import FAISS"
   ]
  },
  {
   "cell_type": "code",
   "execution_count": null,
   "metadata": {
    "id": "zHMIum5LvOXk"
   },
   "outputs": [],
   "source": [
    "# DB 생성\n",
    "db = FAISS.from_documents(\n",
    "    documents=split_doc1, embedding=embeddings)"
   ]
  },
  {
   "cell_type": "markdown",
   "metadata": {
    "id": "WtczsUotYsIR"
   },
   "source": [
    "# [Retriever](https://python.langchain.com/docs/how_to/#retrievers)\n",
    "- Retrieval Augmented Generation (RAG)에서 `검색도구(Retrievers)` 는 벡터 저장소에서 문서를 검색하는 도구입니다.\n",
    "- LangChain은 간단한 의미 검색도구부터 성능 향상을 위해 고려된 다양한 검색 알고리즘을 지원합니다."
   ]
  },
  {
   "cell_type": "markdown",
   "metadata": {
    "id": "vCvZmZnFjQ2m"
   },
   "source": [
    "![image.png](data:image/png;base64,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)"
   ]
  },
  {
   "cell_type": "markdown",
   "metadata": {
    "id": "pSz3X4Dmvjqp"
   },
   "source": [
    "## [벡터스토어 기반 검색기](https://wikidocs.net/234016)\n",
    "- VectorStore 지원 검색기 는 vector store를 사용하여 문서를 검색하는 retriever입니다.\n",
    "- Vector store에 구현된 `유사도 검색(similarity search)` 이나 `MMR` 과 같은 검색 메서드를 사용하여 vector store 내의 텍스트를 쿼리합니다."
   ]
  },
  {
   "cell_type": "markdown",
   "metadata": {
    "id": "gIMCP9_rw5i4"
   },
   "source": [
    "### Retriever\n",
    "- as_retriever 메서드는 VectorStore 객체를 기반으로 VectorStoreRetriever를 초기화하고 반환합니다. 이 메서드를 통해 다양한 검색 옵션을 설정하여 사용자의 요구에 맞는 문서 검색을 수행할 수 있습니다.\n",
    "- 매개변수(parameters)\n",
    "  - `**kwargs`: 검색 함수에 전달할 키워드 인자\n",
    "  - `search_type`: 검색 유형 (\"similarity\", \"mmr\", \"similarity_score_threshold\")\n",
    "  - `search_kwargs`: 추가 검색 옵션\n",
    "  - `k`: 반환할 문서 수 (기본값: 4)\n",
    "  - `score_threshold`: similarity_score_threshold 검색의 최소 유사도 임계값\n",
    "  - `fetch_k`: MMR 알고리즘에 전달할 문서 수 (기본값: 20)\n",
    "  - `lambda_mult`: MMR 결과의 다양성 조절 (0-1 사이, 기본값: 0.5)\n",
    "  - `filter`: 문서 메타데이터 기반 필터링"
   ]
  },
  {
   "cell_type": "code",
   "execution_count": null,
   "metadata": {
    "id": "0Bgn7OhGvOaq"
   },
   "outputs": [],
   "source": [
    "# 데이터베이스를 검색기로 사용하기 위해 retriever 변수에 할당\n",
    "retriever = db.as_retriever()\n"
   ]
  },
  {
   "cell_type": "markdown",
   "metadata": {
    "id": "xlEfcF1JxjZo"
   },
   "source": [
    "- `invoke 메서드`는 Retriever의 주요 진입점으로, 관련 문서를 검색하는 데 사용됩니다. 이 메서드는 동기적으로 Retriever를 호출하여 주어진 쿼리에 대한 관련 문서를 반환합니다.\n",
    "- 매개변수(parameters)\n",
    "  - `input`: 검색 쿼리 문자열\n",
    "  - `config`: Retriever 구성 (Optional[RunnableConfig])\n",
    "  - `**kwargs`: Retriever에 전달할 추가 인자"
   ]
  },
  {
   "cell_type": "code",
   "execution_count": null,
   "metadata": {
    "colab": {
     "base_uri": "https://localhost:8080/"
    },
    "executionInfo": {
     "elapsed": 370,
     "status": "ok",
     "timestamp": 1741139033675,
     "user": {
      "displayName": "조경원",
      "userId": "10205523497785796707"
     },
     "user_tz": -540
    },
    "id": "1b7SZ-h-vOdv",
    "outputId": "31a0c7c2-8b4e-4aa7-c537-03009c3757f0"
   },
   "outputs": [
    {
     "name": "stdout",
     "output_type": "stream",
     "text": [
      "정의: TF-IDF는 문서 내에서 단어의 중요도를 평가하는 데 사용되는 통계적 척도입니다. 이는 문서 내 단어의 빈도와 전체 문서 집합에서 그 단어의 희소성을 고려합니다.\n",
      "예시: 많은 문서에서 자주 등장하지 않는 단어는 높은 TF-IDF 값을 가집니다.\n",
      "연관키워드: 자연어 처리, 정보 검색, 데이터 마이닝\n",
      "\n",
      "Deep Learning\n",
      "\n",
      "정의: 딥러닝은 인공신경망을 이용하여 복잡한 문제를 해결하는 머신러닝의 한 분야입니다. 이는 데이터에서 고수준의 표현을 학습하는 데 중점을 둡니다.\n",
      "예시: 이미지 인식, 음성 인식, 자연어 처리 등에서 딥러닝 모델이 활용됩니다.\n",
      "연관키워드: 인공신경망, 머신러닝, 데이터 분석\n",
      "\n",
      "Schema\n",
      "\n",
      "정의: 스키마는 데이터베이스나 파일의 구조를 정의하는 것으로, 데이터가 어떻게 저장되고 조직되는지에 대한 청사진을 제공합니다.\n",
      "예시: 관계형 데이터베이스의 테이블 스키마는 열 이름, 데이터 타입, 키 제약 조건 등을 정의합니다.\n",
      "연관키워드: 데이터베이스, 데이터 모델링, 데이터 관리\n",
      "\n",
      "DataFrame\n",
      "=========================================================\n",
      "정의: 오픈 소스는 소스 코드가 공개되어 누구나 자유롭게 사용, 수정, 배포할 수 있는 소프트웨어를 의미합니다. 이는 협업과 혁신을 촉진하는 데 중요한 역할을 합니다.\n",
      "예시: 리눅스 운영 체제는 대표적인 오픈 소스 프로젝트입니다.\n",
      "연관키워드: 소프트웨어 개발, 커뮤니티, 기술 협업\n",
      "\n",
      "Structured Data\n",
      "\n",
      "정의: 구조화된 데이터는 정해진 형식이나 스키마에 따라 조직된 데이터입니다. 이는 데이터베이스, 스프레드시트 등에서 쉽게 검색하고 분석할 수 있습니다.\n",
      "예시: 관계형 데이터베이스에 저장된 고객 정보 테이블은 구조화된 데이터의 예입니다.\n",
      "연관키워드: 데이터베이스, 데이터 분석, 데이터 모델링\n",
      "\n",
      "Parser\n",
      "\n",
      "정의: 파서는 주어진 데이터(문자열, 파일 등)를 분석하여 구조화된 형태로 변환하는 도구입니다. 이는 프로그래밍 언어의 구문 분석이나 파일 데이터 처리에 사용됩니다.\n",
      "예시: HTML 문서를 구문 분석하여 웹 페이지의 DOM 구조를 생성하는 것은 파싱의 한 예입니다.\n",
      "연관키워드: 구문 분석, 컴파일러, 데이터 처리\n",
      "\n",
      "TF-IDF (Term Frequency-Inverse Document Frequency)\n",
      "=========================================================\n",
      "정의: Word2Vec은 단어를 벡터 공간에 매핑하여 단어 간의 의미적 관계를 나타내는 자연어 처리 기술입니다. 이는 단어의 문맥적 유사성을 기반으로 벡터를 생성합니다.\n",
      "예시: Word2Vec 모델에서 \"왕\"과 \"여왕\"은 서로 가까운 위치에 벡터로 표현됩니다.\n",
      "연관키워드: 자연어 처리, 임베딩, 의미론적 유사성\n",
      "LLM (Large Language Model)\n",
      "\n",
      "정의: LLM은 대규모의 텍스트 데이터로 훈련된 큰 규모의 언어 모델을 의미합니다. 이러한 모델은 다양한 자연어 이해 및 생성 작업에 사용됩니다.\n",
      "예시: OpenAI의 GPT 시리즈는 대표적인 대규모 언어 모델입니다.\n",
      "연관키워드: 자연어 처리, 딥러닝, 텍스트 생성\n",
      "\n",
      "FAISS (Facebook AI Similarity Search)\n",
      "\n",
      "정의: FAISS는 페이스북에서 개발한 고속 유사성 검색 라이브러리로, 특히 대규모 벡터 집합에서 유사 벡터를 효과적으로 검색할 수 있도록 설계되었습니다.\n",
      "예시: 수백만 개의 이미지 벡터 중에서 비슷한 이미지를 빠르게 찾는 데 FAISS가 사용될 수 있습니다.\n",
      "연관키워드: 벡터 검색, 머신러닝, 데이터베이스 최적화\n",
      "\n",
      "Open Source\n",
      "=========================================================\n",
      "GPT (Generative Pretrained Transformer)\n",
      "\n",
      "정의: GPT는 대규모의 데이터셋으로 사전 훈련된 생성적 언어 모델로, 다양한 텍스트 기반 작업에 활용됩니다. 이는 입력된 텍스트에 기반하여 자연스러운 언어를 생성할 수 있습니다.\n",
      "예시: 사용자가 제공한 질문에 대해 자세한 답변을 생성하는 챗봇은 GPT 모델을 사용할 수 있습니다.\n",
      "연관키워드: 자연어 처리, 텍스트 생성, 딥러닝\n",
      "\n",
      "InstructGPT\n",
      "\n",
      "정의: InstructGPT는 사용자의 지시에 따라 특정한 작업을 수행하기 위해 최적화된 GPT 모델입니다. 이 모델은 보다 정확하고 관련성 높은 결과를 생성하도록 설계되었습니다.\n",
      "예시: 사용자가 \"이메일 초안 작성\"과 같은 특정 지시를 제공하면, InstructGPT는 관련 내용을 기반으로 이메일을 작성합니다.\n",
      "연관키워드: 인공지능, 자연어 이해, 명령 기반 처리\n",
      "\n",
      "Keyword Search\n",
      "=========================================================\n"
     ]
    }
   ],
   "source": [
    "# 관련 문서를 검색\n",
    "docs = retriever.invoke(input=\"TF IDF 에 대하여 알려줘\")\n",
    "\n",
    "for doc in docs:\n",
    "    print(doc.page_content)\n",
    "    print(\"=========================================================\")\n"
   ]
  },
  {
   "cell_type": "markdown",
   "metadata": {
    "id": "5mbAU4Umx0dE"
   },
   "source": [
    "#### MMR\n",
    "- MMR(Maximal Marginal Relevance) 방식은 쿼리에 대한 관련 항목을 검색할 때 검색된 문서의 중복 을 피하는 방법 중 하나입니다.\n",
    "- 단순히 가장 관련성 높은 항목들만을 검색하는 대신, MMR은 쿼리에 대한 문서의 관련성 과 이미 선택된 문서들과의 차별성을 동시에 고려 합니다.\n",
    "  - `search_type`: `\"mmr\"` 로 설정하여 MMR(Maximal Marginal Relevance) 검색 알고리즘을 사용합니다.\n",
    "  - `k`: 반환할 문서 수 (기본값: 4)\n",
    "  - `fetch_k`: MMR 알고리즘에 전달할 문서 수 (기본값: 20)\n",
    "  - `lambda_mult`: MMR 결과의 다양성 조절 (0~1, 기본값: 0.5, 0: 유사도 점수만 고려, 1: 다양성만 고려)"
   ]
  },
  {
   "cell_type": "code",
   "execution_count": null,
   "metadata": {
    "id": "-Q6YHB1VvOg3"
   },
   "outputs": [],
   "source": [
    "# MMR(Maximal Marginal Relevance) 검색 유형을 지정\n",
    "retriever = db.as_retriever(\n",
    "    search_type=\"mmr\", search_kwargs={\"k\": 2, \"fetch_k\": 10, \"lambda_mult\": 0.6}\n",
    ")"
   ]
  },
  {
   "cell_type": "code",
   "execution_count": null,
   "metadata": {
    "colab": {
     "base_uri": "https://localhost:8080/"
    },
    "executionInfo": {
     "elapsed": 551,
     "status": "ok",
     "timestamp": 1741139034224,
     "user": {
      "displayName": "조경원",
      "userId": "10205523497785796707"
     },
     "user_tz": -540
    },
    "id": "DaraV3VRvOkJ",
    "outputId": "e73974f8-6e4b-4038-98f4-0858d3cf3bca"
   },
   "outputs": [
    {
     "name": "stdout",
     "output_type": "stream",
     "text": [
      "정의: TF-IDF는 문서 내에서 단어의 중요도를 평가하는 데 사용되는 통계적 척도입니다. 이는 문서 내 단어의 빈도와 전체 문서 집합에서 그 단어의 희소성을 고려합니다.\n",
      "예시: 많은 문서에서 자주 등장하지 않는 단어는 높은 TF-IDF 값을 가집니다.\n",
      "연관키워드: 자연어 처리, 정보 검색, 데이터 마이닝\n",
      "\n",
      "Deep Learning\n",
      "\n",
      "정의: 딥러닝은 인공신경망을 이용하여 복잡한 문제를 해결하는 머신러닝의 한 분야입니다. 이는 데이터에서 고수준의 표현을 학습하는 데 중점을 둡니다.\n",
      "예시: 이미지 인식, 음성 인식, 자연어 처리 등에서 딥러닝 모델이 활용됩니다.\n",
      "연관키워드: 인공신경망, 머신러닝, 데이터 분석\n",
      "\n",
      "Schema\n",
      "\n",
      "정의: 스키마는 데이터베이스나 파일의 구조를 정의하는 것으로, 데이터가 어떻게 저장되고 조직되는지에 대한 청사진을 제공합니다.\n",
      "예시: 관계형 데이터베이스의 테이블 스키마는 열 이름, 데이터 타입, 키 제약 조건 등을 정의합니다.\n",
      "연관키워드: 데이터베이스, 데이터 모델링, 데이터 관리\n",
      "\n",
      "DataFrame\n",
      "=========================================================\n",
      "GPT (Generative Pretrained Transformer)\n",
      "\n",
      "정의: GPT는 대규모의 데이터셋으로 사전 훈련된 생성적 언어 모델로, 다양한 텍스트 기반 작업에 활용됩니다. 이는 입력된 텍스트에 기반하여 자연스러운 언어를 생성할 수 있습니다.\n",
      "예시: 사용자가 제공한 질문에 대해 자세한 답변을 생성하는 챗봇은 GPT 모델을 사용할 수 있습니다.\n",
      "연관키워드: 자연어 처리, 텍스트 생성, 딥러닝\n",
      "\n",
      "InstructGPT\n",
      "\n",
      "정의: InstructGPT는 사용자의 지시에 따라 특정한 작업을 수행하기 위해 최적화된 GPT 모델입니다. 이 모델은 보다 정확하고 관련성 높은 결과를 생성하도록 설계되었습니다.\n",
      "예시: 사용자가 \"이메일 초안 작성\"과 같은 특정 지시를 제공하면, InstructGPT는 관련 내용을 기반으로 이메일을 작성합니다.\n",
      "연관키워드: 인공지능, 자연어 이해, 명령 기반 처리\n",
      "\n",
      "Keyword Search\n",
      "=========================================================\n"
     ]
    }
   ],
   "source": [
    "# 관련 문서를 검색합니다.\n",
    "docs = retriever.invoke(\"TF IDF 에 대하여 알려줘\")\n",
    "\n",
    "# 관련 문서를 검색\n",
    "for doc in docs:\n",
    "    print(doc.page_content)\n",
    "    print(\"=========================================================\")"
   ]
  },
  {
   "cell_type": "markdown",
   "metadata": {
    "id": "4zUpCJq2yXkQ"
   },
   "source": [
    "#### 유사도 점수 임계값 검색\n",
    "- 유사도 점수 임계값을 설정하고 해당 임계값 이상의 점수를 가진 문서만 반환하는 검색 방법을 설정할 수 있습니다.\n",
    "- 임계값을 적절히 설정함으로써 관련성이 낮은 문서를 필터링 하고, 질의와 가장 유사한 문서만 선별 할 수 있습니다.\n",
    "  - `search_type` 매개변수를 `\"similarity_score_threshold\"` 로 설정하여 유사도 점수 임계값을 기준으로 검색을 수행합니다.\n",
    "  - `search_kwargs` 매개변수에 `{\"score_threshold\": 0.8}`를 전달하여 유사도 점수 임계값을 0.8로 설정합니다. 이는 검색 결과의 유사도 점수가 0.8 이상인 문서만 반환됨 을 의미합니다."
   ]
  },
  {
   "cell_type": "code",
   "execution_count": null,
   "metadata": {
    "id": "CrSQGAMjyT4L"
   },
   "outputs": [],
   "source": [
    "retriever = db.as_retriever(\n",
    "    # 검색 유형을 \"similarity_score_threshold 으로 설정\n",
    "    search_type=\"similarity_score_threshold\",\n",
    "    # 임계값 설정\n",
    "    search_kwargs={\"score_threshold\": 0.3},\n",
    ")\n"
   ]
  },
  {
   "cell_type": "code",
   "execution_count": null,
   "metadata": {
    "colab": {
     "base_uri": "https://localhost:8080/"
    },
    "executionInfo": {
     "elapsed": 649,
     "status": "ok",
     "timestamp": 1741139034887,
     "user": {
      "displayName": "조경원",
      "userId": "10205523497785796707"
     },
     "user_tz": -540
    },
    "id": "hYLkQxjcyT7G",
    "outputId": "e63087ee-7b9e-46c6-9f3b-4982410690ad"
   },
   "outputs": [
    {
     "name": "stderr",
     "output_type": "stream",
     "text": [
      "/usr/local/lib/python3.11/dist-packages/langchain_core/vectorstores/base.py:1077: UserWarning: Relevance scores must be between 0 and 1, got [(Document(id='d6ba9866-3e6b-4168-bf5a-dc44cd55841e', metadata={'source': '/content/data/MyDrive/ai_lecture/5. Large Language Models/data/vector_db/nlp-keywords.txt'}, page_content='정의: TF-IDF는 문서 내에서 단어의 중요도를 평가하는 데 사용되는 통계적 척도입니다. 이는 문서 내 단어의 빈도와 전체 문서 집합에서 그 단어의 희소성을 고려합니다.\\n예시: 많은 문서에서 자주 등장하지 않는 단어는 높은 TF-IDF 값을 가집니다.\\n연관키워드: 자연어 처리, 정보 검색, 데이터 마이닝\\n\\nDeep Learning\\n\\n정의: 딥러닝은 인공신경망을 이용하여 복잡한 문제를 해결하는 머신러닝의 한 분야입니다. 이는 데이터에서 고수준의 표현을 학습하는 데 중점을 둡니다.\\n예시: 이미지 인식, 음성 인식, 자연어 처리 등에서 딥러닝 모델이 활용됩니다.\\n연관키워드: 인공신경망, 머신러닝, 데이터 분석\\n\\nSchema\\n\\n정의: 스키마는 데이터베이스나 파일의 구조를 정의하는 것으로, 데이터가 어떻게 저장되고 조직되는지에 대한 청사진을 제공합니다.\\n예시: 관계형 데이터베이스의 테이블 스키마는 열 이름, 데이터 타입, 키 제약 조건 등을 정의합니다.\\n연관키워드: 데이터베이스, 데이터 모델링, 데이터 관리\\n\\nDataFrame'), 0.07457271211441552), (Document(id='32640572-3e92-4d87-944f-f273cf4d5fcd', metadata={'source': '/content/data/MyDrive/ai_lecture/5. Large Language Models/data/vector_db/nlp-keywords.txt'}, page_content='정의: 오픈 소스는 소스 코드가 공개되어 누구나 자유롭게 사용, 수정, 배포할 수 있는 소프트웨어를 의미합니다. 이는 협업과 혁신을 촉진하는 데 중요한 역할을 합니다.\\n예시: 리눅스 운영 체제는 대표적인 오픈 소스 프로젝트입니다.\\n연관키워드: 소프트웨어 개발, 커뮤니티, 기술 협업\\n\\nStructured Data\\n\\n정의: 구조화된 데이터는 정해진 형식이나 스키마에 따라 조직된 데이터입니다. 이는 데이터베이스, 스프레드시트 등에서 쉽게 검색하고 분석할 수 있습니다.\\n예시: 관계형 데이터베이스에 저장된 고객 정보 테이블은 구조화된 데이터의 예입니다.\\n연관키워드: 데이터베이스, 데이터 분석, 데이터 모델링\\n\\nParser\\n\\n정의: 파서는 주어진 데이터(문자열, 파일 등)를 분석하여 구조화된 형태로 변환하는 도구입니다. 이는 프로그래밍 언어의 구문 분석이나 파일 데이터 처리에 사용됩니다.\\n예시: HTML 문서를 구문 분석하여 웹 페이지의 DOM 구조를 생성하는 것은 파싱의 한 예입니다.\\n연관키워드: 구문 분석, 컴파일러, 데이터 처리\\n\\nTF-IDF (Term Frequency-Inverse Document Frequency)'), -0.022604517853879624), (Document(id='d1e49a9a-0971-4da2-8610-a763e2b7fa0c', metadata={'source': '/content/data/MyDrive/ai_lecture/5. Large Language Models/data/vector_db/nlp-keywords.txt'}, page_content='정의: Word2Vec은 단어를 벡터 공간에 매핑하여 단어 간의 의미적 관계를 나타내는 자연어 처리 기술입니다. 이는 단어의 문맥적 유사성을 기반으로 벡터를 생성합니다.\\n예시: Word2Vec 모델에서 \"왕\"과 \"여왕\"은 서로 가까운 위치에 벡터로 표현됩니다.\\n연관키워드: 자연어 처리, 임베딩, 의미론적 유사성\\nLLM (Large Language Model)\\n\\n정의: LLM은 대규모의 텍스트 데이터로 훈련된 큰 규모의 언어 모델을 의미합니다. 이러한 모델은 다양한 자연어 이해 및 생성 작업에 사용됩니다.\\n예시: OpenAI의 GPT 시리즈는 대표적인 대규모 언어 모델입니다.\\n연관키워드: 자연어 처리, 딥러닝, 텍스트 생성\\n\\nFAISS (Facebook AI Similarity Search)\\n\\n정의: FAISS는 페이스북에서 개발한 고속 유사성 검색 라이브러리로, 특히 대규모 벡터 집합에서 유사 벡터를 효과적으로 검색할 수 있도록 설계되었습니다.\\n예시: 수백만 개의 이미지 벡터 중에서 비슷한 이미지를 빠르게 찾는 데 FAISS가 사용될 수 있습니다.\\n연관키워드: 벡터 검색, 머신러닝, 데이터베이스 최적화\\n\\nOpen Source'), -0.09973274486663364), (Document(id='939530da-d9e1-40e1-996e-2aab52ec88e1', metadata={'source': '/content/data/MyDrive/ai_lecture/5. Large Language Models/data/vector_db/nlp-keywords.txt'}, page_content='GPT (Generative Pretrained Transformer)\\n\\n정의: GPT는 대규모의 데이터셋으로 사전 훈련된 생성적 언어 모델로, 다양한 텍스트 기반 작업에 활용됩니다. 이는 입력된 텍스트에 기반하여 자연스러운 언어를 생성할 수 있습니다.\\n예시: 사용자가 제공한 질문에 대해 자세한 답변을 생성하는 챗봇은 GPT 모델을 사용할 수 있습니다.\\n연관키워드: 자연어 처리, 텍스트 생성, 딥러닝\\n\\nInstructGPT\\n\\n정의: InstructGPT는 사용자의 지시에 따라 특정한 작업을 수행하기 위해 최적화된 GPT 모델입니다. 이 모델은 보다 정확하고 관련성 높은 결과를 생성하도록 설계되었습니다.\\n예시: 사용자가 \"이메일 초안 작성\"과 같은 특정 지시를 제공하면, InstructGPT는 관련 내용을 기반으로 이메일을 작성합니다.\\n연관키워드: 인공지능, 자연어 이해, 명령 기반 처리\\n\\nKeyword Search'), -0.10314082333092145)]\n",
      "  self.vectorstore.similarity_search_with_relevance_scores(\n",
      "WARNING:langchain_core.vectorstores.base:No relevant docs were retrieved using the relevance score threshold 0.3\n"
     ]
    }
   ],
   "source": [
    "# 관련 문서를 검색\n",
    "for doc in retriever.invoke(\"TF IDF 에 대하여 알려줘\"):\n",
    "    print(doc.page_content)\n",
    "    print(\"=========================================================\")\n"
   ]
  },
  {
   "cell_type": "markdown",
   "metadata": {
    "id": "CH6Z1TCkzooV"
   },
   "source": [
    "#### top_k\n",
    "- 검색 시 사용할 k 와 같은 검색 키워드 인자(kwargs)를 지정할 수 있습니다.\n",
    "  - `k` 매개변수는 검색 결과에서 반환할 상위 결과의 개수를 나타냅니다.\n",
    "  - `search_kwargs`에서 k 매개변수를 1로 설정하여 검색 결과로 반환할 문서의 수를 지정합니다."
   ]
  },
  {
   "cell_type": "code",
   "execution_count": null,
   "metadata": {
    "id": "Wlu4bu0syT-D"
   },
   "outputs": [],
   "source": [
    "# k 설정\n",
    "retriever = db.as_retriever(search_kwargs={\"k\": 1})\n"
   ]
  },
  {
   "cell_type": "code",
   "execution_count": null,
   "metadata": {
    "colab": {
     "base_uri": "https://localhost:8080/"
    },
    "executionInfo": {
     "elapsed": 3135,
     "status": "ok",
     "timestamp": 1741139038022,
     "user": {
      "displayName": "조경원",
      "userId": "10205523497785796707"
     },
     "user_tz": -540
    },
    "id": "GrxFWV4XyUBK",
    "outputId": "cf36f9f1-6efd-424f-fd71-43157d8b607b"
   },
   "outputs": [
    {
     "name": "stdout",
     "output_type": "stream",
     "text": [
      "정의: TF-IDF는 문서 내에서 단어의 중요도를 평가하는 데 사용되는 통계적 척도입니다. 이는 문서 내 단어의 빈도와 전체 문서 집합에서 그 단어의 희소성을 고려합니다.\n",
      "예시: 많은 문서에서 자주 등장하지 않는 단어는 높은 TF-IDF 값을 가집니다.\n",
      "연관키워드: 자연어 처리, 정보 검색, 데이터 마이닝\n",
      "\n",
      "Deep Learning\n",
      "\n",
      "정의: 딥러닝은 인공신경망을 이용하여 복잡한 문제를 해결하는 머신러닝의 한 분야입니다. 이는 데이터에서 고수준의 표현을 학습하는 데 중점을 둡니다.\n",
      "예시: 이미지 인식, 음성 인식, 자연어 처리 등에서 딥러닝 모델이 활용됩니다.\n",
      "연관키워드: 인공신경망, 머신러닝, 데이터 분석\n",
      "\n",
      "Schema\n",
      "\n",
      "정의: 스키마는 데이터베이스나 파일의 구조를 정의하는 것으로, 데이터가 어떻게 저장되고 조직되는지에 대한 청사진을 제공합니다.\n",
      "예시: 관계형 데이터베이스의 테이블 스키마는 열 이름, 데이터 타입, 키 제약 조건 등을 정의합니다.\n",
      "연관키워드: 데이터베이스, 데이터 모델링, 데이터 관리\n",
      "\n",
      "DataFrame\n",
      "=========================================================\n"
     ]
    }
   ],
   "source": [
    "# 관련 문서를 검색\n",
    "docs = retriever.invoke(\"TF IDF 에 대하여 알려줘\")\n",
    "\n",
    "# 관련 문서를 검색\n",
    "for doc in docs:\n",
    "    print(doc.page_content)\n",
    "    print(\"=========================================================\")\n"
   ]
  },
  {
   "cell_type": "markdown",
   "metadata": {
    "id": "9pNKh2pC0GRH"
   },
   "source": [
    "#### 동적 설정(Configurable)\n",
    "- 검색 설정을 동적으로 조정하기 위해 `ConfigurableField` 를 사용합니다.\n",
    "- `ConfigurableField` 는 검색 매개변수의 고유 식별자, 이름, 설명을 설정하는 역할을 합니다.\n",
    "- 검색 설정을 조정하기 위해 `config` 매개변수를 사용하여 검색 설정을 지정합니다.\n",
    "- 검색 설정은 `config` 매개변수에 전달된 딕셔너리의 `configurable` 키에 저장됩니다.\n",
    "- 검색 설정은 검색 쿼리와 함께 전달되며, 검색 쿼리에 따라 동적으로 조정됩니다."
   ]
  },
  {
   "cell_type": "code",
   "execution_count": null,
   "metadata": {
    "id": "Hj1XLYnkyUEy"
   },
   "outputs": [],
   "source": [
    "retriever = db.as_retriever()"
   ]
  },
  {
   "cell_type": "code",
   "execution_count": null,
   "metadata": {
    "colab": {
     "base_uri": "https://localhost:8080/"
    },
    "executionInfo": {
     "elapsed": 288,
     "status": "ok",
     "timestamp": 1741139038326,
     "user": {
      "displayName": "조경원",
      "userId": "10205523497785796707"
     },
     "user_tz": -540
    },
    "id": "c3OKyKSivOnT",
    "outputId": "4605176a-a57a-447c-cc11-7bbddb478999"
   },
   "outputs": [
    {
     "name": "stdout",
     "output_type": "stream",
     "text": [
      "정의: TF-IDF는 문서 내에서 단어의 중요도를 평가하는 데 사용되는 통계적 척도입니다. 이는 문서 내 단어의 빈도와 전체 문서 집합에서 그 단어의 희소성을 고려합니다.\n",
      "예시: 많은 문서에서 자주 등장하지 않는 단어는 높은 TF-IDF 값을 가집니다.\n",
      "연관키워드: 자연어 처리, 정보 검색, 데이터 마이닝\n",
      "\n",
      "Deep Learning\n",
      "\n",
      "정의: 딥러닝은 인공신경망을 이용하여 복잡한 문제를 해결하는 머신러닝의 한 분야입니다. 이는 데이터에서 고수준의 표현을 학습하는 데 중점을 둡니다.\n",
      "예시: 이미지 인식, 음성 인식, 자연어 처리 등에서 딥러닝 모델이 활용됩니다.\n",
      "연관키워드: 인공신경망, 머신러닝, 데이터 분석\n",
      "\n",
      "Schema\n",
      "\n",
      "정의: 스키마는 데이터베이스나 파일의 구조를 정의하는 것으로, 데이터가 어떻게 저장되고 조직되는지에 대한 청사진을 제공합니다.\n",
      "예시: 관계형 데이터베이스의 테이블 스키마는 열 이름, 데이터 타입, 키 제약 조건 등을 정의합니다.\n",
      "연관키워드: 데이터베이스, 데이터 모델링, 데이터 관리\n",
      "\n",
      "DataFrame\n",
      "=========================================================\n",
      "정의: 오픈 소스는 소스 코드가 공개되어 누구나 자유롭게 사용, 수정, 배포할 수 있는 소프트웨어를 의미합니다. 이는 협업과 혁신을 촉진하는 데 중요한 역할을 합니다.\n",
      "예시: 리눅스 운영 체제는 대표적인 오픈 소스 프로젝트입니다.\n",
      "연관키워드: 소프트웨어 개발, 커뮤니티, 기술 협업\n",
      "\n",
      "Structured Data\n",
      "\n",
      "정의: 구조화된 데이터는 정해진 형식이나 스키마에 따라 조직된 데이터입니다. 이는 데이터베이스, 스프레드시트 등에서 쉽게 검색하고 분석할 수 있습니다.\n",
      "예시: 관계형 데이터베이스에 저장된 고객 정보 테이블은 구조화된 데이터의 예입니다.\n",
      "연관키워드: 데이터베이스, 데이터 분석, 데이터 모델링\n",
      "\n",
      "Parser\n",
      "\n",
      "정의: 파서는 주어진 데이터(문자열, 파일 등)를 분석하여 구조화된 형태로 변환하는 도구입니다. 이는 프로그래밍 언어의 구문 분석이나 파일 데이터 처리에 사용됩니다.\n",
      "예시: HTML 문서를 구문 분석하여 웹 페이지의 DOM 구조를 생성하는 것은 파싱의 한 예입니다.\n",
      "연관키워드: 구문 분석, 컴파일러, 데이터 처리\n",
      "\n",
      "TF-IDF (Term Frequency-Inverse Document Frequency)\n",
      "=========================================================\n",
      "정의: Word2Vec은 단어를 벡터 공간에 매핑하여 단어 간의 의미적 관계를 나타내는 자연어 처리 기술입니다. 이는 단어의 문맥적 유사성을 기반으로 벡터를 생성합니다.\n",
      "예시: Word2Vec 모델에서 \"왕\"과 \"여왕\"은 서로 가까운 위치에 벡터로 표현됩니다.\n",
      "연관키워드: 자연어 처리, 임베딩, 의미론적 유사성\n",
      "LLM (Large Language Model)\n",
      "\n",
      "정의: LLM은 대규모의 텍스트 데이터로 훈련된 큰 규모의 언어 모델을 의미합니다. 이러한 모델은 다양한 자연어 이해 및 생성 작업에 사용됩니다.\n",
      "예시: OpenAI의 GPT 시리즈는 대표적인 대규모 언어 모델입니다.\n",
      "연관키워드: 자연어 처리, 딥러닝, 텍스트 생성\n",
      "\n",
      "FAISS (Facebook AI Similarity Search)\n",
      "\n",
      "정의: FAISS는 페이스북에서 개발한 고속 유사성 검색 라이브러리로, 특히 대규모 벡터 집합에서 유사 벡터를 효과적으로 검색할 수 있도록 설계되었습니다.\n",
      "예시: 수백만 개의 이미지 벡터 중에서 비슷한 이미지를 빠르게 찾는 데 FAISS가 사용될 수 있습니다.\n",
      "연관키워드: 벡터 검색, 머신러닝, 데이터베이스 최적화\n",
      "\n",
      "Open Source\n",
      "=========================================================\n",
      "GPT (Generative Pretrained Transformer)\n",
      "\n",
      "정의: GPT는 대규모의 데이터셋으로 사전 훈련된 생성적 언어 모델로, 다양한 텍스트 기반 작업에 활용됩니다. 이는 입력된 텍스트에 기반하여 자연스러운 언어를 생성할 수 있습니다.\n",
      "예시: 사용자가 제공한 질문에 대해 자세한 답변을 생성하는 챗봇은 GPT 모델을 사용할 수 있습니다.\n",
      "연관키워드: 자연어 처리, 텍스트 생성, 딥러닝\n",
      "\n",
      "InstructGPT\n",
      "\n",
      "정의: InstructGPT는 사용자의 지시에 따라 특정한 작업을 수행하기 위해 최적화된 GPT 모델입니다. 이 모델은 보다 정확하고 관련성 높은 결과를 생성하도록 설계되었습니다.\n",
      "예시: 사용자가 \"이메일 초안 작성\"과 같은 특정 지시를 제공하면, InstructGPT는 관련 내용을 기반으로 이메일을 작성합니다.\n",
      "연관키워드: 인공지능, 자연어 이해, 명령 기반 처리\n",
      "\n",
      "Keyword Search\n",
      "=========================================================\n"
     ]
    }
   ],
   "source": [
    "# 검색 설정을 지정. Faiss 검색에서 k=3로 설정하여 가장 유사한 문서 3개를 반환\n",
    "config = {\n",
    "    \"configurable\": {\n",
    "        \"search_kwargs\": {\"k\": 3}\n",
    "    }\n",
    "}\n",
    "\n",
    "# 관련 문서를 검색\n",
    "docs = retriever.invoke(\"TF IDF 에 대하여 알려줘\", config=config)\n",
    "\n",
    "# 관련 문서를 검색\n",
    "for doc in docs:\n",
    "    print(doc.page_content)\n",
    "    print(\"=========================================================\")\n"
   ]
  },
  {
   "cell_type": "code",
   "execution_count": null,
   "metadata": {
    "colab": {
     "base_uri": "https://localhost:8080/"
    },
    "executionInfo": {
     "elapsed": 296,
     "status": "ok",
     "timestamp": 1741139038618,
     "user": {
      "displayName": "조경원",
      "userId": "10205523497785796707"
     },
     "user_tz": -540
    },
    "id": "Tf28fqe8vOqx",
    "outputId": "aa011d14-0f64-4075-cd6b-8a8fc8a11604"
   },
   "outputs": [
    {
     "name": "stdout",
     "output_type": "stream",
     "text": [
      "정의: TF-IDF는 문서 내에서 단어의 중요도를 평가하는 데 사용되는 통계적 척도입니다. 이는 문서 내 단어의 빈도와 전체 문서 집합에서 그 단어의 희소성을 고려합니다.\n",
      "예시: 많은 문서에서 자주 등장하지 않는 단어는 높은 TF-IDF 값을 가집니다.\n",
      "연관키워드: 자연어 처리, 정보 검색, 데이터 마이닝\n",
      "\n",
      "Deep Learning\n",
      "\n",
      "정의: 딥러닝은 인공신경망을 이용하여 복잡한 문제를 해결하는 머신러닝의 한 분야입니다. 이는 데이터에서 고수준의 표현을 학습하는 데 중점을 둡니다.\n",
      "예시: 이미지 인식, 음성 인식, 자연어 처리 등에서 딥러닝 모델이 활용됩니다.\n",
      "연관키워드: 인공신경망, 머신러닝, 데이터 분석\n",
      "\n",
      "Schema\n",
      "\n",
      "정의: 스키마는 데이터베이스나 파일의 구조를 정의하는 것으로, 데이터가 어떻게 저장되고 조직되는지에 대한 청사진을 제공합니다.\n",
      "예시: 관계형 데이터베이스의 테이블 스키마는 열 이름, 데이터 타입, 키 제약 조건 등을 정의합니다.\n",
      "연관키워드: 데이터베이스, 데이터 모델링, 데이터 관리\n",
      "\n",
      "DataFrame\n",
      "=========================================================\n",
      "정의: 오픈 소스는 소스 코드가 공개되어 누구나 자유롭게 사용, 수정, 배포할 수 있는 소프트웨어를 의미합니다. 이는 협업과 혁신을 촉진하는 데 중요한 역할을 합니다.\n",
      "예시: 리눅스 운영 체제는 대표적인 오픈 소스 프로젝트입니다.\n",
      "연관키워드: 소프트웨어 개발, 커뮤니티, 기술 협업\n",
      "\n",
      "Structured Data\n",
      "\n",
      "정의: 구조화된 데이터는 정해진 형식이나 스키마에 따라 조직된 데이터입니다. 이는 데이터베이스, 스프레드시트 등에서 쉽게 검색하고 분석할 수 있습니다.\n",
      "예시: 관계형 데이터베이스에 저장된 고객 정보 테이블은 구조화된 데이터의 예입니다.\n",
      "연관키워드: 데이터베이스, 데이터 분석, 데이터 모델링\n",
      "\n",
      "Parser\n",
      "\n",
      "정의: 파서는 주어진 데이터(문자열, 파일 등)를 분석하여 구조화된 형태로 변환하는 도구입니다. 이는 프로그래밍 언어의 구문 분석이나 파일 데이터 처리에 사용됩니다.\n",
      "예시: HTML 문서를 구문 분석하여 웹 페이지의 DOM 구조를 생성하는 것은 파싱의 한 예입니다.\n",
      "연관키워드: 구문 분석, 컴파일러, 데이터 처리\n",
      "\n",
      "TF-IDF (Term Frequency-Inverse Document Frequency)\n",
      "=========================================================\n",
      "정의: Word2Vec은 단어를 벡터 공간에 매핑하여 단어 간의 의미적 관계를 나타내는 자연어 처리 기술입니다. 이는 단어의 문맥적 유사성을 기반으로 벡터를 생성합니다.\n",
      "예시: Word2Vec 모델에서 \"왕\"과 \"여왕\"은 서로 가까운 위치에 벡터로 표현됩니다.\n",
      "연관키워드: 자연어 처리, 임베딩, 의미론적 유사성\n",
      "LLM (Large Language Model)\n",
      "\n",
      "정의: LLM은 대규모의 텍스트 데이터로 훈련된 큰 규모의 언어 모델을 의미합니다. 이러한 모델은 다양한 자연어 이해 및 생성 작업에 사용됩니다.\n",
      "예시: OpenAI의 GPT 시리즈는 대표적인 대규모 언어 모델입니다.\n",
      "연관키워드: 자연어 처리, 딥러닝, 텍스트 생성\n",
      "\n",
      "FAISS (Facebook AI Similarity Search)\n",
      "\n",
      "정의: FAISS는 페이스북에서 개발한 고속 유사성 검색 라이브러리로, 특히 대규모 벡터 집합에서 유사 벡터를 효과적으로 검색할 수 있도록 설계되었습니다.\n",
      "예시: 수백만 개의 이미지 벡터 중에서 비슷한 이미지를 빠르게 찾는 데 FAISS가 사용될 수 있습니다.\n",
      "연관키워드: 벡터 검색, 머신러닝, 데이터베이스 최적화\n",
      "\n",
      "Open Source\n",
      "=========================================================\n",
      "GPT (Generative Pretrained Transformer)\n",
      "\n",
      "정의: GPT는 대규모의 데이터셋으로 사전 훈련된 생성적 언어 모델로, 다양한 텍스트 기반 작업에 활용됩니다. 이는 입력된 텍스트에 기반하여 자연스러운 언어를 생성할 수 있습니다.\n",
      "예시: 사용자가 제공한 질문에 대해 자세한 답변을 생성하는 챗봇은 GPT 모델을 사용할 수 있습니다.\n",
      "연관키워드: 자연어 처리, 텍스트 생성, 딥러닝\n",
      "\n",
      "InstructGPT\n",
      "\n",
      "정의: InstructGPT는 사용자의 지시에 따라 특정한 작업을 수행하기 위해 최적화된 GPT 모델입니다. 이 모델은 보다 정확하고 관련성 높은 결과를 생성하도록 설계되었습니다.\n",
      "예시: 사용자가 \"이메일 초안 작성\"과 같은 특정 지시를 제공하면, InstructGPT는 관련 내용을 기반으로 이메일을 작성합니다.\n",
      "연관키워드: 인공지능, 자연어 이해, 명령 기반 처리\n",
      "\n",
      "Keyword Search\n",
      "=========================================================\n"
     ]
    }
   ],
   "source": [
    "# 검색 설정을 지정. score_threshold 0.8 이상의 점수를 가진 문서만 반환\n",
    "config = {\n",
    "    \"configurable\": {\n",
    "        \"search_type\": \"similarity_score_threshold\",\n",
    "        \"search_kwargs\": {\n",
    "            \"score_threshold\": 0.8,\n",
    "        },\n",
    "    }\n",
    "}\n",
    "\n",
    "# 관련 문서를 검색\n",
    "docs = retriever.invoke(\"TF IDF 에 대하여 알려줘\", config=config)\n",
    "\n",
    "# 관련 문서를 검색\n",
    "for doc in docs:\n",
    "    print(doc.page_content)\n",
    "    print(\"=========================================================\")\n"
   ]
  },
  {
   "cell_type": "code",
   "execution_count": null,
   "metadata": {
    "colab": {
     "base_uri": "https://localhost:8080/"
    },
    "executionInfo": {
     "elapsed": 497,
     "status": "ok",
     "timestamp": 1741139039113,
     "user": {
      "displayName": "조경원",
      "userId": "10205523497785796707"
     },
     "user_tz": -540
    },
    "id": "uZc0SBBOvOul",
    "outputId": "dbbe3c40-cba6-4b00-ecd3-465dd7e745ae"
   },
   "outputs": [
    {
     "name": "stdout",
     "output_type": "stream",
     "text": [
      "정의: TF-IDF는 문서 내에서 단어의 중요도를 평가하는 데 사용되는 통계적 척도입니다. 이는 문서 내 단어의 빈도와 전체 문서 집합에서 그 단어의 희소성을 고려합니다.\n",
      "예시: 많은 문서에서 자주 등장하지 않는 단어는 높은 TF-IDF 값을 가집니다.\n",
      "연관키워드: 자연어 처리, 정보 검색, 데이터 마이닝\n",
      "\n",
      "Deep Learning\n",
      "\n",
      "정의: 딥러닝은 인공신경망을 이용하여 복잡한 문제를 해결하는 머신러닝의 한 분야입니다. 이는 데이터에서 고수준의 표현을 학습하는 데 중점을 둡니다.\n",
      "예시: 이미지 인식, 음성 인식, 자연어 처리 등에서 딥러닝 모델이 활용됩니다.\n",
      "연관키워드: 인공신경망, 머신러닝, 데이터 분석\n",
      "\n",
      "Schema\n",
      "\n",
      "정의: 스키마는 데이터베이스나 파일의 구조를 정의하는 것으로, 데이터가 어떻게 저장되고 조직되는지에 대한 청사진을 제공합니다.\n",
      "예시: 관계형 데이터베이스의 테이블 스키마는 열 이름, 데이터 타입, 키 제약 조건 등을 정의합니다.\n",
      "연관키워드: 데이터베이스, 데이터 모델링, 데이터 관리\n",
      "\n",
      "DataFrame\n",
      "=========================================================\n",
      "정의: 오픈 소스는 소스 코드가 공개되어 누구나 자유롭게 사용, 수정, 배포할 수 있는 소프트웨어를 의미합니다. 이는 협업과 혁신을 촉진하는 데 중요한 역할을 합니다.\n",
      "예시: 리눅스 운영 체제는 대표적인 오픈 소스 프로젝트입니다.\n",
      "연관키워드: 소프트웨어 개발, 커뮤니티, 기술 협업\n",
      "\n",
      "Structured Data\n",
      "\n",
      "정의: 구조화된 데이터는 정해진 형식이나 스키마에 따라 조직된 데이터입니다. 이는 데이터베이스, 스프레드시트 등에서 쉽게 검색하고 분석할 수 있습니다.\n",
      "예시: 관계형 데이터베이스에 저장된 고객 정보 테이블은 구조화된 데이터의 예입니다.\n",
      "연관키워드: 데이터베이스, 데이터 분석, 데이터 모델링\n",
      "\n",
      "Parser\n",
      "\n",
      "정의: 파서는 주어진 데이터(문자열, 파일 등)를 분석하여 구조화된 형태로 변환하는 도구입니다. 이는 프로그래밍 언어의 구문 분석이나 파일 데이터 처리에 사용됩니다.\n",
      "예시: HTML 문서를 구문 분석하여 웹 페이지의 DOM 구조를 생성하는 것은 파싱의 한 예입니다.\n",
      "연관키워드: 구문 분석, 컴파일러, 데이터 처리\n",
      "\n",
      "TF-IDF (Term Frequency-Inverse Document Frequency)\n",
      "=========================================================\n",
      "정의: Word2Vec은 단어를 벡터 공간에 매핑하여 단어 간의 의미적 관계를 나타내는 자연어 처리 기술입니다. 이는 단어의 문맥적 유사성을 기반으로 벡터를 생성합니다.\n",
      "예시: Word2Vec 모델에서 \"왕\"과 \"여왕\"은 서로 가까운 위치에 벡터로 표현됩니다.\n",
      "연관키워드: 자연어 처리, 임베딩, 의미론적 유사성\n",
      "LLM (Large Language Model)\n",
      "\n",
      "정의: LLM은 대규모의 텍스트 데이터로 훈련된 큰 규모의 언어 모델을 의미합니다. 이러한 모델은 다양한 자연어 이해 및 생성 작업에 사용됩니다.\n",
      "예시: OpenAI의 GPT 시리즈는 대표적인 대규모 언어 모델입니다.\n",
      "연관키워드: 자연어 처리, 딥러닝, 텍스트 생성\n",
      "\n",
      "FAISS (Facebook AI Similarity Search)\n",
      "\n",
      "정의: FAISS는 페이스북에서 개발한 고속 유사성 검색 라이브러리로, 특히 대규모 벡터 집합에서 유사 벡터를 효과적으로 검색할 수 있도록 설계되었습니다.\n",
      "예시: 수백만 개의 이미지 벡터 중에서 비슷한 이미지를 빠르게 찾는 데 FAISS가 사용될 수 있습니다.\n",
      "연관키워드: 벡터 검색, 머신러닝, 데이터베이스 최적화\n",
      "\n",
      "Open Source\n",
      "=========================================================\n",
      "GPT (Generative Pretrained Transformer)\n",
      "\n",
      "정의: GPT는 대규모의 데이터셋으로 사전 훈련된 생성적 언어 모델로, 다양한 텍스트 기반 작업에 활용됩니다. 이는 입력된 텍스트에 기반하여 자연스러운 언어를 생성할 수 있습니다.\n",
      "예시: 사용자가 제공한 질문에 대해 자세한 답변을 생성하는 챗봇은 GPT 모델을 사용할 수 있습니다.\n",
      "연관키워드: 자연어 처리, 텍스트 생성, 딥러닝\n",
      "\n",
      "InstructGPT\n",
      "\n",
      "정의: InstructGPT는 사용자의 지시에 따라 특정한 작업을 수행하기 위해 최적화된 GPT 모델입니다. 이 모델은 보다 정확하고 관련성 높은 결과를 생성하도록 설계되었습니다.\n",
      "예시: 사용자가 \"이메일 초안 작성\"과 같은 특정 지시를 제공하면, InstructGPT는 관련 내용을 기반으로 이메일을 작성합니다.\n",
      "연관키워드: 인공지능, 자연어 이해, 명령 기반 처리\n",
      "\n",
      "Keyword Search\n",
      "=========================================================\n"
     ]
    }
   ],
   "source": [
    "# 검색 설정을 지정. mmr 검색 설정.\n",
    "config = {\n",
    "    \"configurable\": {\n",
    "        \"search_type\": \"mmr\",\n",
    "        \"search_kwargs\": {\"k\": 2, \"fetch_k\": 10, \"lambda_mult\": 0.6},\n",
    "    }\n",
    "}\n",
    "\n",
    "# 관련 문서를 검색\n",
    "docs = retriever.invoke(\"TF IDF 에 대하여 알려줘\", config=config)\n",
    "\n",
    "# 관련 문서를 검색\n",
    "for doc in docs:\n",
    "    print(doc.page_content)\n",
    "    print(\"=========================================================\")\n"
   ]
  },
  {
   "cell_type": "code",
   "execution_count": null,
   "metadata": {
    "id": "IwLHVrqlBoBD"
   },
   "outputs": [],
   "source": []
  }
 ],
 "metadata": {
  "colab": {
   "authorship_tag": "ABX9TyOrkpD4BaodAXyys4Iai7NE",
   "collapsed_sections": [
    "uI2h7zT_AJ9U",
    "elqAm89UwM2H",
    "gHr5iVrgwVzF",
    "eATo4i9Rwehg"
   ],
   "provenance": [],
   "toc_visible": true
  },
  "kernelspec": {
   "display_name": "Python 3",
   "name": "python3"
  },
  "language_info": {
   "name": "python"
  }
 },
 "nbformat": 4,
 "nbformat_minor": 0
}
