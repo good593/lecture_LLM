{
 "cells": [
  {
   "cell_type": "code",
   "execution_count": 1,
   "metadata": {},
   "outputs": [],
   "source": [
    "import pandas as pd "
   ]
  },
  {
   "cell_type": "code",
   "execution_count": 2,
   "metadata": {},
   "outputs": [
    {
     "data": {
      "text/plain": [
       "(130, 5)"
      ]
     },
     "execution_count": 2,
     "metadata": {},
     "output_type": "execute_result"
    }
   ],
   "source": [
    "df = pd.read_csv(\"질병.csv\")\n",
    "df.shape \n"
   ]
  },
  {
   "cell_type": "code",
   "execution_count": 3,
   "metadata": {},
   "outputs": [
    {
     "data": {
      "text/html": [
       "<div>\n",
       "<style scoped>\n",
       "    .dataframe tbody tr th:only-of-type {\n",
       "        vertical-align: middle;\n",
       "    }\n",
       "\n",
       "    .dataframe tbody tr th {\n",
       "        vertical-align: top;\n",
       "    }\n",
       "\n",
       "    .dataframe thead th {\n",
       "        text-align: right;\n",
       "    }\n",
       "</style>\n",
       "<table border=\"1\" class=\"dataframe\">\n",
       "  <thead>\n",
       "    <tr style=\"text-align: right;\">\n",
       "      <th></th>\n",
       "      <th>video_url</th>\n",
       "      <th>video_id</th>\n",
       "      <th>title</th>\n",
       "      <th>channel</th>\n",
       "      <th>caption</th>\n",
       "    </tr>\n",
       "  </thead>\n",
       "  <tbody>\n",
       "    <tr>\n",
       "      <th>0</th>\n",
       "      <td>https://www.youtube.com/watch?v=8GwNlF44ntY&amp;li...</td>\n",
       "      <td>8GwNlF44ntY</td>\n",
       "      <td>#164  식은땀! 이 정도는 알아두셔야 합니다. : 하정훈의 육아이야기</td>\n",
       "      <td>하정훈의 삐뽀삐뽀 119 소아과 (삐뽀삐뽀 119 소아과)</td>\n",
       "      <td>[음악] 안녕하세요 소아청소년과 전문의 가져옵니다 이제는 많이 줄긴 했지만 아직도 ...</td>\n",
       "    </tr>\n",
       "    <tr>\n",
       "      <th>1</th>\n",
       "      <td>https://www.youtube.com/watch?v=8GwNlF44ntY</td>\n",
       "      <td>8GwNlF44ntY</td>\n",
       "      <td>#164  식은땀! 이 정도는 알아두셔야 합니다. : 하정훈의 육아이야기</td>\n",
       "      <td>하정훈의 삐뽀삐뽀 119 소아과 (삐뽀삐뽀 119 소아과)</td>\n",
       "      <td>[음악] 안녕하세요 소아청소년과 전문의 가져옵니다 이제는 많이 줄긴 했지만 아직도 ...</td>\n",
       "    </tr>\n",
       "  </tbody>\n",
       "</table>\n",
       "</div>"
      ],
      "text/plain": [
       "                                           video_url     video_id  \\\n",
       "0  https://www.youtube.com/watch?v=8GwNlF44ntY&li...  8GwNlF44ntY   \n",
       "1        https://www.youtube.com/watch?v=8GwNlF44ntY  8GwNlF44ntY   \n",
       "\n",
       "                                      title                           channel  \\\n",
       "0  #164  식은땀! 이 정도는 알아두셔야 합니다. : 하정훈의 육아이야기  하정훈의 삐뽀삐뽀 119 소아과 (삐뽀삐뽀 119 소아과)   \n",
       "1  #164  식은땀! 이 정도는 알아두셔야 합니다. : 하정훈의 육아이야기  하정훈의 삐뽀삐뽀 119 소아과 (삐뽀삐뽀 119 소아과)   \n",
       "\n",
       "                                             caption  \n",
       "0  [음악] 안녕하세요 소아청소년과 전문의 가져옵니다 이제는 많이 줄긴 했지만 아직도 ...  \n",
       "1  [음악] 안녕하세요 소아청소년과 전문의 가져옵니다 이제는 많이 줄긴 했지만 아직도 ...  "
      ]
     },
     "execution_count": 3,
     "metadata": {},
     "output_type": "execute_result"
    }
   ],
   "source": [
    "df.head(2)"
   ]
  },
  {
   "cell_type": "code",
   "execution_count": 4,
   "metadata": {},
   "outputs": [],
   "source": [
    "def cleaning_caption(data:str) -> str:\n",
    "  return data.replace(\"으 \", \"\").replace(\" 으\", \"\")\\\n",
    "    .replace(\"아 \", \"\").replace(\" 아\", \"\").replace(\"[음악]\", \"\").strip()\n",
    "\n",
    "df['caption'] = df['caption'].map(cleaning_caption)"
   ]
  },
  {
   "cell_type": "code",
   "execution_count": 5,
   "metadata": {},
   "outputs": [
    {
     "data": {
      "text/html": [
       "<div>\n",
       "<style scoped>\n",
       "    .dataframe tbody tr th:only-of-type {\n",
       "        vertical-align: middle;\n",
       "    }\n",
       "\n",
       "    .dataframe tbody tr th {\n",
       "        vertical-align: top;\n",
       "    }\n",
       "\n",
       "    .dataframe thead th {\n",
       "        text-align: right;\n",
       "    }\n",
       "</style>\n",
       "<table border=\"1\" class=\"dataframe\">\n",
       "  <thead>\n",
       "    <tr style=\"text-align: right;\">\n",
       "      <th></th>\n",
       "      <th>video_url</th>\n",
       "      <th>content</th>\n",
       "    </tr>\n",
       "  </thead>\n",
       "  <tbody>\n",
       "    <tr>\n",
       "      <th>0</th>\n",
       "      <td>https://www.youtube.com/watch?v=8GwNlF44ntY&amp;li...</td>\n",
       "      <td>#164  식은땀! 이 정도는 알아두셔야 합니다. : 하정훈의 육아이야기 안녕하세요...</td>\n",
       "    </tr>\n",
       "    <tr>\n",
       "      <th>1</th>\n",
       "      <td>https://www.youtube.com/watch?v=8GwNlF44ntY</td>\n",
       "      <td>#164  식은땀! 이 정도는 알아두셔야 합니다. : 하정훈의 육아이야기 안녕하세요...</td>\n",
       "    </tr>\n",
       "  </tbody>\n",
       "</table>\n",
       "</div>"
      ],
      "text/plain": [
       "                                           video_url  \\\n",
       "0  https://www.youtube.com/watch?v=8GwNlF44ntY&li...   \n",
       "1        https://www.youtube.com/watch?v=8GwNlF44ntY   \n",
       "\n",
       "                                             content  \n",
       "0  #164  식은땀! 이 정도는 알아두셔야 합니다. : 하정훈의 육아이야기 안녕하세요...  \n",
       "1  #164  식은땀! 이 정도는 알아두셔야 합니다. : 하정훈의 육아이야기 안녕하세요...  "
      ]
     },
     "execution_count": 5,
     "metadata": {},
     "output_type": "execute_result"
    }
   ],
   "source": [
    "df['content'] = df.apply(lambda x: x['title'] + \" \" + x['caption'], axis=1)\n"
   ]
  },
  {
   "cell_type": "code",
   "execution_count": 7,
   "metadata": {},
   "outputs": [
    {
     "data": {
      "text/html": [
       "<div>\n",
       "<style scoped>\n",
       "    .dataframe tbody tr th:only-of-type {\n",
       "        vertical-align: middle;\n",
       "    }\n",
       "\n",
       "    .dataframe tbody tr th {\n",
       "        vertical-align: top;\n",
       "    }\n",
       "\n",
       "    .dataframe thead th {\n",
       "        text-align: right;\n",
       "    }\n",
       "</style>\n",
       "<table border=\"1\" class=\"dataframe\">\n",
       "  <thead>\n",
       "    <tr style=\"text-align: right;\">\n",
       "      <th></th>\n",
       "      <th>video_url</th>\n",
       "      <th>content</th>\n",
       "    </tr>\n",
       "  </thead>\n",
       "  <tbody>\n",
       "    <tr>\n",
       "      <th>0</th>\n",
       "      <td>https://www.youtube.com/watch?v=8GwNlF44ntY&amp;li...</td>\n",
       "      <td>#164  식은땀! 이 정도는 알아두셔야 합니다. : 하정훈의 육아이야기 안녕하세요...</td>\n",
       "    </tr>\n",
       "    <tr>\n",
       "      <th>1</th>\n",
       "      <td>https://www.youtube.com/watch?v=8GwNlF44ntY</td>\n",
       "      <td>#164  식은땀! 이 정도는 알아두셔야 합니다. : 하정훈의 육아이야기 안녕하세요...</td>\n",
       "    </tr>\n",
       "    <tr>\n",
       "      <th>2</th>\n",
       "      <td>https://www.youtube.com/watch?v=ZO1ffVTWsJc</td>\n",
       "      <td>#158  식중독, 단순 배탈과 다릅니다. 주의사항 알아봅시다: 하정훈의 육아이야기...</td>\n",
       "    </tr>\n",
       "    <tr>\n",
       "      <th>3</th>\n",
       "      <td>https://www.youtube.com/watch?v=ZZkU79leibA</td>\n",
       "      <td>#157  햄버거병? 용혈성요독증후군 제대로 알아봅시다 안녕하세요 서 청순과 전문의...</td>\n",
       "    </tr>\n",
       "    <tr>\n",
       "      <th>4</th>\n",
       "      <td>https://www.youtube.com/watch?v=w8BucI0wZYE</td>\n",
       "      <td>#139  설사하는 아이 제대로 먹여야 합니다: 하정훈의 육아이야기 안녕하세요 어화...</td>\n",
       "    </tr>\n",
       "  </tbody>\n",
       "</table>\n",
       "</div>"
      ],
      "text/plain": [
       "                                           video_url  \\\n",
       "0  https://www.youtube.com/watch?v=8GwNlF44ntY&li...   \n",
       "1        https://www.youtube.com/watch?v=8GwNlF44ntY   \n",
       "2        https://www.youtube.com/watch?v=ZO1ffVTWsJc   \n",
       "3        https://www.youtube.com/watch?v=ZZkU79leibA   \n",
       "4        https://www.youtube.com/watch?v=w8BucI0wZYE   \n",
       "\n",
       "                                             content  \n",
       "0  #164  식은땀! 이 정도는 알아두셔야 합니다. : 하정훈의 육아이야기 안녕하세요...  \n",
       "1  #164  식은땀! 이 정도는 알아두셔야 합니다. : 하정훈의 육아이야기 안녕하세요...  \n",
       "2  #158  식중독, 단순 배탈과 다릅니다. 주의사항 알아봅시다: 하정훈의 육아이야기...  \n",
       "3  #157  햄버거병? 용혈성요독증후군 제대로 알아봅시다 안녕하세요 서 청순과 전문의...  \n",
       "4  #139  설사하는 아이 제대로 먹여야 합니다: 하정훈의 육아이야기 안녕하세요 어화...  "
      ]
     },
     "execution_count": 7,
     "metadata": {},
     "output_type": "execute_result"
    }
   ],
   "source": [
    "df_save = df[['video_url', 'content']]\n",
    "\n",
    "df_save.head()"
   ]
  },
  {
   "cell_type": "code",
   "execution_count": 8,
   "metadata": {},
   "outputs": [],
   "source": [
    "df_save.to_csv(\"new 질병.csv\", index=False, header=True)\n"
   ]
  },
  {
   "cell_type": "code",
   "execution_count": 2,
   "metadata": {},
   "outputs": [],
   "source": [
    "from loader import get_loader"
   ]
  },
  {
   "cell_type": "code",
   "execution_count": 3,
   "metadata": {},
   "outputs": [],
   "source": [
    "loader = get_loader()"
   ]
  },
  {
   "cell_type": "code",
   "execution_count": 4,
   "metadata": {},
   "outputs": [
    {
     "data": {
      "text/plain": [
       "130"
      ]
     },
     "execution_count": 4,
     "metadata": {},
     "output_type": "execute_result"
    }
   ],
   "source": [
    "docs = loader.load()\n",
    "len(docs)"
   ]
  },
  {
   "cell_type": "code",
   "execution_count": null,
   "metadata": {},
   "outputs": [],
   "source": [
    "from splitter import get_splitter"
   ]
  },
  {
   "cell_type": "code",
   "execution_count": 6,
   "metadata": {},
   "outputs": [],
   "source": [
    "splitter = get_splitter()"
   ]
  },
  {
   "cell_type": "code",
   "execution_count": 7,
   "metadata": {},
   "outputs": [
    {
     "data": {
      "text/plain": [
       "598"
      ]
     },
     "execution_count": 7,
     "metadata": {},
     "output_type": "execute_result"
    }
   ],
   "source": [
    "split_docs = splitter.split_documents(docs)\n",
    "\n",
    "len(split_docs)"
   ]
  },
  {
   "cell_type": "code",
   "execution_count": 8,
   "metadata": {},
   "outputs": [
    {
     "data": {
      "text/plain": [
       "True"
      ]
     },
     "execution_count": 8,
     "metadata": {},
     "output_type": "execute_result"
    }
   ],
   "source": [
    "from dotenv import load_dotenv \n",
    "\n",
    "load_dotenv()"
   ]
  },
  {
   "cell_type": "code",
   "execution_count": null,
   "metadata": {},
   "outputs": [],
   "source": [
    "from "
   ]
  }
 ],
 "metadata": {
  "kernelspec": {
   "display_name": ".venv",
   "language": "python",
   "name": "python3"
  },
  "language_info": {
   "codemirror_mode": {
    "name": "ipython",
    "version": 3
   },
   "file_extension": ".py",
   "mimetype": "text/x-python",
   "name": "python",
   "nbconvert_exporter": "python",
   "pygments_lexer": "ipython3",
   "version": "3.12.9"
  }
 },
 "nbformat": 4,
 "nbformat_minor": 2
}
