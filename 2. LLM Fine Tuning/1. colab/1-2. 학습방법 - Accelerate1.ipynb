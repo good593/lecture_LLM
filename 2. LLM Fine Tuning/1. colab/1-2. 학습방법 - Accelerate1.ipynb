{
 "cells": [
  {
   "cell_type": "markdown",
   "id": "f14d61fc",
   "metadata": {},
   "source": [
    "# Accelerate 실습\n",
    "\n",
    "## Accelerate란?\n",
    "**Hugging Face Accelerate**는 복잡한 분산 학습을 간단하게 만들어주는 도구입니다.\n",
    "\n",
    "### 핵심 기능\n",
    "- 기존 PyTorch 코드를 거의 그대로 사용\n",
    "- 몇 줄만 추가하면 분산 학습 가능\n",
    "- 다양한 하드웨어 환경을 자동으로 감지하고 최적화\n"
   ]
  },
  {
   "cell_type": "markdown",
   "id": "1dd7d0c8",
   "metadata": {},
   "source": [
    "## 기본 사용법\n",
    "\n",
    "### 핵심 차이점\n",
    "**기존 PyTorch:**\n",
    "```python\n",
    "model.to(device)\n",
    "for batch in dataloader:\n",
    "    batch = batch.to(device)\n",
    "    loss.backward()\n",
    "```\n",
    "\n",
    "**Accelerate 사용:**\n",
    "```python\n",
    "from accelerate import Accelerator\n",
    "accelerator = Accelerator()\n",
    "model, optimizer, dataloader = accelerator.prepare(model, optimizer, dataloader)\n",
    "\n",
    "for batch in dataloader:\n",
    "    accelerator.backward(loss)  # 디바이스 이동 자동 처리\n",
    "```\n"
   ]
  },
  {
   "cell_type": "markdown",
   "id": "316c63e9",
   "metadata": {},
   "source": [
    "# 실습: NSMC 데이터셋으로 감정 분석 파인튜닝\n",
    "\n",
    "- **모델**: KcBERT (한국어 특화 BERT)\n",
    "- **작업**: 감정 분석 (긍정/부정)\n",
    "- **데이터**: NSMC (네이버 영화 리뷰 감정 분석 데이터셋)\n"
   ]
  },
  {
   "cell_type": "code",
   "execution_count": 1,
   "id": "3df31dba-31a3-44dc-93f4-d47a293c600c",
   "metadata": {},
   "outputs": [
    {
     "name": "stdout",
     "output_type": "stream",
     "text": [
      "Requirement already satisfied: accelerate in /usr/local/lib/python3.11/dist-packages (1.10.1)\n",
      "Requirement already satisfied: transformers in /usr/local/lib/python3.11/dist-packages (4.56.0)\n",
      "Requirement already satisfied: datasets in /usr/local/lib/python3.11/dist-packages (4.0.0)\n",
      "Requirement already satisfied: evaluate in /usr/local/lib/python3.11/dist-packages (0.4.5)\n",
      "Requirement already satisfied: numpy<3.0.0,>=1.17 in /usr/local/lib/python3.11/dist-packages (from accelerate) (2.1.2)\n",
      "Requirement already satisfied: packaging>=20.0 in /usr/local/lib/python3.11/dist-packages (from accelerate) (24.2)\n",
      "Requirement already satisfied: psutil in /usr/local/lib/python3.11/dist-packages (from accelerate) (7.0.0)\n",
      "Requirement already satisfied: pyyaml in /usr/local/lib/python3.11/dist-packages (from accelerate) (6.0.2)\n",
      "Requirement already satisfied: torch>=2.0.0 in /usr/local/lib/python3.11/dist-packages (from accelerate) (2.8.0.dev20250319+cu128)\n",
      "Requirement already satisfied: huggingface_hub>=0.21.0 in /usr/local/lib/python3.11/dist-packages (from accelerate) (0.34.4)\n",
      "Requirement already satisfied: safetensors>=0.4.3 in /usr/local/lib/python3.11/dist-packages (from accelerate) (0.6.2)\n",
      "Requirement already satisfied: filelock in /usr/local/lib/python3.11/dist-packages (from transformers) (3.16.1)\n",
      "Requirement already satisfied: regex!=2019.12.17 in /usr/local/lib/python3.11/dist-packages (from transformers) (2025.9.1)\n",
      "Requirement already satisfied: requests in /usr/local/lib/python3.11/dist-packages (from transformers) (2.32.3)\n",
      "Requirement already satisfied: tokenizers<=0.23.0,>=0.22.0 in /usr/local/lib/python3.11/dist-packages (from transformers) (0.22.0)\n",
      "Requirement already satisfied: tqdm>=4.27 in /usr/local/lib/python3.11/dist-packages (from transformers) (4.67.1)\n",
      "Requirement already satisfied: pyarrow>=15.0.0 in /usr/local/lib/python3.11/dist-packages (from datasets) (21.0.0)\n",
      "Requirement already satisfied: dill<0.3.9,>=0.3.0 in /usr/local/lib/python3.11/dist-packages (from datasets) (0.3.8)\n",
      "Requirement already satisfied: pandas in /usr/local/lib/python3.11/dist-packages (from datasets) (2.3.2)\n",
      "Requirement already satisfied: xxhash in /usr/local/lib/python3.11/dist-packages (from datasets) (3.5.0)\n",
      "Requirement already satisfied: multiprocess<0.70.17 in /usr/local/lib/python3.11/dist-packages (from datasets) (0.70.16)\n",
      "Requirement already satisfied: fsspec<=2025.3.0,>=2023.1.0 in /usr/local/lib/python3.11/dist-packages (from fsspec[http]<=2025.3.0,>=2023.1.0->datasets) (2024.10.0)\n",
      "Requirement already satisfied: aiohttp!=4.0.0a0,!=4.0.0a1 in /usr/local/lib/python3.11/dist-packages (from fsspec[http]<=2025.3.0,>=2023.1.0->datasets) (3.12.15)\n",
      "Requirement already satisfied: typing-extensions>=3.7.4.3 in /usr/local/lib/python3.11/dist-packages (from huggingface_hub>=0.21.0->accelerate) (4.12.2)\n",
      "Requirement already satisfied: hf-xet<2.0.0,>=1.1.3 in /usr/local/lib/python3.11/dist-packages (from huggingface_hub>=0.21.0->accelerate) (1.1.9)\n",
      "Requirement already satisfied: charset-normalizer<4,>=2 in /usr/local/lib/python3.11/dist-packages (from requests->transformers) (3.4.1)\n",
      "Requirement already satisfied: idna<4,>=2.5 in /usr/local/lib/python3.11/dist-packages (from requests->transformers) (3.10)\n",
      "Requirement already satisfied: urllib3<3,>=1.21.1 in /usr/local/lib/python3.11/dist-packages (from requests->transformers) (2.3.0)\n",
      "Requirement already satisfied: certifi>=2017.4.17 in /usr/local/lib/python3.11/dist-packages (from requests->transformers) (2025.1.31)\n",
      "Requirement already satisfied: sympy>=1.13.3 in /usr/local/lib/python3.11/dist-packages (from torch>=2.0.0->accelerate) (1.13.3)\n",
      "Requirement already satisfied: networkx in /usr/local/lib/python3.11/dist-packages (from torch>=2.0.0->accelerate) (3.4.2)\n",
      "Requirement already satisfied: jinja2 in /usr/local/lib/python3.11/dist-packages (from torch>=2.0.0->accelerate) (3.1.4)\n",
      "Requirement already satisfied: nvidia-cuda-nvrtc-cu12==12.8.61 in /usr/local/lib/python3.11/dist-packages (from torch>=2.0.0->accelerate) (12.8.61)\n",
      "Requirement already satisfied: nvidia-cuda-runtime-cu12==12.8.57 in /usr/local/lib/python3.11/dist-packages (from torch>=2.0.0->accelerate) (12.8.57)\n",
      "Requirement already satisfied: nvidia-cuda-cupti-cu12==12.8.57 in /usr/local/lib/python3.11/dist-packages (from torch>=2.0.0->accelerate) (12.8.57)\n",
      "Requirement already satisfied: nvidia-cudnn-cu12==9.8.0.87 in /usr/local/lib/python3.11/dist-packages (from torch>=2.0.0->accelerate) (9.8.0.87)\n",
      "Requirement already satisfied: nvidia-cublas-cu12==12.8.3.14 in /usr/local/lib/python3.11/dist-packages (from torch>=2.0.0->accelerate) (12.8.3.14)\n",
      "Requirement already satisfied: nvidia-cufft-cu12==11.3.3.41 in /usr/local/lib/python3.11/dist-packages (from torch>=2.0.0->accelerate) (11.3.3.41)\n",
      "Requirement already satisfied: nvidia-curand-cu12==10.3.9.55 in /usr/local/lib/python3.11/dist-packages (from torch>=2.0.0->accelerate) (10.3.9.55)\n",
      "Requirement already satisfied: nvidia-cusolver-cu12==11.7.2.55 in /usr/local/lib/python3.11/dist-packages (from torch>=2.0.0->accelerate) (11.7.2.55)\n",
      "Requirement already satisfied: nvidia-cusparse-cu12==12.5.7.53 in /usr/local/lib/python3.11/dist-packages (from torch>=2.0.0->accelerate) (12.5.7.53)\n",
      "Requirement already satisfied: nvidia-cusparselt-cu12==0.6.3 in /usr/local/lib/python3.11/dist-packages (from torch>=2.0.0->accelerate) (0.6.3)\n",
      "Requirement already satisfied: nvidia-nccl-cu12==2.25.1 in /usr/local/lib/python3.11/dist-packages (from torch>=2.0.0->accelerate) (2.25.1)\n",
      "Requirement already satisfied: nvidia-nvtx-cu12==12.8.55 in /usr/local/lib/python3.11/dist-packages (from torch>=2.0.0->accelerate) (12.8.55)\n",
      "Requirement already satisfied: nvidia-nvjitlink-cu12==12.8.61 in /usr/local/lib/python3.11/dist-packages (from torch>=2.0.0->accelerate) (12.8.61)\n",
      "Requirement already satisfied: nvidia-cufile-cu12==1.13.0.11 in /usr/local/lib/python3.11/dist-packages (from torch>=2.0.0->accelerate) (1.13.0.11)\n",
      "Requirement already satisfied: pytorch-triton==3.3.0+git96316ce5 in /usr/local/lib/python3.11/dist-packages (from torch>=2.0.0->accelerate) (3.3.0+git96316ce5)\n",
      "Requirement already satisfied: setuptools>=40.8.0 in /usr/local/lib/python3.11/dist-packages (from pytorch-triton==3.3.0+git96316ce5->torch>=2.0.0->accelerate) (77.0.1)\n",
      "Requirement already satisfied: python-dateutil>=2.8.2 in /usr/local/lib/python3.11/dist-packages (from pandas->datasets) (2.9.0.post0)\n",
      "Requirement already satisfied: pytz>=2020.1 in /usr/local/lib/python3.11/dist-packages (from pandas->datasets) (2025.2)\n",
      "Requirement already satisfied: tzdata>=2022.7 in /usr/local/lib/python3.11/dist-packages (from pandas->datasets) (2025.2)\n",
      "Requirement already satisfied: aiohappyeyeballs>=2.5.0 in /usr/local/lib/python3.11/dist-packages (from aiohttp!=4.0.0a0,!=4.0.0a1->fsspec[http]<=2025.3.0,>=2023.1.0->datasets) (2.6.1)\n",
      "Requirement already satisfied: aiosignal>=1.4.0 in /usr/local/lib/python3.11/dist-packages (from aiohttp!=4.0.0a0,!=4.0.0a1->fsspec[http]<=2025.3.0,>=2023.1.0->datasets) (1.4.0)\n",
      "Requirement already satisfied: attrs>=17.3.0 in /usr/local/lib/python3.11/dist-packages (from aiohttp!=4.0.0a0,!=4.0.0a1->fsspec[http]<=2025.3.0,>=2023.1.0->datasets) (25.3.0)\n",
      "Requirement already satisfied: frozenlist>=1.1.1 in /usr/local/lib/python3.11/dist-packages (from aiohttp!=4.0.0a0,!=4.0.0a1->fsspec[http]<=2025.3.0,>=2023.1.0->datasets) (1.7.0)\n",
      "Requirement already satisfied: multidict<7.0,>=4.5 in /usr/local/lib/python3.11/dist-packages (from aiohttp!=4.0.0a0,!=4.0.0a1->fsspec[http]<=2025.3.0,>=2023.1.0->datasets) (6.6.4)\n",
      "Requirement already satisfied: propcache>=0.2.0 in /usr/local/lib/python3.11/dist-packages (from aiohttp!=4.0.0a0,!=4.0.0a1->fsspec[http]<=2025.3.0,>=2023.1.0->datasets) (0.3.2)\n",
      "Requirement already satisfied: yarl<2.0,>=1.17.0 in /usr/local/lib/python3.11/dist-packages (from aiohttp!=4.0.0a0,!=4.0.0a1->fsspec[http]<=2025.3.0,>=2023.1.0->datasets) (1.20.1)\n",
      "Requirement already satisfied: six>=1.5 in /usr/lib/python3/dist-packages (from python-dateutil>=2.8.2->pandas->datasets) (1.16.0)\n",
      "Requirement already satisfied: mpmath<1.4,>=1.1.0 in /usr/local/lib/python3.11/dist-packages (from sympy>=1.13.3->torch>=2.0.0->accelerate) (1.3.0)\n",
      "Requirement already satisfied: MarkupSafe>=2.0 in /usr/local/lib/python3.11/dist-packages (from jinja2->torch>=2.0.0->accelerate) (2.1.5)\n",
      "\u001b[33mWARNING: Running pip as the 'root' user can result in broken permissions and conflicting behaviour with the system package manager, possibly rendering your system unusable. It is recommended to use a virtual environment instead: https://pip.pypa.io/warnings/venv. Use the --root-user-action option if you know what you are doing and want to suppress this warning.\u001b[0m\u001b[33m\n",
      "\u001b[0m\n",
      "\u001b[1m[\u001b[0m\u001b[34;49mnotice\u001b[0m\u001b[1;39;49m]\u001b[0m\u001b[39;49m A new release of pip is available: \u001b[0m\u001b[31;49m25.0.1\u001b[0m\u001b[39;49m -> \u001b[0m\u001b[32;49m25.2\u001b[0m\n",
      "\u001b[1m[\u001b[0m\u001b[34;49mnotice\u001b[0m\u001b[1;39;49m]\u001b[0m\u001b[39;49m To update, run: \u001b[0m\u001b[32;49mpython -m pip install --upgrade pip\u001b[0m\n",
      "Note: you may need to restart the kernel to use updated packages.\n"
     ]
    }
   ],
   "source": [
    "%pip install accelerate transformers datasets evaluate"
   ]
  },
  {
   "cell_type": "code",
   "execution_count": 2,
   "id": "bca50717",
   "metadata": {},
   "outputs": [
    {
     "name": "stdout",
     "output_type": "stream",
     "text": [
      "라이브러리 import 완료!\n"
     ]
    }
   ],
   "source": [
    "# 라이브러리 import\n",
    "import torch\n",
    "from torch.utils.data import DataLoader\n",
    "from torch.optim import AdamW\n",
    "from transformers import AutoTokenizer, AutoModelForSequenceClassification, get_scheduler\n",
    "from datasets import Dataset\n",
    "from accelerate import Accelerator\n",
    "import evaluate\n",
    "from tqdm.auto import tqdm\n",
    "import pandas as pd\n",
    "import urllib.request\n",
    "import os\n",
    "\n",
    "print(\"라이브러리 import 완료!\")\n"
   ]
  },
  {
   "cell_type": "code",
   "execution_count": 3,
   "id": "f644460a",
   "metadata": {},
   "outputs": [
    {
     "name": "stdout",
     "output_type": "stream",
     "text": [
      "사용 디바이스: cuda\n",
      "Accelerator 초기화 완료!\n"
     ]
    }
   ],
   "source": [
    "# Accelerator 초기화\n",
    "accelerator = Accelerator()\n",
    "print(f\"사용 디바이스: {accelerator.device}\")\n",
    "print(\"Accelerator 초기화 완료!\")\n"
   ]
  },
  {
   "cell_type": "code",
   "execution_count": 4,
   "id": "bbe3583e",
   "metadata": {},
   "outputs": [
    {
     "name": "stdout",
     "output_type": "stream",
     "text": [
      "ratings_train.txt 다운로드 중...\n",
      "✅ ratings_train.txt 다운로드 완료\n",
      "train 데이터 로드: 1000개\n",
      "ratings_test.txt 다운로드 중...\n",
      "✅ ratings_test.txt 다운로드 완료\n",
      "test 데이터 로드: 200개\n",
      "\n",
      "✅ NSMC 데이터셋 준비 완료!\n",
      "훈련 데이터: 1000개\n",
      "테스트 데이터: 200개\n",
      "예시 리뷰: 아 더빙.. 진짜 짜증나네요 목소리...\n",
      "라벨: 0 (0=부정, 1=긍정)\n"
     ]
    }
   ],
   "source": [
    "# NSMC 데이터셋 다운로드 및 로드 (e9t/nsmc)\n",
    "def download_nsmc_dataset():\n",
    "    \"\"\"NSMC 데이터셋을 다운로드하고 로드하는 함수\"\"\"\n",
    "    \n",
    "    base_url = \"https://raw.githubusercontent.com/e9t/nsmc/master/\"\n",
    "    files = {\n",
    "        \"train\": \"ratings_train.txt\",\n",
    "        \"test\": \"ratings_test.txt\"\n",
    "    }\n",
    "    \n",
    "    data = {}\n",
    "    \n",
    "    for split, filename in files.items():\n",
    "        file_path = f\"./{filename}\"\n",
    "        \n",
    "        # 파일이 없으면 다운로드\n",
    "        if not os.path.exists(file_path):\n",
    "            print(f\"{filename} 다운로드 중...\")\n",
    "            url = base_url + filename\n",
    "            urllib.request.urlretrieve(url, file_path)\n",
    "            print(f\"✅ {filename} 다운로드 완료\")\n",
    "        \n",
    "        # 데이터 로드 (TSV 파일, 탭으로 구분)\n",
    "        df = pd.read_csv(file_path, sep='\\t', encoding='utf-8')\n",
    "        \n",
    "        # NaN 값 제거\n",
    "        df = df.dropna()\n",
    "        \n",
    "        # 데이터 개수 제한 (학습 속도를 위해)\n",
    "        if split == \"train\":\n",
    "            df = df.head(1000)  # 훈련 데이터 1000개\n",
    "        else:\n",
    "            df = df.head(200)   # 테스트 데이터 200개\n",
    "        \n",
    "        data[split] = df\n",
    "        print(f\"{split} 데이터 로드: {len(df)}개\")\n",
    "    \n",
    "    return data\n",
    "\n",
    "# NSMC 데이터셋 다운로드 및 로드\n",
    "nsmc_data = download_nsmc_dataset()\n",
    "\n",
    "# Dataset 객체로 변환\n",
    "train_df = nsmc_data[\"train\"]\n",
    "test_df = nsmc_data[\"test\"]\n",
    "\n",
    "dataset = Dataset.from_dict({\n",
    "    \"document\": train_df[\"document\"].tolist(),\n",
    "    \"label\": train_df[\"label\"].tolist()\n",
    "})\n",
    "\n",
    "test_dataset = Dataset.from_dict({\n",
    "    \"document\": test_df[\"document\"].tolist(),\n",
    "    \"label\": test_df[\"label\"].tolist()\n",
    "})\n",
    "\n",
    "print(f\"\\n✅ NSMC 데이터셋 준비 완료!\")\n",
    "print(f\"훈련 데이터: {len(dataset)}개\")\n",
    "print(f\"테스트 데이터: {len(test_dataset)}개\")\n",
    "print(f\"예시 리뷰: {dataset[0]['document'][:50]}...\")\n",
    "print(f\"라벨: {dataset[0]['label']} (0=부정, 1=긍정)\")\n"
   ]
  },
  {
   "cell_type": "code",
   "execution_count": 5,
   "id": "da2ec375",
   "metadata": {},
   "outputs": [
    {
     "name": "stderr",
     "output_type": "stream",
     "text": [
      "Some weights of BertForSequenceClassification were not initialized from the model checkpoint at beomi/kcbert-base and are newly initialized: ['classifier.bias', 'classifier.weight']\n",
      "You should probably TRAIN this model on a down-stream task to be able to use it for predictions and inference.\n"
     ]
    },
    {
     "name": "stdout",
     "output_type": "stream",
     "text": [
      "✅ KcBERT 모델 로드 완료: beomi/kcbert-base\n"
     ]
    }
   ],
   "source": [
    "# 한국어 특화 모델과 토크나이저 로드\n",
    "model_name = \"beomi/kcbert-base\"  # 한국어 특화 BERT 모델\n",
    "tokenizer = AutoTokenizer.from_pretrained(model_name)\n",
    "model = AutoModelForSequenceClassification.from_pretrained(model_name, num_labels=2)\n",
    "\n",
    "print(f\"✅ KcBERT 모델 로드 완료: {model_name}\")\n"
   ]
  },
  {
   "cell_type": "code",
   "execution_count": 6,
   "id": "7910937c",
   "metadata": {},
   "outputs": [
    {
     "name": "stdout",
     "output_type": "stream",
     "text": [
      "사용할 최대 길이: 300\n"
     ]
    },
    {
     "data": {
      "application/vnd.jupyter.widget-view+json": {
       "model_id": "4ab03c1ea48f460994795a0cd1ee2c60",
       "version_major": 2,
       "version_minor": 0
      },
      "text/plain": [
       "Map:   0%|          | 0/1000 [00:00<?, ? examples/s]"
      ]
     },
     "metadata": {},
     "output_type": "display_data"
    },
    {
     "data": {
      "application/vnd.jupyter.widget-view+json": {
       "model_id": "569800c0675140bb84281ad529b3fc29",
       "version_major": 2,
       "version_minor": 0
      },
      "text/plain": [
       "Map:   0%|          | 0/200 [00:00<?, ? examples/s]"
      ]
     },
     "metadata": {},
     "output_type": "display_data"
    },
    {
     "name": "stdout",
     "output_type": "stream",
     "text": [
      "데이터 전처리 완료! (최대 길이: 300)\n"
     ]
    }
   ],
   "source": [
    "# 데이터 전처리 (모델의 최대 길이에 맞게 설정)\n",
    "# 모델의 최대 시퀀스 길이 확인\n",
    "max_length = min(tokenizer.model_max_length, 300)  # KcBERT는 보통 300이 안전\n",
    "print(f\"사용할 최대 길이: {max_length}\")\n",
    "\n",
    "def preprocess_function(examples):\n",
    "    result = tokenizer(examples[\"document\"], truncation=True, padding=\"max_length\", max_length=max_length)\n",
    "    result[\"labels\"] = examples[\"label\"]\n",
    "    return result\n",
    "\n",
    "tokenized_dataset = dataset.map(preprocess_function, batched=True, remove_columns=[\"document\", \"label\"])\n",
    "tokenized_test_dataset = test_dataset.map(preprocess_function, batched=True, remove_columns=[\"document\", \"label\"])\n",
    "\n",
    "print(f\"데이터 전처리 완료! (최대 길이: {max_length})\")\n"
   ]
  },
  {
   "cell_type": "code",
   "execution_count": 7,
   "id": "68a9d5bf",
   "metadata": {},
   "outputs": [
    {
     "name": "stdout",
     "output_type": "stream",
     "text": [
      "데이터로더 생성 완료 (배치 크기: 4)\n"
     ]
    }
   ],
   "source": [
    "# 데이터로더 생성\n",
    "tokenized_dataset.set_format(\"torch\")\n",
    "tokenized_test_dataset.set_format(\"torch\")\n",
    "\n",
    "batch_size = 4  # 메모리 안정성을 위해 배치 크기 감소\n",
    "train_dataloader = DataLoader(tokenized_dataset, batch_size=batch_size, shuffle=True)\n",
    "eval_dataloader = DataLoader(tokenized_test_dataset, batch_size=batch_size, shuffle=False)\n",
    "\n",
    "print(f\"데이터로더 생성 완료 (배치 크기: {batch_size})\")\n"
   ]
  },
  {
   "cell_type": "code",
   "execution_count": 8,
   "id": "9fdf7486",
   "metadata": {},
   "outputs": [
    {
     "name": "stdout",
     "output_type": "stream",
     "text": [
      "학습 설정 완료 (에포크: 3, 학습률: 5e-05)\n"
     ]
    }
   ],
   "source": [
    "# 학습 설정\n",
    "learning_rate = 5e-5\n",
    "num_epochs = 3\n",
    "optimizer = AdamW(model.parameters(), lr=learning_rate)\n",
    "lr_scheduler = get_scheduler(\"linear\", optimizer, 0, num_epochs * len(train_dataloader))\n",
    "accuracy_metric = evaluate.load(\"accuracy\")\n",
    "\n",
    "print(f\"학습 설정 완료 (에포크: {num_epochs}, 학습률: {learning_rate})\")\n"
   ]
  },
  {
   "cell_type": "code",
   "execution_count": 9,
   "id": "fd030ef3",
   "metadata": {},
   "outputs": [
    {
     "name": "stdout",
     "output_type": "stream",
     "text": [
      "Accelerate prepare 완료!\n"
     ]
    }
   ],
   "source": [
    "# Accelerate prepare (핵심!)\n",
    "model, optimizer, train_dataloader, eval_dataloader, lr_scheduler = accelerator.prepare(\n",
    "    model, optimizer, train_dataloader, eval_dataloader, lr_scheduler\n",
    ")\n",
    "\n",
    "print(\"Accelerate prepare 완료!\")\n"
   ]
  },
  {
   "cell_type": "code",
   "execution_count": 10,
   "id": "967da6ae",
   "metadata": {},
   "outputs": [
    {
     "name": "stdout",
     "output_type": "stream",
     "text": [
      "초기 정확도: 0.5650\n"
     ]
    }
   ],
   "source": [
    "# 평가 함수\n",
    "def evaluate_model():\n",
    "    model.eval()\n",
    "    all_predictions, all_labels = [], []\n",
    "    \n",
    "    for batch in eval_dataloader:\n",
    "        with torch.no_grad():\n",
    "            outputs = model(**batch)\n",
    "            predictions = outputs.logits.argmax(dim=-1)\n",
    "            all_predictions.extend(predictions.cpu().numpy())\n",
    "            all_labels.extend(batch[\"labels\"].cpu().numpy())\n",
    "    \n",
    "    accuracy = accuracy_metric.compute(predictions=all_predictions, references=all_labels)[\"accuracy\"]\n",
    "    model.train()\n",
    "    return accuracy\n",
    "\n",
    "initial_accuracy = evaluate_model()\n",
    "print(f\"초기 정확도: {initial_accuracy:.4f}\")\n"
   ]
  },
  {
   "cell_type": "code",
   "execution_count": 11,
   "id": "ab931364",
   "metadata": {},
   "outputs": [
    {
     "name": "stdout",
     "output_type": "stream",
     "text": [
      "파인튜닝 시작!\n"
     ]
    },
    {
     "data": {
      "application/vnd.jupyter.widget-view+json": {
       "model_id": "5c97d0575d394b80a4d927d9773165e3",
       "version_major": 2,
       "version_minor": 0
      },
      "text/plain": [
       "  0%|          | 0/750 [00:00<?, ?it/s]"
      ]
     },
     "metadata": {},
     "output_type": "display_data"
    },
    {
     "name": "stdout",
     "output_type": "stream",
     "text": [
      "Epoch 1: 손실=0.5342, 정확도=0.7750\n",
      "Epoch 2: 손실=0.2247, 정확도=0.8600\n",
      "Epoch 3: 손실=0.0659, 정확도=0.8450\n",
      "파인튜닝 완료! 성능 향상: 0.2800\n"
     ]
    }
   ],
   "source": [
    "# 파인튜닝 학습\n",
    "print(\"파인튜닝 시작!\")\n",
    "progress_bar = tqdm(range(num_epochs * len(train_dataloader)))\n",
    "\n",
    "for epoch in range(num_epochs):\n",
    "    model.train()\n",
    "    total_loss = 0\n",
    "    \n",
    "    for batch in train_dataloader:\n",
    "        outputs = model(**batch)\n",
    "        loss = outputs.loss\n",
    "        total_loss += loss.detach().float()\n",
    "        \n",
    "        accelerator.backward(loss)\n",
    "        optimizer.step()\n",
    "        lr_scheduler.step()\n",
    "        optimizer.zero_grad()\n",
    "        progress_bar.update(1)\n",
    "    \n",
    "    eval_accuracy = evaluate_model()\n",
    "    avg_loss = total_loss / len(train_dataloader)\n",
    "    \n",
    "    print(f\"Epoch {epoch + 1}: 손실={avg_loss:.4f}, 정확도={eval_accuracy:.4f}\")\n",
    "\n",
    "print(f\"파인튜닝 완료! 성능 향상: {eval_accuracy - initial_accuracy:.4f}\")\n"
   ]
  },
  {
   "cell_type": "code",
   "execution_count": 15,
   "id": "08b35dda-c59e-4660-95e6-d5b99de8a99e",
   "metadata": {},
   "outputs": [
    {
     "data": {
      "text/plain": [
       "'cuda'"
      ]
     },
     "execution_count": 15,
     "metadata": {},
     "output_type": "execute_result"
    }
   ],
   "source": [
    "import torch \n",
    "\n",
    "device = \"cuda\" if torch.cuda.is_available() else \"cpu\"\n",
    "device"
   ]
  },
  {
   "cell_type": "code",
   "execution_count": 16,
   "id": "b9446d06",
   "metadata": {},
   "outputs": [
    {
     "name": "stdout",
     "output_type": "stream",
     "text": [
      "'이 영화 정말 재미있어요!' → 긍정 (0.989)\n",
      "'별로였어요. 시간 낭비' → 부정 (0.997)\n",
      "모델 저장 및 테스트 완료!\n"
     ]
    }
   ],
   "source": [
    "# 모델 저장 및 테스트\n",
    "model_save_path = \"./fine_tuned_klue_bert_sentiment\"\n",
    "unwrapped_model = accelerator.unwrap_model(model)\n",
    "unwrapped_model.save_pretrained(model_save_path)\n",
    "tokenizer.save_pretrained(model_save_path)\n",
    "\n",
    "# 예측 테스트\n",
    "test_sentences = [\"이 영화 정말 재미있어요!\", \"별로였어요. 시간 낭비\"]\n",
    "unwrapped_model.eval()\n",
    "\n",
    "for text in test_sentences:\n",
    "    inputs = tokenizer(text, return_tensors=\"pt\", truncation=True, padding=True).to(device)\n",
    "    with torch.no_grad():\n",
    "        outputs = unwrapped_model(**inputs)\n",
    "        prediction = torch.nn.functional.softmax(outputs.logits, dim=-1)\n",
    "        predicted_class = torch.argmax(prediction, dim=-1).item()\n",
    "    \n",
    "    sentiment = \"긍정\" if predicted_class == 1 else \"부정\"\n",
    "    confidence = prediction[0][predicted_class].item()\n",
    "    print(f\"'{text}' → {sentiment} ({confidence:.3f})\")\n",
    "\n",
    "print(\"모델 저장 및 테스트 완료!\")\n"
   ]
  },
  {
   "cell_type": "markdown",
   "id": "eb310ca9",
   "metadata": {},
   "source": [
    "## 핵심 포인트\n",
    "\n",
    "### Accelerate 사용법\n",
    "1. `accelerator = Accelerator()` - 초기화\n",
    "2. `accelerator.prepare()` - 모델, 옵티마이저, 데이터로더 준비\n",
    "3. `accelerator.backward(loss)` - 역전파\n",
    "\n",
    "### 장점\n",
    "- 기존 PyTorch 코드 재사용 가능\n",
    "- 자동 분산 학습 지원\n",
    "- 디바이스 관리 자동화\n"
   ]
  }
 ],
 "metadata": {
  "kernelspec": {
   "display_name": "Python 3 (ipykernel)",
   "language": "python",
   "name": "python3"
  },
  "language_info": {
   "codemirror_mode": {
    "name": "ipython",
    "version": 3
   },
   "file_extension": ".py",
   "mimetype": "text/x-python",
   "name": "python",
   "nbconvert_exporter": "python",
   "pygments_lexer": "ipython3",
   "version": "3.11.11"
  }
 },
 "nbformat": 4,
 "nbformat_minor": 5
}
