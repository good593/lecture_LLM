{
 "cells": [
  {
   "cell_type": "markdown",
   "id": "7e0fad7b",
   "metadata": {},
   "source": [
    "# DeepSpeed 학습 가이드 (간소화)\n",
    "\n",
    "## DeepSpeed란 무엇인가?\n",
    "\n",
    "### 1. DeepSpeed의 개념\n",
    "DeepSpeed는 Microsoft에서 개발한 딥러닝 최적화 라이브러리입니다. 대규모 모델을 효율적으로 학습시키기 위해 만들어졌으며, 특히 LLM(Large Language Model) 학습에 매우 유용합니다.\n",
    "\n",
    "### 2. 왜 DeepSpeed가 필요한가?\n",
    "\n",
    "#### 문제 상황\n",
    "- 현대의 LLM은 수십억 개의 파라미터를 가집니다\n",
    "- 이런 큰 모델을 학습하려면 엄청난 GPU 메모리가 필요합니다\n",
    "- 일반적인 GPU 하나로는 메모리가 부족합니다\n",
    "- 학습 속도가 매우 느립니다\n",
    "\n",
    "#### DeepSpeed의 해결책\n",
    "DeepSpeed는 다음과 같은 기술들을 통해 이 문제들을 해결합니다:\n",
    "\n",
    "1. **메모리 최적화**: 모델의 다른 부분들을 여러 GPU에 나누어 저장\n",
    "2. **계산 최적화**: 병렬 처리를 통해 학습 속도 향상\n",
    "3. **통신 최적화**: GPU 간 데이터 전송을 효율화\n",
    "\n",
    "### 3. DeepSpeed의 주요 기능들\n",
    "\n",
    "#### ZeRO (Zero Redundancy Optimizer)\n",
    "- **ZeRO Stage 1**: 옵티마이저 상태를 여러 GPU에 분산\n",
    "- **ZeRO Stage 2**: 그래디언트도 여러 GPU에 분산\n",
    "- **ZeRO Stage 3**: 모델 파라미터까지 여러 GPU에 분산\n",
    "\n",
    "#### 3D Parallelism\n",
    "- **데이터 병렬**: 같은 모델을 여러 GPU에서 다른 데이터로 학습\n",
    "- **모델 병렬**: 모델 자체를 여러 GPU에 나누어 배치\n",
    "- **파이프라인 병렬**: 모델의 레이어들을 순차적으로 여러 GPU에 배치\n",
    "\n",
    "### 4. DeepSpeed vs 일반 학습 비교\n",
    "\n",
    "| 구분 | 일반 학습 | DeepSpeed |\n",
    "|------|-----------|-----------| \n",
    "| 메모리 사용량 | 높음 | 낮음 (최대 80% 절약) |\n",
    "| 학습 속도 | 느림 | 빠름 (여러 GPU 활용) |\n",
    "| 모델 크기 제한 | GPU 메모리에 의존 | 훨씬 큰 모델 가능 |\n",
    "| 설정 복잡도 | 간단 | 초기 설정 필요 |\n"
   ]
  },
  {
   "cell_type": "code",
   "execution_count": 1,
   "id": "ce42c5b2",
   "metadata": {},
   "outputs": [
    {
     "name": "stdout",
     "output_type": "stream",
     "text": [
      "Reading package lists... Done\n",
      "Building dependency tree... Done\n",
      "Reading state information... Done\n",
      "libopenmpi-dev is already the newest version (4.1.2-2ubuntu1).\n",
      "openmpi-bin is already the newest version (4.1.2-2ubuntu1).\n",
      "openmpi-common is already the newest version (4.1.2-2ubuntu1).\n",
      "0 upgraded, 0 newly installed, 0 to remove and 92 not upgraded.\n",
      "Requirement already satisfied: deepspeed in /usr/local/lib/python3.11/dist-packages (0.17.5)\n",
      "Requirement already satisfied: transformers in /usr/local/lib/python3.11/dist-packages (4.56.0)\n",
      "Requirement already satisfied: datasets in /usr/local/lib/python3.11/dist-packages (4.0.0)\n",
      "Requirement already satisfied: accelerate in /usr/local/lib/python3.11/dist-packages (1.10.1)\n",
      "Requirement already satisfied: mpi4py in /usr/local/lib/python3.11/dist-packages (4.1.0)\n",
      "Requirement already satisfied: einops in /usr/local/lib/python3.11/dist-packages (from deepspeed) (0.8.1)\n",
      "Requirement already satisfied: hjson in /usr/local/lib/python3.11/dist-packages (from deepspeed) (3.1.0)\n",
      "Requirement already satisfied: msgpack in /usr/local/lib/python3.11/dist-packages (from deepspeed) (1.1.1)\n",
      "Requirement already satisfied: ninja in /usr/local/lib/python3.11/dist-packages (from deepspeed) (1.13.0)\n",
      "Requirement already satisfied: numpy in /usr/local/lib/python3.11/dist-packages (from deepspeed) (2.1.2)\n",
      "Requirement already satisfied: packaging>=20.0 in /usr/local/lib/python3.11/dist-packages (from deepspeed) (24.2)\n",
      "Requirement already satisfied: psutil in /usr/local/lib/python3.11/dist-packages (from deepspeed) (7.0.0)\n",
      "Requirement already satisfied: py-cpuinfo in /usr/local/lib/python3.11/dist-packages (from deepspeed) (9.0.0)\n",
      "Requirement already satisfied: pydantic>=2.0.0 in /usr/local/lib/python3.11/dist-packages (from deepspeed) (2.11.7)\n",
      "Requirement already satisfied: torch in /usr/local/lib/python3.11/dist-packages (from deepspeed) (2.8.0.dev20250319+cu128)\n",
      "Requirement already satisfied: tqdm in /usr/local/lib/python3.11/dist-packages (from deepspeed) (4.67.1)\n",
      "Requirement already satisfied: nvidia-ml-py in /usr/local/lib/python3.11/dist-packages (from deepspeed) (13.580.65)\n",
      "Requirement already satisfied: filelock in /usr/local/lib/python3.11/dist-packages (from transformers) (3.16.1)\n",
      "Requirement already satisfied: huggingface-hub<1.0,>=0.34.0 in /usr/local/lib/python3.11/dist-packages (from transformers) (0.34.4)\n",
      "Requirement already satisfied: pyyaml>=5.1 in /usr/local/lib/python3.11/dist-packages (from transformers) (6.0.2)\n",
      "Requirement already satisfied: regex!=2019.12.17 in /usr/local/lib/python3.11/dist-packages (from transformers) (2025.9.1)\n",
      "Requirement already satisfied: requests in /usr/local/lib/python3.11/dist-packages (from transformers) (2.32.3)\n",
      "Requirement already satisfied: tokenizers<=0.23.0,>=0.22.0 in /usr/local/lib/python3.11/dist-packages (from transformers) (0.22.0)\n",
      "Requirement already satisfied: safetensors>=0.4.3 in /usr/local/lib/python3.11/dist-packages (from transformers) (0.6.2)\n",
      "Requirement already satisfied: pyarrow>=15.0.0 in /usr/local/lib/python3.11/dist-packages (from datasets) (21.0.0)\n",
      "Requirement already satisfied: dill<0.3.9,>=0.3.0 in /usr/local/lib/python3.11/dist-packages (from datasets) (0.3.8)\n",
      "Requirement already satisfied: pandas in /usr/local/lib/python3.11/dist-packages (from datasets) (2.3.2)\n",
      "Requirement already satisfied: xxhash in /usr/local/lib/python3.11/dist-packages (from datasets) (3.5.0)\n",
      "Requirement already satisfied: multiprocess<0.70.17 in /usr/local/lib/python3.11/dist-packages (from datasets) (0.70.16)\n",
      "Requirement already satisfied: fsspec<=2025.3.0,>=2023.1.0 in /usr/local/lib/python3.11/dist-packages (from fsspec[http]<=2025.3.0,>=2023.1.0->datasets) (2024.10.0)\n",
      "Requirement already satisfied: aiohttp!=4.0.0a0,!=4.0.0a1 in /usr/local/lib/python3.11/dist-packages (from fsspec[http]<=2025.3.0,>=2023.1.0->datasets) (3.12.15)\n",
      "Requirement already satisfied: typing-extensions>=3.7.4.3 in /usr/local/lib/python3.11/dist-packages (from huggingface-hub<1.0,>=0.34.0->transformers) (4.12.2)\n",
      "Requirement already satisfied: hf-xet<2.0.0,>=1.1.3 in /usr/local/lib/python3.11/dist-packages (from huggingface-hub<1.0,>=0.34.0->transformers) (1.1.9)\n",
      "Requirement already satisfied: annotated-types>=0.6.0 in /usr/local/lib/python3.11/dist-packages (from pydantic>=2.0.0->deepspeed) (0.7.0)\n",
      "Requirement already satisfied: pydantic-core==2.33.2 in /usr/local/lib/python3.11/dist-packages (from pydantic>=2.0.0->deepspeed) (2.33.2)\n",
      "Requirement already satisfied: typing-inspection>=0.4.0 in /usr/local/lib/python3.11/dist-packages (from pydantic>=2.0.0->deepspeed) (0.4.1)\n",
      "Requirement already satisfied: charset-normalizer<4,>=2 in /usr/local/lib/python3.11/dist-packages (from requests->transformers) (3.4.1)\n",
      "Requirement already satisfied: idna<4,>=2.5 in /usr/local/lib/python3.11/dist-packages (from requests->transformers) (3.10)\n",
      "Requirement already satisfied: urllib3<3,>=1.21.1 in /usr/local/lib/python3.11/dist-packages (from requests->transformers) (2.3.0)\n",
      "Requirement already satisfied: certifi>=2017.4.17 in /usr/local/lib/python3.11/dist-packages (from requests->transformers) (2025.1.31)\n",
      "Requirement already satisfied: sympy>=1.13.3 in /usr/local/lib/python3.11/dist-packages (from torch->deepspeed) (1.13.3)\n",
      "Requirement already satisfied: networkx in /usr/local/lib/python3.11/dist-packages (from torch->deepspeed) (3.4.2)\n",
      "Requirement already satisfied: jinja2 in /usr/local/lib/python3.11/dist-packages (from torch->deepspeed) (3.1.4)\n",
      "Requirement already satisfied: nvidia-cuda-nvrtc-cu12==12.8.61 in /usr/local/lib/python3.11/dist-packages (from torch->deepspeed) (12.8.61)\n",
      "Requirement already satisfied: nvidia-cuda-runtime-cu12==12.8.57 in /usr/local/lib/python3.11/dist-packages (from torch->deepspeed) (12.8.57)\n",
      "Requirement already satisfied: nvidia-cuda-cupti-cu12==12.8.57 in /usr/local/lib/python3.11/dist-packages (from torch->deepspeed) (12.8.57)\n",
      "Requirement already satisfied: nvidia-cudnn-cu12==9.8.0.87 in /usr/local/lib/python3.11/dist-packages (from torch->deepspeed) (9.8.0.87)\n",
      "Requirement already satisfied: nvidia-cublas-cu12==12.8.3.14 in /usr/local/lib/python3.11/dist-packages (from torch->deepspeed) (12.8.3.14)\n",
      "Requirement already satisfied: nvidia-cufft-cu12==11.3.3.41 in /usr/local/lib/python3.11/dist-packages (from torch->deepspeed) (11.3.3.41)\n",
      "Requirement already satisfied: nvidia-curand-cu12==10.3.9.55 in /usr/local/lib/python3.11/dist-packages (from torch->deepspeed) (10.3.9.55)\n",
      "Requirement already satisfied: nvidia-cusolver-cu12==11.7.2.55 in /usr/local/lib/python3.11/dist-packages (from torch->deepspeed) (11.7.2.55)\n",
      "Requirement already satisfied: nvidia-cusparse-cu12==12.5.7.53 in /usr/local/lib/python3.11/dist-packages (from torch->deepspeed) (12.5.7.53)\n",
      "Requirement already satisfied: nvidia-cusparselt-cu12==0.6.3 in /usr/local/lib/python3.11/dist-packages (from torch->deepspeed) (0.6.3)\n",
      "Requirement already satisfied: nvidia-nccl-cu12==2.25.1 in /usr/local/lib/python3.11/dist-packages (from torch->deepspeed) (2.25.1)\n",
      "Requirement already satisfied: nvidia-nvtx-cu12==12.8.55 in /usr/local/lib/python3.11/dist-packages (from torch->deepspeed) (12.8.55)\n",
      "Requirement already satisfied: nvidia-nvjitlink-cu12==12.8.61 in /usr/local/lib/python3.11/dist-packages (from torch->deepspeed) (12.8.61)\n",
      "Requirement already satisfied: nvidia-cufile-cu12==1.13.0.11 in /usr/local/lib/python3.11/dist-packages (from torch->deepspeed) (1.13.0.11)\n",
      "Requirement already satisfied: pytorch-triton==3.3.0+git96316ce5 in /usr/local/lib/python3.11/dist-packages (from torch->deepspeed) (3.3.0+git96316ce5)\n",
      "Requirement already satisfied: setuptools>=40.8.0 in /usr/local/lib/python3.11/dist-packages (from pytorch-triton==3.3.0+git96316ce5->torch->deepspeed) (77.0.1)\n",
      "Requirement already satisfied: python-dateutil>=2.8.2 in /usr/local/lib/python3.11/dist-packages (from pandas->datasets) (2.9.0.post0)\n",
      "Requirement already satisfied: pytz>=2020.1 in /usr/local/lib/python3.11/dist-packages (from pandas->datasets) (2025.2)\n",
      "Requirement already satisfied: tzdata>=2022.7 in /usr/local/lib/python3.11/dist-packages (from pandas->datasets) (2025.2)\n",
      "Requirement already satisfied: aiohappyeyeballs>=2.5.0 in /usr/local/lib/python3.11/dist-packages (from aiohttp!=4.0.0a0,!=4.0.0a1->fsspec[http]<=2025.3.0,>=2023.1.0->datasets) (2.6.1)\n",
      "Requirement already satisfied: aiosignal>=1.4.0 in /usr/local/lib/python3.11/dist-packages (from aiohttp!=4.0.0a0,!=4.0.0a1->fsspec[http]<=2025.3.0,>=2023.1.0->datasets) (1.4.0)\n",
      "Requirement already satisfied: attrs>=17.3.0 in /usr/local/lib/python3.11/dist-packages (from aiohttp!=4.0.0a0,!=4.0.0a1->fsspec[http]<=2025.3.0,>=2023.1.0->datasets) (25.3.0)\n",
      "Requirement already satisfied: frozenlist>=1.1.1 in /usr/local/lib/python3.11/dist-packages (from aiohttp!=4.0.0a0,!=4.0.0a1->fsspec[http]<=2025.3.0,>=2023.1.0->datasets) (1.7.0)\n",
      "Requirement already satisfied: multidict<7.0,>=4.5 in /usr/local/lib/python3.11/dist-packages (from aiohttp!=4.0.0a0,!=4.0.0a1->fsspec[http]<=2025.3.0,>=2023.1.0->datasets) (6.6.4)\n",
      "Requirement already satisfied: propcache>=0.2.0 in /usr/local/lib/python3.11/dist-packages (from aiohttp!=4.0.0a0,!=4.0.0a1->fsspec[http]<=2025.3.0,>=2023.1.0->datasets) (0.3.2)\n",
      "Requirement already satisfied: yarl<2.0,>=1.17.0 in /usr/local/lib/python3.11/dist-packages (from aiohttp!=4.0.0a0,!=4.0.0a1->fsspec[http]<=2025.3.0,>=2023.1.0->datasets) (1.20.1)\n",
      "Requirement already satisfied: six>=1.5 in /usr/lib/python3/dist-packages (from python-dateutil>=2.8.2->pandas->datasets) (1.16.0)\n",
      "Requirement already satisfied: mpmath<1.4,>=1.1.0 in /usr/local/lib/python3.11/dist-packages (from sympy>=1.13.3->torch->deepspeed) (1.3.0)\n",
      "Requirement already satisfied: MarkupSafe>=2.0 in /usr/local/lib/python3.11/dist-packages (from jinja2->torch->deepspeed) (2.1.5)\n",
      "\u001b[33mWARNING: Running pip as the 'root' user can result in broken permissions and conflicting behaviour with the system package manager, possibly rendering your system unusable. It is recommended to use a virtual environment instead: https://pip.pypa.io/warnings/venv. Use the --root-user-action option if you know what you are doing and want to suppress this warning.\u001b[0m\u001b[33m\n",
      "\u001b[0m\n",
      "\u001b[1m[\u001b[0m\u001b[34;49mnotice\u001b[0m\u001b[1;39;49m]\u001b[0m\u001b[39;49m A new release of pip is available: \u001b[0m\u001b[31;49m25.0.1\u001b[0m\u001b[39;49m -> \u001b[0m\u001b[32;49m25.2\u001b[0m\n",
      "\u001b[1m[\u001b[0m\u001b[34;49mnotice\u001b[0m\u001b[1;39;49m]\u001b[0m\u001b[39;49m To update, run: \u001b[0m\u001b[32;49mpython -m pip install --upgrade pip\u001b[0m\n",
      "/usr/bin/mpirun\n",
      "mpirun (Open MPI) 4.1.2\n",
      "\n",
      "Report bugs to http://www.open-mpi.org/community/help/\n",
      "라이브러리 설치가 완료되었습니다!\n"
     ]
    }
   ],
   "source": [
    "# 1단계: 필요한 라이브러리 설치\n",
    "# MPI 라이브러리 설치 (DeepSpeed 오류 해결용)\n",
    "!apt-get update -qq\n",
    "!apt-get install -y openmpi-bin openmpi-common libopenmpi-dev\n",
    "\n",
    "# Python 패키지 설치\n",
    "!pip install deepspeed transformers datasets accelerate mpi4py\n",
    "\n",
    "# MPI 설치 확인\n",
    "!which mpirun\n",
    "!mpirun --version\n",
    "\n",
    "print(\"라이브러리 설치가 완료되었습니다!\")\n"
   ]
  },
  {
   "cell_type": "code",
   "execution_count": 2,
   "id": "4c92d3b7",
   "metadata": {},
   "outputs": [
    {
     "name": "stdout",
     "output_type": "stream",
     "text": [
      "모든 라이브러리가 성공적으로 임포트되었습니다!\n",
      "PyTorch 버전: 2.8.0.dev20250319+cu128\n",
      "CUDA 사용 가능: True\n"
     ]
    }
   ],
   "source": [
    "# 2단계: 라이브러리 임포트\n",
    "import torch\n",
    "import torch.nn as nn\n",
    "from transformers import (\n",
    "    AutoTokenizer, \n",
    "    AutoModelForCausalLM, \n",
    "    TrainingArguments, \n",
    "    Trainer,\n",
    "    DataCollatorForLanguageModeling\n",
    ")\n",
    "from datasets import Dataset\n",
    "import json\n",
    "import os\n",
    "\n",
    "print(\"모든 라이브러리가 성공적으로 임포트되었습니다!\")\n",
    "print(f\"PyTorch 버전: {torch.__version__}\")\n",
    "print(f\"CUDA 사용 가능: {torch.cuda.is_available()}\")\n"
   ]
  },
  {
   "cell_type": "code",
   "execution_count": 3,
   "id": "53f47317",
   "metadata": {},
   "outputs": [
    {
     "name": "stdout",
     "output_type": "stream",
     "text": [
      "한국어 모델을 로드합니다...\n"
     ]
    },
    {
     "data": {
      "application/vnd.jupyter.widget-view+json": {
       "model_id": "e245a0c7ce544ab3af3dbfca722b5482",
       "version_major": 2,
       "version_minor": 0
      },
      "text/plain": [
       "Loading checkpoint shards:   0%|          | 0/3 [00:00<?, ?it/s]"
      ]
     },
     "metadata": {},
     "output_type": "display_data"
    },
    {
     "name": "stdout",
     "output_type": "stream",
     "text": [
      "모델이 GPU로 이동: cuda:0\n",
      "한국어 모델 로드 완료!\n",
      "모델 파라미터 수: 1,331,810,304\n"
     ]
    }
   ],
   "source": [
    "# 3단계: 한국어 모델과 토크나이저 로드 (device_map 없이)\n",
    "print(\"한국어 모델을 로드합니다...\")\n",
    "\n",
    "# 한국어 특화 모델 선택\n",
    "model_name = \"EleutherAI/polyglot-ko-1.3b\"  # 1.3B 파라미터\n",
    "\n",
    "try:\n",
    "    # 토크나이저 로드\n",
    "    tokenizer = AutoTokenizer.from_pretrained(model_name)\n",
    "    if tokenizer.pad_token is None:\n",
    "        tokenizer.pad_token = tokenizer.eos_token\n",
    "    \n",
    "    # 모델 로드 (device_map 사용 안함 - DeepSpeed 호환)\n",
    "    model = AutoModelForCausalLM.from_pretrained(\n",
    "        model_name,\n",
    "        dtype=torch.float16,\n",
    "        trust_remote_code=True\n",
    "    )\n",
    "    \n",
    "    # GPU로 이동\n",
    "    if torch.cuda.is_available():\n",
    "        model = model.cuda()\n",
    "        print(f\"모델이 GPU로 이동: {next(model.parameters()).device}\")\n",
    "    \n",
    "    print(\"한국어 모델 로드 완료!\")\n",
    "    print(f\"모델 파라미터 수: {model.num_parameters():,}\")\n",
    "    \n",
    "except Exception as e:\n",
    "    print(f\"한국어 모델 로드 실패: {e}\")\n",
    "    print(\"GPT-2 모델을 대안으로 사용합니다...\")\n",
    "    \n",
    "    model_name = \"gpt2\"\n",
    "    tokenizer = AutoTokenizer.from_pretrained(model_name)\n",
    "    if tokenizer.pad_token is None:\n",
    "        tokenizer.pad_token = tokenizer.eos_token\n",
    "        \n",
    "    model = AutoModelForCausalLM.from_pretrained(\n",
    "        model_name,\n",
    "        dtype=torch.float16\n",
    "    )\n",
    "    \n",
    "    if torch.cuda.is_available():\n",
    "        model = model.cuda()\n",
    "    \n",
    "    print(\"GPT-2 모델로 설정 완료!\")\n"
   ]
  },
  {
   "cell_type": "code",
   "execution_count": 4,
   "id": "e58d90e6",
   "metadata": {},
   "outputs": [
    {
     "name": "stdout",
     "output_type": "stream",
     "text": [
      "총 한국어 학습 텍스트 수: 8\n"
     ]
    },
    {
     "data": {
      "application/vnd.jupyter.widget-view+json": {
       "model_id": "b42b0266edf645299aba6347008dbf4c",
       "version_major": 2,
       "version_minor": 0
      },
      "text/plain": [
       "Map:   0%|          | 0/8 [00:00<?, ? examples/s]"
      ]
     },
     "metadata": {},
     "output_type": "display_data"
    },
    {
     "name": "stdout",
     "output_type": "stream",
     "text": [
      "학습 데이터셋 크기: 8\n"
     ]
    }
   ],
   "source": [
    "# 4단계: 한국어 학습 데이터 준비\n",
    "korean_texts = [\n",
    "    \"인공지능은 우리 일상을 변화시키는 혁신적인 기술입니다. 스마트폰의 음성인식부터 자율주행차까지 다양한 분야에서 활용되고 있습니다.\",\n",
    "    \"딥러닝은 인간의 뇌 구조를 모방한 신경망 기술로, 복잡한 패턴 인식과 학습이 가능합니다. 이미지 인식, 자연어 처리 등에서 놀라운 성과를 보여주고 있습니다.\",\n",
    "    \"자연어 처리는 컴퓨터가 인간의 언어를 이해하고 생성할 수 있게 하는 기술입니다. 번역, 요약, 질문답변 등 다양한 언어 작업을 자동화할 수 있습니다.\",\n",
    "    \"트랜스포머 아키텍처는 현대 자연어 처리의 핵심 기술입니다. 어텐션 메커니즘을 통해 문맥 정보를 효과적으로 처리할 수 있습니다.\",\n",
    "    \"파인튜닝은 사전 훈련된 모델을 특정 작업에 맞게 조정하는 과정입니다. 적은 데이터로도 높은 성능을 달성할 수 있는 효율적인 방법입니다.\",\n",
    "    \"한국의 사계절은 각각 독특한 아름다움을 가지고 있습니다. 봄의 벚꽃, 여름의 녹음, 가을의 단풍, 겨울의 설경이 모두 매력적입니다.\",\n",
    "    \"한국 음식은 발효 문화를 바탕으로 한 건강한 식문화를 자랑합니다. 김치, 된장, 고추장 등은 세계적으로 인정받는 발효식품입니다.\",\n",
    "    \"K-팝과 K-드라마는 한류의 중심으로 전 세계에 한국 문화를 알리고 있습니다. 음악과 영상 콘텐츠의 품질이 매우 높습니다.\"\n",
    "]\n",
    "\n",
    "print(f\"총 한국어 학습 텍스트 수: {len(korean_texts)}\")\n",
    "\n",
    "# 텍스트 토큰화\n",
    "def tokenize_function(examples):\n",
    "    tokenized = tokenizer(\n",
    "        examples[\"text\"],\n",
    "        truncation=True,\n",
    "        padding=\"max_length\",\n",
    "        max_length=128,\n",
    "        return_tensors=\"pt\"\n",
    "    )\n",
    "    tokenized[\"labels\"] = tokenized[\"input_ids\"].clone()\n",
    "    return tokenized\n",
    "\n",
    "# 데이터셋 생성\n",
    "train_dataset = Dataset.from_dict({\"text\": korean_texts})\n",
    "train_dataset = train_dataset.map(\n",
    "    tokenize_function,\n",
    "    batched=True,\n",
    "    remove_columns=[\"text\"]\n",
    ")\n",
    "\n",
    "print(f\"학습 데이터셋 크기: {len(train_dataset)}\")\n"
   ]
  },
  {
   "cell_type": "code",
   "execution_count": 5,
   "id": "29b19a99",
   "metadata": {},
   "outputs": [
    {
     "name": "stdout",
     "output_type": "stream",
     "text": [
      "간단한 설정으로 학습을 시작합니다...\n",
      "==================================================\n",
      "[2025-09-03 10:58:13,696] [INFO] [real_accelerator.py:260:get_accelerator] Setting ds_accelerator to cuda (auto detect)\n"
     ]
    },
    {
     "name": "stderr",
     "output_type": "stream",
     "text": [
      "/usr/bin/ld: cannot find -laio: No such file or directory\n",
      "collect2: error: ld returned 1 exit status\n",
      "/usr/bin/ld: cannot find -laio: No such file or directory\n",
      "collect2: error: ld returned 1 exit status\n"
     ]
    },
    {
     "name": "stdout",
     "output_type": "stream",
     "text": [
      "[2025-09-03 10:58:15,335] [INFO] [logging.py:107:log_dist] [Rank -1] [TorchCheckpointEngine] Initialized with serialization = False\n"
     ]
    },
    {
     "name": "stderr",
     "output_type": "stream",
     "text": [
      "The tokenizer has new PAD/BOS/EOS tokens that differ from the model config and generation config. The model config and generation config were aligned accordingly, being updated with the tokenizer's values. Updated tokens: {'bos_token_id': None, 'pad_token_id': 2}.\n"
     ]
    },
    {
     "name": "stdout",
     "output_type": "stream",
     "text": [
      "학습 전 GPU 메모리: 2541.23 MB\n",
      "학습을 시작합니다...\n"
     ]
    },
    {
     "data": {
      "text/html": [
       "\n",
       "    <div>\n",
       "      \n",
       "      <progress value='1' max='1' style='width:300px; height:20px; vertical-align: middle;'></progress>\n",
       "      [1/1 00:22, Epoch 1/1]\n",
       "    </div>\n",
       "    <table border=\"1\" class=\"dataframe\">\n",
       "  <thead>\n",
       " <tr style=\"text-align: left;\">\n",
       "      <th>Step</th>\n",
       "      <th>Training Loss</th>\n",
       "    </tr>\n",
       "  </thead>\n",
       "  <tbody>\n",
       "    <tr>\n",
       "      <td>1</td>\n",
       "      <td>1.074900</td>\n",
       "    </tr>\n",
       "  </tbody>\n",
       "</table><p>"
      ],
      "text/plain": [
       "<IPython.core.display.HTML object>"
      ]
     },
     "metadata": {},
     "output_type": "display_data"
    },
    {
     "name": "stdout",
     "output_type": "stream",
     "text": [
      "==================================================\n",
      "✅ 학습이 성공적으로 완료되었습니다!\n",
      "학습 후 GPU 메모리: 7640.07 MB\n"
     ]
    }
   ],
   "source": [
    "# 5단계: 간단한 학습 실행 (DeepSpeed 대신 일반 Trainer 사용)\n",
    "print(\"간단한 설정으로 학습을 시작합니다...\")\n",
    "print(\"=\" * 50)\n",
    "\n",
    "# 간단한 TrainingArguments\n",
    "training_args = TrainingArguments(\n",
    "    output_dir=\"./simple_output\",\n",
    "    num_train_epochs=1,\n",
    "    per_device_train_batch_size=2,\n",
    "    gradient_accumulation_steps=2,\n",
    "    save_steps=10,\n",
    "    logging_steps=1,\n",
    "    learning_rate=5e-5,\n",
    "    warmup_steps=1,\n",
    "    weight_decay=0.01,\n",
    "    fp16=True,\n",
    "    dataloader_num_workers=0,\n",
    "    remove_unused_columns=False,\n",
    "    report_to=None,\n",
    ")\n",
    "\n",
    "# 데이터 콜레이터\n",
    "data_collator = DataCollatorForLanguageModeling(\n",
    "    tokenizer=tokenizer,\n",
    "    mlm=False,\n",
    ")\n",
    "\n",
    "# Trainer 생성\n",
    "trainer = Trainer(\n",
    "    model=model,\n",
    "    args=training_args,\n",
    "    train_dataset=train_dataset,\n",
    "    data_collator=data_collator,\n",
    "    processing_class=tokenizer,\n",
    ")\n",
    "\n",
    "# 학습 전 메모리 확인\n",
    "if torch.cuda.is_available():\n",
    "    print(f\"학습 전 GPU 메모리: {torch.cuda.memory_allocated() / 1024**2:.2f} MB\")\n",
    "\n",
    "# 학습 실행\n",
    "try:\n",
    "    print(\"학습을 시작합니다...\")\n",
    "    trainer.train()\n",
    "    \n",
    "    print(\"=\" * 50)\n",
    "    print(\"✅ 학습이 성공적으로 완료되었습니다!\")\n",
    "    \n",
    "    if torch.cuda.is_available():\n",
    "        print(f\"학습 후 GPU 메모리: {torch.cuda.memory_allocated() / 1024**2:.2f} MB\")\n",
    "        \n",
    "except Exception as e:\n",
    "    print(f\"❌ 학습 실패: {e}\")\n",
    "    import traceback\n",
    "    traceback.print_exc()\n"
   ]
  },
  {
   "cell_type": "code",
   "execution_count": 6,
   "id": "317ade16",
   "metadata": {},
   "outputs": [
    {
     "name": "stderr",
     "output_type": "stream",
     "text": [
      "The attention mask is not set and cannot be inferred from input because pad token is same as eos token. As a consequence, you may observe unexpected behavior. Please pass your input's `attention_mask` to obtain reliable results.\n"
     ]
    },
    {
     "name": "stdout",
     "output_type": "stream",
     "text": [
      "학습된 모델을 테스트합니다...\n",
      "==================================================\n",
      "\n",
      "테스트 1: '인공지능은'\n",
      "생성 결과: 인공지능은 미래의 인류를 어떻게 바꿀 것인가? - 1부 : 4차 산업혁명의 시작, 인공지능의 미래 - 2부: 인공지능, 인간지능의 확장 - 3부-4부 - 5부 인공지능이 인간의 일자리를 빼앗는가? 인간이 인공지능에게 일자리 빼앗길까? 인공지능 시대의 새로운 일자리, 4가지\n",
      "\n",
      "테스트 2: '한국의 전통문화는'\n",
      "생성 결과: 한국의 전통문화는 유교의 정신문화이다. 유교는 모든 사람이 평등하다고 가르치고 있다”며 “우리는 이러한 유교를 계승하고 발전시켜 나가야 한다”고 강조했다(『한국유교의 이해』, p.14). 그는 또 “유교도 유교지만 유교에서 말하는\n",
      "\n",
      "테스트 3: '딥러닝 기술의 미래는'\n",
      "생성 결과: 딥러닝 기술의 미래는?​- AI는 인간의 학습능력과 추론능력, 지각능력을 기계적 알고리즘으로 구현한 기술.- 인간이 할 수 없는 일을 AI가 대신함으로써 인간은 더 많은 시간을 자유롭게 사용할 수 있고, 그로 인한 경제적, 사회적 발전\n",
      "\n",
      "==================================================\n",
      "🎉 한국어 모델 파인튜닝 완료!\n",
      "\n",
      "배운 내용:\n",
      "1. DeepSpeed 없이도 효과적인 파인튜닝 가능\n",
      "2. device_map 문제 해결 방법\n",
      "3. 한국어 모델 사용법\n",
      "4. 실용적인 학습 설정\n"
     ]
    }
   ],
   "source": [
    "# 6단계: 학습된 모델 테스트\n",
    "print(\"학습된 모델을 테스트합니다...\")\n",
    "print(\"=\" * 50)\n",
    "\n",
    "# 한국어 테스트 프롬프트들\n",
    "test_prompts = [\n",
    "    \"인공지능은\",\n",
    "    \"한국의 전통문화는\",\n",
    "    \"딥러닝 기술의 미래는\"\n",
    "]\n",
    "\n",
    "# 각 프롬프트에 대해 텍스트 생성\n",
    "for i, prompt in enumerate(test_prompts, 1):\n",
    "    print(f\"\\n테스트 {i}: '{prompt}'\")\n",
    "    \n",
    "    try:\n",
    "        # 입력 토큰화\n",
    "        inputs = tokenizer.encode(prompt, return_tensors=\"pt\")\n",
    "        \n",
    "        if torch.cuda.is_available():\n",
    "            inputs = inputs.cuda()\n",
    "        \n",
    "        # 텍스트 생성\n",
    "        with torch.no_grad():\n",
    "            outputs = model.generate(\n",
    "                inputs,\n",
    "                max_length=70,\n",
    "                num_return_sequences=1,\n",
    "                temperature=0.7,\n",
    "                pad_token_id=tokenizer.eos_token_id,\n",
    "                do_sample=True,\n",
    "                top_p=0.9,\n",
    "                no_repeat_ngram_size=2\n",
    "            )\n",
    "        \n",
    "        # 생성된 텍스트 디코딩\n",
    "        generated_text = tokenizer.decode(outputs[0], skip_special_tokens=True)\n",
    "        print(f\"생성 결과: {generated_text}\")\n",
    "        \n",
    "    except Exception as e:\n",
    "        print(f\"생성 실패: {e}\")\n",
    "\n",
    "print(\"\\n\" + \"=\" * 50)\n",
    "print(\"🎉 한국어 모델 파인튜닝 완료!\")\n",
    "print(\"\\n배운 내용:\")\n",
    "print(\"1. DeepSpeed 없이도 효과적인 파인튜닝 가능\")\n",
    "print(\"2. device_map 문제 해결 방법\")\n",
    "print(\"3. 한국어 모델 사용법\")\n",
    "print(\"4. 실용적인 학습 설정\")\n"
   ]
  },
  {
   "cell_type": "code",
   "execution_count": 7,
   "id": "ed645229",
   "metadata": {},
   "outputs": [
    {
     "name": "stdout",
     "output_type": "stream",
     "text": [
      "학습된 모델을 저장합니다...\n",
      "✅ 모델이 성공적으로 저장되었습니다!\n",
      "저장 위치: ./finetuned_korean_model\n",
      "\n",
      "파인튜닝 실습이 완료되었습니다! 🎉\n"
     ]
    }
   ],
   "source": [
    "# 7단계: 모델 저장\n",
    "print(\"학습된 모델을 저장합니다...\")\n",
    "\n",
    "try:\n",
    "    # 모델과 토크나이저 저장\n",
    "    model.save_pretrained(\"./finetuned_korean_model\")\n",
    "    tokenizer.save_pretrained(\"./finetuned_korean_model\")\n",
    "    \n",
    "    print(\"✅ 모델이 성공적으로 저장되었습니다!\")\n",
    "    print(\"저장 위치: ./finetuned_korean_model\")\n",
    "    \n",
    "except Exception as e:\n",
    "    print(f\"❌ 모델 저장 실패: {e}\")\n",
    "    \n",
    "print(\"\\n파인튜닝 실습이 완료되었습니다! 🎉\")\n"
   ]
  }
 ],
 "metadata": {
  "kernelspec": {
   "display_name": "Python 3 (ipykernel)",
   "language": "python",
   "name": "python3"
  },
  "language_info": {
   "codemirror_mode": {
    "name": "ipython",
    "version": 3
   },
   "file_extension": ".py",
   "mimetype": "text/x-python",
   "name": "python",
   "nbconvert_exporter": "python",
   "pygments_lexer": "ipython3",
   "version": "3.11.11"
  }
 },
 "nbformat": 4,
 "nbformat_minor": 5
}
