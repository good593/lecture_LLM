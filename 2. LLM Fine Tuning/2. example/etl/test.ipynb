{
 "cells": [
  {
   "cell_type": "code",
   "execution_count": 1,
   "metadata": {},
   "outputs": [],
   "source": [
    "playlist_urls = [\n",
    "  {\n",
    "    \"playlist_title\":\"성장\", \"url\":\"https://www.youtube.com/watch?v=YPDyVT40488&list=PLC6Msm1YCNw892FwF3SrlxsHt_rOvRGrK\"\n",
    "  },\n",
    "  {\n",
    "    \"playlist_title\":\"코로나\", \"url\":\"https://www.youtube.com/watch?v=XmZOO_u9Eto&list=PLC6Msm1YCNw9k5lYbOukDNw2GwQGtkO0D\"\n",
    "  },\n",
    "  {\n",
    "    \"playlist_title\":\"임신\", \"url\":\"https://www.youtube.com/watch?v=1i5GuWLdciY&list=PLC6Msm1YCNw_jM0vlYaJ5F3PgTdTZClnk\"\n",
    "  },\n",
    "  {\n",
    "    \"playlist_title\":\"훈육\", \"url\":\"https://www.youtube.com/watch?v=8Vn9JZgYy6Y&list=PLC6Msm1YCNw9DVDVvpnfIsI72QOPVaI95\"\n",
    "  },\n",
    "  {\n",
    "    \"playlist_title\":\"영양\", \"url\":\"https://www.youtube.com/watch?v=-LqEr-PlCz0&list=PLC6Msm1YCNw8LtglWOviWSMVd-33S_WHM\"\n",
    "  },\n",
    "  {\n",
    "    \"playlist_title\":\"이유식\", \"url\":\"https://www.youtube.com/watch?v=E0LJrRpRZaw&list=PLC6Msm1YCNw8jqPp_oNUXqDKCE-hcJ0bP\"\n",
    "  },\n",
    "  {\n",
    "    \"playlist_title\":\"모유\", \"url\":\"https://www.youtube.com/watch?v=5pvEghEGy6k&list=PLC6Msm1YCNw9iwHvFgx6Ny9rUu3DAO_6W\"\n",
    "  },\n",
    "  {\n",
    "    \"playlist_title\":\"수면\", \"url\":\"https://www.youtube.com/watch?v=JGoDoK1bZ0A&list=PLC6Msm1YCNw8qIw6d4eFopBkVR3onyrvk\"\n",
    "  },\n",
    "  {\n",
    "    \"playlist_title\":\"질병\", \"url\":\"https://www.youtube.com/watch?v=8GwNlF44ntY&list=PLC6Msm1YCNw-NJBk4ajBkTeS2rJULiT1b\"\n",
    "  },\n",
    "  {\n",
    "    \"playlist_title\":\"안전\", \"url\":\"https://www.youtube.com/watch?v=YXa2Z7xDbmc&list=PLC6Msm1YCNw8KoZf9hn8b8NQ2ZFz1vJCj\"\n",
    "  },\n",
    "  {\n",
    "    \"playlist_title\":\"예방접종\", \"url\":\"https://www.youtube.com/watch?v=okGTkKCoci8&list=PLC6Msm1YCNw8NAb9-GZeH8pNcfvAM-BNT\"\n",
    "  },\n",
    "  {\n",
    "    \"playlist_title\":\"신생아\", \"url\":\"https://www.youtube.com/watch?v=bs1XLiIi9lM&list=PLC6Msm1YCNw93tRvEsLZEWg4wR28dUKnY\"\n",
    "  },\n",
    "  {\n",
    "    \"playlist_title\":\"육아\", \"url\":\"https://www.youtube.com/watch?v=GNqNeAA1SUM&list=PLC6Msm1YCNw9EVsOxjB988gf1-15qPoGp\"\n",
    "  }\n",
    "]"
   ]
  },
  {
   "cell_type": "code",
   "execution_count": null,
   "metadata": {},
   "outputs": [],
   "source": [
    "from common.download_youtube_info import main"
   ]
  },
  {
   "cell_type": "code",
   "execution_count": null,
   "metadata": {},
   "outputs": [],
   "source": [
    "main(playlist_urls)"
   ]
  },
  {
   "cell_type": "code",
   "execution_count": 1,
   "metadata": {},
   "outputs": [],
   "source": [
    "import pandas as pd "
   ]
  },
  {
   "cell_type": "code",
   "execution_count": 2,
   "metadata": {},
   "outputs": [
    {
     "data": {
      "text/html": [
       "<div>\n",
       "<style scoped>\n",
       "    .dataframe tbody tr th:only-of-type {\n",
       "        vertical-align: middle;\n",
       "    }\n",
       "\n",
       "    .dataframe tbody tr th {\n",
       "        vertical-align: top;\n",
       "    }\n",
       "\n",
       "    .dataframe thead th {\n",
       "        text-align: right;\n",
       "    }\n",
       "</style>\n",
       "<table border=\"1\" class=\"dataframe\">\n",
       "  <thead>\n",
       "    <tr style=\"text-align: right;\">\n",
       "      <th></th>\n",
       "      <th>video_url</th>\n",
       "      <th>video_id</th>\n",
       "      <th>title</th>\n",
       "      <th>channel</th>\n",
       "      <th>caption</th>\n",
       "    </tr>\n",
       "  </thead>\n",
       "  <tbody>\n",
       "    <tr>\n",
       "      <th>0</th>\n",
       "      <td>https://www.youtube.com/watch?v=YPDyVT40488&amp;li...</td>\n",
       "      <td>YPDyVT40488</td>\n",
       "      <td>#338  많이 먹는데도 몸무게 잘 안늘어나는 아이!  이거 먼저 확인하세요!  :...</td>\n",
       "      <td>하정훈의 삐뽀삐뽀 119 소아과 (삐뽀삐뽀 119 소아과)</td>\n",
       "      <td>안녕하세요 소아청소년과 전문의 하정훈 입니다 우리 아기는 잘 먹는데 몸무게가 잘 늘...</td>\n",
       "    </tr>\n",
       "    <tr>\n",
       "      <th>1</th>\n",
       "      <td>https://www.youtube.com/watch?v=YPDyVT40488</td>\n",
       "      <td>YPDyVT40488</td>\n",
       "      <td>#338  많이 먹는데도 몸무게 잘 안늘어나는 아이!  이거 먼저 확인하세요!  :...</td>\n",
       "      <td>하정훈의 삐뽀삐뽀 119 소아과 (삐뽀삐뽀 119 소아과)</td>\n",
       "      <td>안녕하세요 소아청소년과 전문의 하정훈 입니다 우리 아기는 잘 먹는데 몸무게가 잘 늘...</td>\n",
       "    </tr>\n",
       "    <tr>\n",
       "      <th>2</th>\n",
       "      <td>https://www.youtube.com/watch?v=eGD1vhqSmpk</td>\n",
       "      <td>eGD1vhqSmpk</td>\n",
       "      <td>#336  몸무게 잘 늘지 않는 아기!  분유 두돌까지 먹이면 도움이 될까?  소아...</td>\n",
       "      <td>하정훈의 삐뽀삐뽀 119 소아과 (삐뽀삐뽀 119 소아과)</td>\n",
       "      <td>안녕하세요 4층 소인까지 의문이다 종입니다 우리 아이가 몸무게가 잘 늘지 않는데 분...</td>\n",
       "    </tr>\n",
       "    <tr>\n",
       "      <th>3</th>\n",
       "      <td>https://www.youtube.com/watch?v=0rZ17lUQCKI</td>\n",
       "      <td>0rZ17lUQCKI</td>\n",
       "      <td>#376  작게 태어난 아기! 빨리 몸무게 늘여야 할까요? 50%는 되야할까요? :...</td>\n",
       "      <td>하정훈의 삐뽀삐뽀 119 소아과 (삐뽀삐뽀 119 소아과)</td>\n",
       "      <td>다른 아기들 보다 작게 태어난 아기 들이 있습니다 아이가 자케 태어나면 몸무게 빨리...</td>\n",
       "    </tr>\n",
       "    <tr>\n",
       "      <th>4</th>\n",
       "      <td>https://www.youtube.com/watch?v=bS4oRljRsf0</td>\n",
       "      <td>bS4oRljRsf0</td>\n",
       "      <td>#374 신생아 몸무게 증가에 대한 오해 하나! 이건 미리 알아두고 주의하세요: 소...</td>\n",
       "      <td>하정훈의 삐뽀삐뽀 119 소아과 (삐뽀삐뽀 119 소아과)</td>\n",
       "      <td>안녕하세요 소아청소년과 전문의 하정훈 입니다 간혹 신생아는 생후 2주 일까지 출생시...</td>\n",
       "    </tr>\n",
       "  </tbody>\n",
       "</table>\n",
       "</div>"
      ],
      "text/plain": [
       "                                           video_url     video_id  \\\n",
       "0  https://www.youtube.com/watch?v=YPDyVT40488&li...  YPDyVT40488   \n",
       "1        https://www.youtube.com/watch?v=YPDyVT40488  YPDyVT40488   \n",
       "2        https://www.youtube.com/watch?v=eGD1vhqSmpk  eGD1vhqSmpk   \n",
       "3        https://www.youtube.com/watch?v=0rZ17lUQCKI  0rZ17lUQCKI   \n",
       "4        https://www.youtube.com/watch?v=bS4oRljRsf0  bS4oRljRsf0   \n",
       "\n",
       "                                               title  \\\n",
       "0  #338  많이 먹는데도 몸무게 잘 안늘어나는 아이!  이거 먼저 확인하세요!  :...   \n",
       "1  #338  많이 먹는데도 몸무게 잘 안늘어나는 아이!  이거 먼저 확인하세요!  :...   \n",
       "2  #336  몸무게 잘 늘지 않는 아기!  분유 두돌까지 먹이면 도움이 될까?  소아...   \n",
       "3  #376  작게 태어난 아기! 빨리 몸무게 늘여야 할까요? 50%는 되야할까요? :...   \n",
       "4  #374 신생아 몸무게 증가에 대한 오해 하나! 이건 미리 알아두고 주의하세요: 소...   \n",
       "\n",
       "                            channel  \\\n",
       "0  하정훈의 삐뽀삐뽀 119 소아과 (삐뽀삐뽀 119 소아과)   \n",
       "1  하정훈의 삐뽀삐뽀 119 소아과 (삐뽀삐뽀 119 소아과)   \n",
       "2  하정훈의 삐뽀삐뽀 119 소아과 (삐뽀삐뽀 119 소아과)   \n",
       "3  하정훈의 삐뽀삐뽀 119 소아과 (삐뽀삐뽀 119 소아과)   \n",
       "4  하정훈의 삐뽀삐뽀 119 소아과 (삐뽀삐뽀 119 소아과)   \n",
       "\n",
       "                                             caption  \n",
       "0  안녕하세요 소아청소년과 전문의 하정훈 입니다 우리 아기는 잘 먹는데 몸무게가 잘 늘...  \n",
       "1  안녕하세요 소아청소년과 전문의 하정훈 입니다 우리 아기는 잘 먹는데 몸무게가 잘 늘...  \n",
       "2  안녕하세요 4층 소인까지 의문이다 종입니다 우리 아이가 몸무게가 잘 늘지 않는데 분...  \n",
       "3  다른 아기들 보다 작게 태어난 아기 들이 있습니다 아이가 자케 태어나면 몸무게 빨리...  \n",
       "4  안녕하세요 소아청소년과 전문의 하정훈 입니다 간혹 신생아는 생후 2주 일까지 출생시...  "
      ]
     },
     "execution_count": 2,
     "metadata": {},
     "output_type": "execute_result"
    }
   ],
   "source": [
    "df = pd.read_csv(\"./download/성장.csv\")\n",
    "df.head()"
   ]
  },
  {
   "cell_type": "code",
   "execution_count": 4,
   "metadata": {},
   "outputs": [
    {
     "data": {
      "text/plain": [
       "'안녕하세요 소아청소년과 전문의 하정훈 입니다 우리 아기는 잘 먹는데 몸무게가 잘 늘지 않는다고 화 서야 하는 부모들이 정종 있습니다 이거 해결 알고 인테 뒤지고 유튜브 다 찾아보시고 이런저런 방부 다 동원해 보지만 잘 해결되지 않는 경우가 많습니다 오늘은 많이 먹는다고 생각하는데 몸무게가 잘 늘지 않는 아이들을 가진 부모들이 소위 말은 솔로 신양 그 사기전에 미리 코빠 레의 할 내용들을 말씀드리겠습니다 [음악] 으 제일 먼저 알아두셔야 할것은 몸무게가 정말 잘 안내려 하는가 확인 하시라는 겁니다 몸무게가 잘 늘어나는 데 잘 안들어 한다고 생각하면 이건 첫 단추부터 잘못 끼운 셈이 되는 겁니다 몸무게가 잘 절을 한다는 기준은 반드시 출생시 몸무게 가 기준이 된다는 것 명심하셔야 됩니다 작게 태어나면 작게 자라는 것이 정상입니다 물론 50% 까지 따라가도 되지만 50% 를 따라가지 못한다고 몸무게가 잘 늘어나지 않는다 라고는 하지 않는다는 이야기입니다 실제로 몸무게가 잘 늘지 않는다는 아이들을 상담하다 보면 상당수가 출생 시에 비해서 몸무게가 지나치게 많이 나가는 경우입니다 다시 말하면 몸무게가 출생시 에 비해서 많이 나가는 데도 작다고 생각하는 경우인데 이런 경우는 솔루션이 전혀 다른 다는 말입니다 그 다음은 아기 몸무게 기능을 최신 성장 표를 기준으로 해야 한다는 겁니다 우리나라의 경우는 2017년 말에 성장 표를 개정해서 2018 년 전부터 본격적으로 사용하기 시작했습니다 그이 전주가 책이 있는 성향 표 뒤에 볼 때 어린 아기들 경우 작게는 맵 100g 에서부터 1kg 가까이 차이 나기 때문에 몸무게가 잘 늘고 있는데도 예전 성장 표를 보게 되면 아기 몸무게가 자전을 하지 않는 것처럼 볼 수 있다는 말입니다 그래서 성장 기준은 항상 최신 것을 사용해야 한다는 겁니다 다시 말하면 예전 승냥 표 를 사용하면 아기 몸무게가 제대로 늘고 있는데도 몸무게가 작게 내려가는 것처럼 착각이 생길 수 있다는 말입니다 그 다음은 아이가 정말 많이 무언가를 확인해 보시라는 겁니다 특히 20 먹는 아기의 경우는 일식을 너무 굵게 만들어 버리면 많이 먹어도 갈이가 부족해서 몸무게가 잘 늘지 않는 경우가 있습니다 묽게 많이 모이면 실제로는 많이 먹지 않는 것과 마찬가지라서 몸무게가 잘 늘지 않게 된다는 말입니다 그리고 아기는 적게 몸 들도 부모가 많이 먹는다고 착각하는 경우도 있습니다 아기 크기의 작다고 어른들보다 허진 적게 먹는 것은 아니라는 겁니다 간혹 부모들 중에는 아이가 먹는 양이 적은데 더 많이 먹는다는 생각에 음식을 조절하는 경우도 있는데 이런 경우는 시간이 갈수록 몸무게는 점점 더 안 나가게 될 겁니다 특히 먹는 것이 많이 부족한 경우 배고파서 자꾸 먹 어린아이 경우가 있습니다 이런데 어떤 부모들은 아이가 너무 많이 먹으려 한다고 착각하는 경우도 가능 있어 음식을 의도적으로 줄이는 경우도 있습니다 몸무게를 확인 하시고 몸무게가 작은데 너무 많이 먹으려 한다 고 생각되는 경우 지금 먹는 양이 적다고 생각하셔야 할겁니다 그리고 몸무게 이전과는 나이가 들면서 특히 돌이 지나면서 는 갑자기 몸무게 증가가 느려지는 것이 정상입니다 그래서 아기 몸무게 증가를 확인하고자 할 때는 주장을 마 한달에 얼마 이렇게 생각하는 것이 아니고요 나이에 따른 성냥 표의 몸무게 증가를 기준으로 몸무게가 제대로 놀 않은가 이것을 확인하는 것이 중요하다는 이야기입니다 우리 아이가 많이 먹는데 몸무게가 작게 나간다 고 생각되는 경우 이상 말씀 드린 것에 해당되는 것은 아닌가 먼저 확인하는 것이 웃음이란 거 꼭 알아두시기 바랍니다 으 [음악] 으 으 아 [음악] 아 아'"
      ]
     },
     "execution_count": 4,
     "metadata": {},
     "output_type": "execute_result"
    }
   ],
   "source": [
    "df.iloc[0]['caption']"
   ]
  },
  {
   "cell_type": "code",
   "execution_count": null,
   "metadata": {},
   "outputs": [],
   "source": []
  }
 ],
 "metadata": {
  "kernelspec": {
   "display_name": ".venv",
   "language": "python",
   "name": "python3"
  },
  "language_info": {
   "codemirror_mode": {
    "name": "ipython",
    "version": 3
   },
   "file_extension": ".py",
   "mimetype": "text/x-python",
   "name": "python",
   "nbconvert_exporter": "python",
   "pygments_lexer": "ipython3",
   "version": "3.12.9"
  }
 },
 "nbformat": 4,
 "nbformat_minor": 2
}
