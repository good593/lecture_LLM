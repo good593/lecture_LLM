{
 "cells": [
  {
   "cell_type": "code",
   "execution_count": 1,
   "metadata": {},
   "outputs": [],
   "source": [
    "import enum \n",
    "\n",
    "class OLLAMA_LLMs(enum.Enum):\n",
    "  gemma3 = (enum.auto(), \"gemma3:1b\")\n",
    "  gemma3_q8 = (enum.auto(), \"gemma3-q8\") \n",
    "  gemma3_1b = (enum.auto(), \"gemma3-1b\")\n",
    "  gemma3_diseases = (enum.auto(), \"gemma3-diseases\") "
   ]
  },
  {
   "cell_type": "code",
   "execution_count": 2,
   "metadata": {},
   "outputs": [
    {
     "data": {
      "text/plain": [
       "['gemma3', 'gemma3_q8', 'gemma3_1b', 'gemma3_diseases']"
      ]
     },
     "execution_count": 2,
     "metadata": {},
     "output_type": "execute_result"
    }
   ],
   "source": [
    "list(OLLAMA_LLMs.__members__)"
   ]
  },
  {
   "cell_type": "code",
   "execution_count": 1,
   "metadata": {},
   "outputs": [
    {
     "data": {
      "text/plain": [
       "True"
      ]
     },
     "execution_count": 1,
     "metadata": {},
     "output_type": "execute_result"
    }
   ],
   "source": [
    "from dotenv import load_dotenv \n",
    "\n",
    "load_dotenv()"
   ]
  },
  {
   "cell_type": "code",
   "execution_count": 2,
   "metadata": {},
   "outputs": [],
   "source": [
    "from common.rag.retriever import get_rag_result\n"
   ]
  },
  {
   "cell_type": "code",
   "execution_count": 3,
   "metadata": {},
   "outputs": [
    {
     "name": "stderr",
     "output_type": "stream",
     "text": [
      "2025-04-08 17:18:15.883 WARNING streamlit.runtime.scriptrunner_utils.script_run_context: Thread 'MainThread': missing ScriptRunContext! This warning can be ignored when running in bare mode.\n",
      "2025-04-08 17:18:16.436 \n",
      "  \u001b[33m\u001b[1mWarning:\u001b[0m to view this Streamlit app on a browser, run it with the following\n",
      "  command:\n",
      "\n",
      "    streamlit run c:\\dev\\llm_study\\web\\.venv\\Lib\\site-packages\\ipykernel_launcher.py [ARGUMENTS]\n",
      "2025-04-08 17:18:16.438 Thread 'MainThread': missing ScriptRunContext! This warning can be ignored when running in bare mode.\n",
      "2025-04-08 17:18:16.438 Thread 'MainThread': missing ScriptRunContext! This warning can be ignored when running in bare mode.\n",
      "2025-04-08 17:18:16.953 Thread 'Thread-8': missing ScriptRunContext! This warning can be ignored when running in bare mode.\n",
      "2025-04-08 17:18:16.954 Thread 'Thread-8': missing ScriptRunContext! This warning can be ignored when running in bare mode.\n",
      "2025-04-08 17:18:24.551 Thread 'MainThread': missing ScriptRunContext! This warning can be ignored when running in bare mode.\n",
      "2025-04-08 17:18:24.552 Thread 'MainThread': missing ScriptRunContext! This warning can be ignored when running in bare mode.\n",
      "2025-04-08 17:18:25.479 Thread 'MainThread': missing ScriptRunContext! This warning can be ignored when running in bare mode.\n",
      "2025-04-08 17:18:25.480 Thread 'MainThread': missing ScriptRunContext! This warning can be ignored when running in bare mode.\n",
      "2025-04-08 17:18:25.481 Thread 'MainThread': missing ScriptRunContext! This warning can be ignored when running in bare mode.\n",
      "2025-04-08 17:18:25.485 Thread 'MainThread': missing ScriptRunContext! This warning can be ignored when running in bare mode.\n",
      "2025-04-08 17:18:25.486 Thread 'MainThread': missing ScriptRunContext! This warning can be ignored when running in bare mode.\n"
     ]
    }
   ],
   "source": [
    "result = get_rag_result(\"아프다\")\n"
   ]
  },
  {
   "cell_type": "code",
   "execution_count": 4,
   "metadata": {},
   "outputs": [
    {
     "name": "stdout",
     "output_type": "stream",
     "text": [
      "\n",
      "    당신은 질문-답변(Question-Answering)을 수행하는 친절한 AI 어시스턴트입니다.\n",
      "    당신의 임무는 주어진 문맥(context) 에서 주어진 질문(question) 에 답하는 것입니다.\n",
      "    검색된 다음 문맥(context) 을 사용하여 질문(question) 에 답하세요.\n",
      "    만약, 주어진 문맥(context) 에서 답을 찾을 수 없다면, 답을 모른다면 `주어진 정보에서 질문에 대한 정보를 찾을 수 없습니다` 라고 답하세요.\n",
      "    한글로 답변해 주세요.\n",
      "    단, 기술적인 용어나 이름은 번역하지 않고 그대로 사용해 주세요.\n",
      "\n",
      "    #Context:\n",
      "    [Document(id='799e8140-c42b-405c-a8d2-2425f85206fd', metadata={'source': 'https://www.youtube.com/watch?v=oiq26QC3J-E', 'row': 105}, page_content='익은 않은 길 커요 연구조교 별로 권장하지 않습니다 저도 할 때 갈 때까지는 한글도 어릴때 가르치지 않은 것이었고 요 콜라가 금란은 병도 맞습니다만 이제는 어미 크로 화상과 더불어서 위험성이 더 많이 주는 것은 사실입니다 콜라가 겁난다 건너 뭉치를 되지 마시구요 입은 코라 피크 어느정도 지나가서 사회적 그리디 가 약간 완화되면기 발달의 정말 중요한 이 시기에이와 함께 집에서 2만 잊지 마시고요 친구와 유술 집으로 초대해서 라도 올리는 것을 노리는 것이 좋습니다 코라 시기는 사회적 글이 되기 때문에 다른 사람과 올리는 일상이 무너져 문제가 생긴 겁니다 일상이 무너져 생긴 문제는 일상을 복원하는 것이 제일 중요한 해법이 난거 꼭 알아두시고이와 함께 가족과 이웃과 친구 와 일상을 보호하기 위해서 노력 하시기 부탁드립니다'), Document(id='cf39ff0f-0d25-465d-8799-7016f086add9', metadata={'source': 'https://www.youtube.com/watch?v=__PCv93dKoE', 'row': 106}, page_content='고기를 물리지 않는 겉은 도움되지 않습니다 이런 삶도 책을 씁니다 기침 약을 먹는 중에도 우유 모 고되고 고기 먹어도 상관없습니다 푹 쉬기 하고 무리하지 않는 것이었습니다 잠도 리치 자고 푹 짜게 하는 것이 회복에 도움이 됩니다 관옥 기침을 주신다는 민간요법을 사용 하시는 경우도 있는데 이 역시 권장하지 않습니다 합병증이 생긴 경우나 다른 호흡기 질환이 생긴 경우는 병이 더 심해질 위험성도 있기 때문입니다 자극이 되니까 기침을 더 심하게 에서 이물감을 떨쳐 내려 가는이들도 있는데 기침 월드 심하게 하면 호흡기가 더 민감해져서 기침이 더 오래 더 심하게 할 수 있는 악순환 이 생길 수 있기 때문에 주의해야 됩니다 이름 경우는 따뜻한 물을 충분히 먹이는 것이 도움이 될 수 있습니다 코라 끝난 후 기침을 계속하는 경우 소아과 진료를 받는 것이 좋습니다 약을 먹는 도중 이라도 기침이 많이 심해지거나 기침할 때 피가 나오거나 가슴이프거나 숨이 찬 경우는 소아과 의사의 진료를 다시 받는 것이 좋습니다 곤란은 경 기간이 끝났다고 다 끝난 것은닙니다 기침이 오래갈 수도 있고 코라 이후 롱 코비 들어가보는 장기 합방 정도 점점 더 증가되고 있는 것이 현실입니다 다음 영상에서는 최근 점점 더 증가되고 있는이들의 넣은 컵에 대해서 좀 상세하게 설명을 드리겠습니다'), Document(id='5de5b55b-a3b0-4686-a2d1-2c9d1694a65a', metadata={'source': 'https://www.youtube.com/watch?v=ga5buDGcdGw', 'row': 68}, page_content='빈혈이 심해 더 잘 생길 수 있기 때문에 평소 거기가 채소를 잘 못 잊는 것이 좋습니다 그 다음은 스트레스 줄이기 입니다이가 받나 스트레스를 줄이기 위해서이와 가족의 상태를 잘 파악하고 긴장을 줄이는 것이 좋습니다 낮에 무서운 모습을 보거나 너무 화려한 것을 보는 경우도 깊은 잠을 다른 도중에 내 일부가 깨 있었기 때문에 피하는 것이 좋습니다 특히 야 경쟁이 심한 경우 부모도 잠을 잘 잘 수 없고 짜증이 날 수 있어 가족 간의 긴장이 더 높아지고 그럼 빠이 상태도 더 심히 있었기 때문에 부모가 느긋한 마음으로이를 떼어 하는 것이 좋습니다 하지만 다음에 께서 온다고 다 야경 집은닙니다 우리나라에서는이들이 담에 깨는 부모가 지으려고 반응을 하는 경우가 많은데 그럼 오히려이들은 더 깨 에서 놀고 나무 그려 하고 떼를 쓰는 경우가 많습니다 2 국가 야경 직원 구글 하셔야 됩니다 제일 중요한 차이는 야경 증거는 달리 달래 지거나 대화가 되거나 기억을 한다는 점입니다 물론 때가 심한 경우는 야경 증가 구매하기 힘든 경우도 있지만 기본적으로 부모가 어느 정도는 그 이유를 알고 있습니다 이런 경우는 부모가 나도 밤에 자야지 라는 생각을 가지고이 우는 거 금리 지 말고 최대한 담에 반응을 주력하는 것이 중요합니다 야경증 있다고 하신다면 일단 소화 청순과 의사의 진료를 받아야 합니다 드물지만 다른 병 때문에 야경이 생길 수도 있습니다 특히 고등학생 때 처럼 나이가 들어서야 교지 생기거나 양 행정이 심한 경우나 수 주 이상 연 뒤 시작되어서이와 가족을 일상이 문제가 되거나 소음으로 인해서 이웃 간에 문제가 발생하거나이나 부모의 사회생활에 지장을 받는 경우 의사의 상담과 치료가 필요한 경우도 있습니다 다음은 야경 점에 대해서 흔히 물어보시는 질문 드립니다 알아두시면 도움이 될겁니다 야경 점은 꿈 과 연관이 있을까요닙니다 양양 쯤은 깊은 잠을 잠 에서 생기는 것이기 때문에 얕은 잠에서 꾸는 꿈 가는 연관이 없습니다 악몽과 양자의 차이는 뭔가요 이렇게 물어보시는 분도 있습니다 앙'), Document(id='a53eaea2-7c19-4ad5-924b-cf6ec02bbbd3', metadata={'source': 'https://www.youtube.com/watch?v=tR0l8m3j2h8', 'row': 120}, page_content='있었는데 이건 이제 사실이닌 걸로 판명이 났습니다 그래서 둘다 사용할수 있는데 타이레놀 을 조금 더 그냥 하는 전문가들이 많습니다 안전 때문에 큰 차이는 없습니다 그리고 부루펜 을 하루 24시 상모 님의 안 된다 이런 이야기를 보고 처방한 약을 줄여서 먹이는 부모도 있는데 이건 사실이닙니다 부페를 하루 2 4시까지 뭐 이란 지침은 없습니다 심지어 5세 이전에 불편을 먹이지 말라는 이야기를 하는 부모도 있는데 그런 지침 어 수 있는지가 20년도 더 된 칩니다 이제는 일반적으로 부루펜 은 만 6개월부터 먹일 수 있습니다이가 코를 흘리는 소아과 의사의 진료를 받는 것이 안전합니다 요즘은 비데는 진료를 주로 받게 될 것인데 비데 미인이라도 진료를 받는 것이 안전합니다 특별한 문제가 없다면 거라 의 흘려 일하는 것은 너무 걱정하지 마세요 해열제를 먹여도 1 들이지 않는 경우가 드물지 않고 헬지 를 묻고 독어 열로 힘들어하는 경우도 드물지 않습니다 하지만 헬기를 제대로 모르고 있다면 고 1이 나도 대개는 며칠 4를 드리고이 상태가 좋지게 됩니다 다른 이상이 없단 말입니다 담은 진료를 받고 약을 처방받아서 문의는 중이라도이 상태를 잘 이해할 수 없구나 부모가 너무 걱정이 되는 경우는 다시 소아과 의사의 진료를 받고 상의하는 것이 좋습니다 그리고 열이 있던 어떤 다음의 증상이 있는 경우는 바로 소아과 사에 진료 봤구나 191 악을 해야 하는 위험 정상이 대해서 내용을 더 붙여 드리니까 참고하시기 바랍니다 위험 정상 이야기입니다 집에서 자가 격리하고 증상에 따른 약을 의사에게 처방받고 문이다 가도 다음과 같은 증상이 생기는 바로 소아과 사와 상의하는 것이 좋습니다이 기침이 심해지거나 숨쉬기 힘들 하거나 가슴이 수 틀에서 하는 경우 좀 골라조 물을 삼키기 힘들 하거나 소변을 잘 보지 않고 탈 정상이 보는 것도 올라갑니다 입수 니라 얼굴이나 손톱이 창대 이 보이거나 파랗게 배워도 올라갑니다 가슴이프다거나 답답해 하거나 기운이 없어지면서 너무 힘없이 늘어져 보이는 경우도 곤란하죠')]\n",
      "\n",
      "    #Question:\n",
      "    아프다\n",
      "\n",
      "    #Answer:\n",
      "    \n"
     ]
    }
   ],
   "source": [
    "print(result)"
   ]
  },
  {
   "cell_type": "code",
   "execution_count": null,
   "metadata": {},
   "outputs": [],
   "source": []
  }
 ],
 "metadata": {
  "kernelspec": {
   "display_name": ".venv",
   "language": "python",
   "name": "python3"
  },
  "language_info": {
   "codemirror_mode": {
    "name": "ipython",
    "version": 3
   },
   "file_extension": ".py",
   "mimetype": "text/x-python",
   "name": "python",
   "nbconvert_exporter": "python",
   "pygments_lexer": "ipython3",
   "version": "3.12.9"
  }
 },
 "nbformat": 4,
 "nbformat_minor": 2
}
